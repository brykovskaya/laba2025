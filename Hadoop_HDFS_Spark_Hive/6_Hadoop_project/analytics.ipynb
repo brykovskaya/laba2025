{
 "cells": [
  {
   "cell_type": "markdown",
   "id": "5080e671-138c-49af-bff6-29b377adeabb",
   "metadata": {},
   "source": [
    "## ✨ Проект аналитики данных с использованием \n",
    "### HDFS, Spark и Hive в Jupyter Notebook  ✨ \n",
    "### Шаги реализации\n",
    "\n",
    "1. Установка компонентов (Spark, Hive, Hadoop, Jupyter)\n",
    "1. Создание структуры проекта\n",
    "1. Чтение данных из HDFS с помощью Spark\n",
    "1. Обработка данных (группировка, агрегация)\n",
    "1. Сохранение результатов в HDFS\n",
    "1. Интеграция с Hive\n",
    "1. Визуализация результатов"
   ]
  },
  {
   "cell_type": "markdown",
   "id": "077e97a8-8c13-4125-af51-45c111659470",
   "metadata": {},
   "source": [
    "#### Подключение к HDFS"
   ]
  },
  {
   "cell_type": "code",
   "execution_count": 1,
   "id": "7e5ee044-b353-4be6-8e9d-78adbffc237a",
   "metadata": {},
   "outputs": [
    {
     "data": {
      "text/plain": [
       "32512"
      ]
     },
     "execution_count": 1,
     "metadata": {},
     "output_type": "execute_result"
    }
   ],
   "source": [
    "from pyspark.sql import SparkSession\n",
    "import os\n",
    "\n",
    "# Инициализация SparkSession\n",
    "spark = SparkSession.builder \\\n",
    "    .appName(\"HDFS_Spark_Hive_Analytics\") \\\n",
    "    .config(\"spark.hadoop.fs.defaultFS\", \"hdfs://namenode:9000\") \\\n",
    "    .config(\"hive.metastore.uris\", \"thrift://hive-metastore:9083\") \\\n",
    "    .enableHiveSupport() \\\n",
    "    .getOrCreate()\n",
    "# Проверка подключения к HDFS\n",
    "os.system(\"hdfs dfs -ls /data\")"
   ]
  },
  {
   "cell_type": "markdown",
   "id": "9f2b3246-8f49-442c-9400-fd66d2a6d245",
   "metadata": {},
   "source": [
    "### Чтение и запись данных с использованием Spark\n"
   ]
  },
  {
   "cell_type": "code",
   "execution_count": 2,
   "id": "c09c1f73-5fa0-4d8b-951a-9157bbf37a12",
   "metadata": {},
   "outputs": [
    {
     "name": "stdout",
     "output_type": "stream",
     "text": [
      "+--------+-----+\n",
      "|category|value|\n",
      "+--------+-----+\n",
      "|       A|   50|\n",
      "|       B|   75|\n",
      "|       A|   25|\n",
      "|       C|  100|\n",
      "|       B|   60|\n",
      "|       C|   40|\n",
      "|       C|   80|\n",
      "|       A|   55|\n",
      "|       B|   95|\n",
      "|       D|   10|\n",
      "+--------+-----+\n",
      "\n",
      "+--------+----------+\n",
      "|category|sum(value)|\n",
      "+--------+----------+\n",
      "|       B|       230|\n",
      "|       D|        10|\n",
      "|       C|       220|\n",
      "|       A|       130|\n",
      "+--------+----------+\n",
      "\n"
     ]
    }
   ],
   "source": [
    "# Чтение данных из HDFS\n",
    "df = spark.read.csv(\"hdfs://namenode:9000/data/input_data.csv\", header=True, inferSchema=True)\n",
    "# Показать данные\n",
    "df.show()\n",
    "# Применение трансформаций (например, группировка и агрегация)\n",
    "result_df = df.groupBy(\"category\").agg({\"value\": \"sum\"})\n",
    "result_df.show()\n",
    "# Запись результата обратно в HDFS\n",
    "result_df.write.csv(\"hdfs://namenode:9000/data/output_data.csv\", header=True, mode=\"overwrite\")"
   ]
  },
  {
   "cell_type": "markdown",
   "id": "3a076d4b-034d-4939-916f-4dc15429f73c",
   "metadata": {},
   "source": [
    "### Теперь мы можем интегрироваться с Hive и выполнять SQL-запросы:"
   ]
  },
  {
   "cell_type": "code",
   "execution_count": 3,
   "id": "e659c7dc-f963-4ff2-9b07-94e8d571dfbe",
   "metadata": {},
   "outputs": [
    {
     "name": "stdout",
     "output_type": "stream",
     "text": [
      "+--------+-----+\n",
      "|category|value|\n",
      "+--------+-----+\n",
      "|       B|230.0|\n",
      "|       C|220.0|\n",
      "|       A|130.0|\n",
      "+--------+-----+\n",
      "\n"
     ]
    }
   ],
   "source": [
    "# Создание таблицы в Hive\n",
    "spark.sql(\"\"\"\n",
    "CREATE TABLE IF NOT EXISTS analytics_data (\n",
    "    category STRING,\n",
    "    value FLOAT\n",
    ") USING hive\n",
    "\"\"\")\n",
    "# Заполнение таблицы данными из DataFrame\n",
    "result_df.createOrReplaceTempView(\"temp_data\")\n",
    "spark.sql(\"INSERT INTO TABLE analytics_data SELECT * FROM temp_data\")\n",
    "# Выполнение SQL-запроса к таблице Hive\n",
    "hive_results = spark.sql(\"SELECT * FROM analytics_data WHERE value > 100\")\n",
    "hive_results.show()"
   ]
  },
  {
   "cell_type": "markdown",
   "id": "191af0ea-3bb9-4c9d-93e6-73dee28f8026",
   "metadata": {},
   "source": [
    "### Анализ и визуализация данных"
   ]
  },
  {
   "cell_type": "code",
   "execution_count": 4,
   "id": "7c06719b-71eb-44d7-8dc3-ebee85c31075",
   "metadata": {},
   "outputs": [
    {
     "data": {
      "image/png": "[encoded data removed]",
      "text/plain": [
       "<Figure size 640x480 with 1 Axes>"
      ]
     },
     "metadata": {},
     "output_type": "display_data"
    }
   ],
   "source": [
    "import matplotlib.pyplot as plt\n",
    "# Преобразуем результаты в Pandas DataFrame для визуализации\n",
    "pdf = hive_results.toPandas()\n",
    "\n",
    "# Визуализация данных\n",
    "pdf.plot(kind='bar', x='category', y='value', title='Analytics Data', legend=False)\n",
    "plt.ylabel('Sum of Values')\n",
    "plt.show()"
   ]
  },
  {
   "cell_type": "markdown",
   "id": "39d1b07f-4c7e-4d1d-9e73-cbd2462cf575",
   "metadata": {},
   "source": [
    "### Вычислим долю каждой категории в общем объёме (value) и визуализируем её как круговую диаграмму (pie chart) "
   ]
  },
  {
   "cell_type": "code",
   "execution_count": 6,
   "id": "2c3179f7-a03e-4a4a-846b-19e7a2af9e4a",
   "metadata": {},
   "outputs": [
    {
     "data": {
      "text/html": [
       "<div>\n",
       "<style scoped>\n",
       "    .dataframe tbody tr th:only-of-type {\n",
       "        vertical-align: middle;\n",
       "    }\n",
       "\n",
       "    .dataframe tbody tr th {\n",
       "        vertical-align: top;\n",
       "    }\n",
       "\n",
       "    .dataframe thead th {\n",
       "        text-align: right;\n",
       "    }\n",
       "</style>\n",
       "<table border=\"1\" class=\"dataframe\">\n",
       "  <thead>\n",
       "    <tr style=\"text-align: right;\">\n",
       "      <th></th>\n",
       "      <th>category</th>\n",
       "      <th>value</th>\n",
       "      <th>percent</th>\n",
       "    </tr>\n",
       "  </thead>\n",
       "  <tbody>\n",
       "    <tr>\n",
       "      <th>0</th>\n",
       "      <td>B</td>\n",
       "      <td>230.0</td>\n",
       "      <td>39.66</td>\n",
       "    </tr>\n",
       "    <tr>\n",
       "      <th>1</th>\n",
       "      <td>C</td>\n",
       "      <td>220.0</td>\n",
       "      <td>37.93</td>\n",
       "    </tr>\n",
       "    <tr>\n",
       "      <th>2</th>\n",
       "      <td>A</td>\n",
       "      <td>130.0</td>\n",
       "      <td>22.41</td>\n",
       "    </tr>\n",
       "  </tbody>\n",
       "</table>\n",
       "</div>"
      ],
      "text/plain": [
       "  category  value  percent\n",
       "0        B  230.0    39.66\n",
       "1        C  220.0    37.93\n",
       "2        A  130.0    22.41"
      ]
     },
     "execution_count": 6,
     "metadata": {},
     "output_type": "execute_result"
    }
   ],
   "source": [
    "hive_results_pd = hive_results.toPandas()\n",
    "\n",
    "total_value = hive_results_pd[\"value\"].sum()\n",
    "hive_results_pd[\"percent\"] = (hive_results_pd[\"value\"] / total_value) * 100\n",
    "hive_results_pd[\"percent\"] = hive_results_pd[\"percent\"].round(2)\n",
    "hive_results_pd[[\"category\", \"value\", \"percent\"]]\n"
   ]
  },
  {
   "cell_type": "code",
   "execution_count": 7,
   "id": "6108e830-3507-4708-a88a-0392d21f95f3",
   "metadata": {},
   "outputs": [
    {
     "data": {
      "image/png": "[encoded data removed]",
      "text/plain": [
       "<Figure size 600x600 with 1 Axes>"
      ]
     },
     "metadata": {},
     "output_type": "display_data"
    }
   ],
   "source": [
    "plt.figure(figsize=(6,6))\n",
    "plt.pie(\n",
    "    hive_results_pd[\"value\"],\n",
    "    labels=hive_results_pd[\"category\"],\n",
    "    autopct='%1.1f%%',\n",
    "    startangle=140\n",
    ")\n",
    "plt.title(\"Доля категорий в общей сумме значений\")\n",
    "plt.axis('equal')\n",
    "plt.show()"
   ]
  },
  {
   "cell_type": "code",
   "execution_count": null,
   "id": "331345d5-bfd1-4047-883d-9969112d5ceb",
   "metadata": {},
   "outputs": [],
   "source": []
  }
 ],
 "metadata": {
  "kernelspec": {
   "display_name": "Python 3 (ipykernel)",
   "language": "python",
   "name": "python3"
  },
  "language_info": {
   "codemirror_mode": {
    "name": "ipython",
    "version": 3
   },
   "file_extension": ".py",
   "mimetype": "text/x-python",
   "name": "python",
   "nbconvert_exporter": "python",
   "pygments_lexer": "ipython3",
   "version": "3.12.7"
  }
 },
 "nbformat": 4,
 "nbformat_minor": 5
}
