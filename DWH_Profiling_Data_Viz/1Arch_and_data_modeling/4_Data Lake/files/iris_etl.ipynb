{
 "cells": [
  {
   "cell_type": "code",
   "execution_count": 14,
   "id": "994e81f1-75d0-4e1c-90ff-177ed232eefc",
   "metadata": {},
   "outputs": [],
   "source": [
    "import pandas as pd \n",
    "import boto3\n",
    "from io import StringIO\n",
    "import numpy as np"
   ]
  },
  {
   "cell_type": "code",
   "execution_count": 15,
   "id": "c6db7979-ee6c-4d8b-a7aa-2a8406eb8358",
   "metadata": {},
   "outputs": [],
   "source": [
    "session =boto3.session.Session()\n",
    "s3 = session.client(\n",
    "    service_name ='s3',\n",
    "    endpoint_url ='https://storage.yandexcloud.net/',\n",
    "    aws_access_key_id ='YCAJEwnMU9buPdj6Uk3NV5LmG',\n",
    "    aws_secret_access_key ='YCPQy22uGBgPb-_pUgHRFx09fnfF-MapLWG2ojQx')\n",
    "\n",
    "bucket = 'laboratory-ba'\n",
    "file_name='mz_iris.csv'\n",
    "\n",
    "response =s3.get_object(Bucket=bucket,Key=file_name)\n",
    "data =response['Body'].read().decode('utf-8')"
   ]
  },
  {
   "cell_type": "code",
   "execution_count": 16,
   "id": "edb2fb05-d8dd-429f-90a7-ebaf5845c0c8",
   "metadata": {},
   "outputs": [],
   "source": [
    "df = pd.read_csv(StringIO(data))"
   ]
  },
  {
   "cell_type": "code",
   "execution_count": 17,
   "id": "af027336-29c4-42a3-9e6b-cf6d9acb5392",
   "metadata": {},
   "outputs": [
    {
     "name": "stdout",
     "output_type": "stream",
     "text": [
      "Id                 int64\n",
      "SepalLengthCm    float64\n",
      "SepalWidthCm     float64\n",
      "PetalLengthCm    float64\n",
      "PetalWidthCm     float64\n",
      "Species           object\n",
      "dtype: object\n"
     ]
    }
   ],
   "source": [
    "numeric_cols = df.select_dtypes(include=['float64', 'int64']).columns.tolist()\n",
    "for column in df.columns:\n",
    "    if df[column].dtype == 'float64' or df[column].dtype == 'int64':\n",
    "        df[column] = df[column].fillna(df[column].median())\n",
    "print(df.dtypes)\n",
    "for col in numeric_cols:\n",
    "    Q1 = df[col].quantile(0.25)\n",
    "    Q3 = df[col].quantile(0.75)\n",
    "    IQR = Q3 - Q1\n",
    "    df = df[(df[col] >= (Q1 - 1.5 * IQR)) & (df[col] <= (Q3 + 1.5 * IQR))]"
   ]
  },
  {
   "cell_type": "code",
   "execution_count": 18,
   "id": "35907eab-8cef-4e0c-bd61-5485fd6294e0",
   "metadata": {},
   "outputs": [
    {
     "data": {
      "text/plain": [
       "{'ResponseMetadata': {'RequestId': '054af4e9eb0204b9',\n",
       "  'HostId': '',\n",
       "  'HTTPStatusCode': 200,\n",
       "  'HTTPHeaders': {'server': 'nginx',\n",
       "   'date': 'Wed, 19 Mar 2025 09:06:52 GMT',\n",
       "   'content-type': 'application/octet-stream',\n",
       "   'transfer-encoding': 'chunked',\n",
       "   'connection': 'keep-alive',\n",
       "   'keep-alive': 'timeout=60',\n",
       "   'etag': '\"702acd11472138307ed78edfd935aeea\"',\n",
       "   'x-amz-expiration': 'expiry-date=\"Wed, 18 Jun 2025 00:00:00 GMT\", rule-id=\"%D0%A3%D0%B4%D0%B0%D0%BB%D1%8F%D0%B5%D0%BC%20%D1%84%D0%B0%D0%B9%D0%BB%D1%8B%20%D1%81%D1%82%D0%B0%D1%80%D1%88%D0%B5%2090%20%D0%B4%D0%BD%D0%B5%D0%B9\"',\n",
       "   'x-amz-request-id': '054af4e9eb0204b9',\n",
       "   'x-amz-storage-class': 'COLD'},\n",
       "  'RetryAttempts': 0},\n",
       " 'Expiration': 'expiry-date=\"Wed, 18 Jun 2025 00:00:00 GMT\", rule-id=\"%D0%A3%D0%B4%D0%B0%D0%BB%D1%8F%D0%B5%D0%BC%20%D1%84%D0%B0%D0%B9%D0%BB%D1%8B%20%D1%81%D1%82%D0%B0%D1%80%D1%88%D0%B5%2090%20%D0%B4%D0%BD%D0%B5%D0%B9\"',\n",
       " 'ETag': '\"702acd11472138307ed78edfd935aeea\"'}"
      ]
     },
     "execution_count": 18,
     "metadata": {},
     "output_type": "execute_result"
    }
   ],
   "source": [
    "csv_buffer =StringIO()\n",
    "df.to_csv(csv_buffer,index =False)\n",
    "s3.put_object(Bucket=bucket,Key ='mz_iris_clean.csv', Body = csv_buffer.getvalue())"
   ]
  }
 ],
 "metadata": {
  "kernelspec": {
   "display_name": "Python 3 (ipykernel)",
   "language": "python",
   "name": "python3"
  },
  "language_info": {
   "codemirror_mode": {
    "name": "ipython",
    "version": 3
   },
   "file_extension": ".py",
   "mimetype": "text/x-python",
   "name": "python",
   "nbconvert_exporter": "python",
   "pygments_lexer": "ipython3",
   "version": "3.12.2"
  }
 },
 "nbformat": 4,
 "nbformat_minor": 5
}
