{
 "cells": [
  {
   "cell_type": "markdown",
   "id": "5b517239",
   "metadata": {},
   "source": [
    "# 🦸 Профилирование и анализ данных 🦸\n",
    "## 🖧 Профилирование данных\n",
    "\n",
    "### Упражнение - Профилирование данных\n",
    "Пример:  \n",
    "-Перед построением модели машинного обучения, аналитик использует профилирование для выявления пропущенных значений и выбросов в данных.\n",
    "\n",
    "Упражнение:  \n",
    "-Используя выбранный вами инструмент, выполните профилирование набора данных. Проанализируйте полученные результаты и определите потенциальные проблемы с данными\n",
    "\n",
    "#### ✅ РЕШЕНИЕ ✅\n",
    "\n",
    "Многие этапы профилирования данных типичны для разных наборов данных и проектов. \n",
    "\n",
    "Профилирование данных обычно включает такие задачи, как применение описательной статистики для каждого столбца, определение объёма отсутствующих значений и разбор взаимодействий и корреляций переменных.\n",
    "\n",
    "Эти задачи бывают довольно рутинными, поэтому для автоматизации профилирования данных разработали ряд библиотек Python"
   ]
  },
  {
   "cell_type": "markdown",
   "id": "b9542ea1",
   "metadata": {},
   "source": [
    "### 1. Установка всех библиотек и модулей:\n",
    "Убедитесь, что у вас установлена библиотека ydata-profiling. Если нет, установите ее с помощью pip"
   ]
  },
  {
   "cell_type": "code",
   "execution_count": 18,
   "id": "a0cf3e35",
   "metadata": {},
   "outputs": [
    {
     "name": "stdout",
     "output_type": "stream",
     "text": [
      "Name: ydata-profiling\n",
      "Version: 4.16.1\n",
      "Summary: Generate profile report for pandas DataFrame\n",
      "Home-page: https://ydata.ai\n",
      "Author: \n",
      "Author-email: YData Labs Inc <opensource@ydata.ai>\n",
      "License: \n",
      "Location: C:\\Users\\79181\\anaconda3\\Lib\\site-packages\n",
      "Requires: dacite, htmlmin, imagehash, jinja2, matplotlib, multimethod, numba, numpy, pandas, phik, pydantic, PyYAML, requests, scipy, seaborn, statsmodels, tqdm, typeguard, visions, wordcloud\n",
      "Required-by: \n"
     ]
    }
   ],
   "source": [
    " # Если библиотека установлена, команда покажет её версию\n",
    "!pip show ydata-profiling\n",
    "# !pip install -U ydata-profiling"
   ]
  },
  {
   "cell_type": "code",
   "execution_count": 19,
   "id": "0ae6d36f",
   "metadata": {},
   "outputs": [],
   "source": [
    " # убираем warnings\n",
    "def warn(*args, **kwargs):\n",
    "    pass\n",
    "import warnings\n",
    "warnings.warn = warn\n",
    "\n",
    "import pandas as pd\n",
    "from ydata_profiling import ProfileReport"
   ]
  },
  {
   "cell_type": "markdown",
   "id": "36e10e9e",
   "metadata": {},
   "source": [
    "### 2. Подготовка данных\n",
    "Для примера возьмем датасет. Загрузим его и выведем первые несколько строк:"
   ]
  },
  {
   "cell_type": "code",
   "execution_count": 20,
   "id": "1c3fcb15",
   "metadata": {},
   "outputs": [
    {
     "data": {
      "text/html": [
       "<div>\n",
       "<style scoped>\n",
       "    .dataframe tbody tr th:only-of-type {\n",
       "        vertical-align: middle;\n",
       "    }\n",
       "\n",
       "    .dataframe tbody tr th {\n",
       "        vertical-align: top;\n",
       "    }\n",
       "\n",
       "    .dataframe thead th {\n",
       "        text-align: right;\n",
       "    }\n",
       "</style>\n",
       "<table border=\"1\" class=\"dataframe\">\n",
       "  <thead>\n",
       "    <tr style=\"text-align: right;\">\n",
       "      <th></th>\n",
       "      <th>id</th>\n",
       "      <th>first_day_exposition</th>\n",
       "      <th>days_exposition</th>\n",
       "      <th>last_price</th>\n",
       "    </tr>\n",
       "  </thead>\n",
       "  <tbody>\n",
       "    <tr>\n",
       "      <th>0</th>\n",
       "      <td>0</td>\n",
       "      <td>2019-03-07</td>\n",
       "      <td>NaN</td>\n",
       "      <td>13000000.0</td>\n",
       "    </tr>\n",
       "    <tr>\n",
       "      <th>1</th>\n",
       "      <td>1</td>\n",
       "      <td>2018-12-04</td>\n",
       "      <td>81.0</td>\n",
       "      <td>3350000.0</td>\n",
       "    </tr>\n",
       "    <tr>\n",
       "      <th>2</th>\n",
       "      <td>2</td>\n",
       "      <td>2015-08-20</td>\n",
       "      <td>558.0</td>\n",
       "      <td>5196000.0</td>\n",
       "    </tr>\n",
       "    <tr>\n",
       "      <th>3</th>\n",
       "      <td>3</td>\n",
       "      <td>2015-07-24</td>\n",
       "      <td>424.0</td>\n",
       "      <td>64900000.0</td>\n",
       "    </tr>\n",
       "    <tr>\n",
       "      <th>4</th>\n",
       "      <td>4</td>\n",
       "      <td>2018-06-19</td>\n",
       "      <td>121.0</td>\n",
       "      <td>10000000.0</td>\n",
       "    </tr>\n",
       "  </tbody>\n",
       "</table>\n",
       "</div>"
      ],
      "text/plain": [
       "   id first_day_exposition  days_exposition  last_price\n",
       "0   0           2019-03-07              NaN  13000000.0\n",
       "1   1           2018-12-04             81.0   3350000.0\n",
       "2   2           2015-08-20            558.0   5196000.0\n",
       "3   3           2015-07-24            424.0  64900000.0\n",
       "4   4           2018-06-19            121.0  10000000.0"
      ]
     },
     "execution_count": 20,
     "metadata": {},
     "output_type": "execute_result"
    }
   ],
   "source": [
    "df = pd.read_csv('data/advertisement.csv')\n",
    "df.head()"
   ]
  },
  {
   "cell_type": "markdown",
   "id": "91cca4fd",
   "metadata": {},
   "source": [
    "###  3.Создание отчета профилирования:\n",
    "Создадим отчет профилирования с помощью ProfileReport:"
   ]
  },
  {
   "cell_type": "code",
   "execution_count": 21,
   "id": "71da8a8e",
   "metadata": {},
   "outputs": [
    {
     "data": {
      "application/vnd.jupyter.widget-view+json": {
       "model_id": "d5e25865551740fd87321af9bd4b7303",
       "version_major": 2,
       "version_minor": 0
      },
      "text/plain": [
       "Summarize dataset:   0%|          | 0/5 [00:00<?, ?it/s]"
      ]
     },
     "metadata": {},
     "output_type": "display_data"
    },
    {
     "name": "stderr",
     "output_type": "stream",
     "text": [
      "\n",
      "  0%|          | 0/4 [00:00<?, ?it/s]\u001b[A\n",
      "100%|██████████| 4/4 [00:00<00:00, 19.61it/s]\u001b[A\n"
     ]
    },
    {
     "data": {
      "application/vnd.jupyter.widget-view+json": {
       "model_id": "6b2864a2fa294e8184ab060e0289becc",
       "version_major": 2,
       "version_minor": 0
      },
      "text/plain": [
       "Generate report structure:   0%|          | 0/1 [00:00<?, ?it/s]"
      ]
     },
     "metadata": {},
     "output_type": "display_data"
    },
    {
     "data": {
      "application/vnd.jupyter.widget-view+json": {
       "model_id": "a042cd84a55841bba18734d22c142455",
       "version_major": 2,
       "version_minor": 0
      },
      "text/plain": [
       "Render HTML:   0%|          | 0/1 [00:00<?, ?it/s]"
      ]
     },
     "metadata": {},
     "output_type": "display_data"
    },
    {
     "data": {
      "application/vnd.jupyter.widget-view+json": {
       "model_id": "1547c3bb91a244d4af1da8372c1ae921",
       "version_major": 2,
       "version_minor": 0
      },
      "text/plain": [
       "Export report to file:   0%|          | 0/1 [00:00<?, ?it/s]"
      ]
     },
     "metadata": {},
     "output_type": "display_data"
    }
   ],
   "source": [
    "profile = ProfileReport(\n",
    "    df, \n",
    "    title=\"advertisement Profiling Report\", \n",
    "    explorative=True)\n",
    "\n",
    "profile.to_file('data/advertisement_report.html')"
   ]
  },
  {
   "cell_type": "markdown",
   "id": "38f20f60",
   "metadata": {},
   "source": [
    "#### 4.Анализ отчета:\n",
    "Откроем файл отчета в браузере. \n",
    "\n",
    "Он содержит:\n",
    "\n",
    "Обзор данных: \n",
    "Dataset statistics\n",
    "\n",
    " - Number of variables\t4\n",
    " - Number of observations\t23650\n",
    " - Missing cells\t3180\n",
    " - Missing cells (%)\t3.4%\n",
    " - Duplicate rows\t0\n",
    " - Duplicate rows (%)\t0.0%\n",
    " - Total size in memory\t739.2 KiB\n",
    " - Average record size in memory\t32.0 B\n",
    "\n",
    "информация о количестве строк, столбцов, типах данных, пропущенных значениях.\n",
    "![](../images/02_02_10.png)\n",
    "\n",
    "Статистика по каждому столбцу:\n",
    "Для числовых столбцов: гистограмма распределения, среднее, медиана, минимум, максимум, стандартное отклонение и т.д.\n",
    "\n",
    "Для категориальных столбцов: количество уникальных значений, частота встречаемости каждого значения.\n",
    "\n",
    "---\n",
    "![](../images/02_02_11.png)\n",
    "![](../images/02_02_12.png)\n",
    "\n",
    "Матрица корреляции:  \n",
    "показывает взаимосвязь между числовыми столбцами.\n",
    "\n",
    " Взаимодействия:  позволяет визуализировать взаимосвязи между парами столбцов.\n",
    "\n",
    " Пропущенные значения:  визуализация пропущенных значений в каждом столбце.\n",
    "\n",
    "Если проанализировать весь отчет, это можно сделать такие предварительные выводы\n",
    "столбцы: \n",
    " - days_exposition has 3180 (13.4%) missing values\tMissing\n",
    " - last_price is highly skewed (γ1 = 25.79081145)\tSkewed\n",
    " - id is uniformly distributed\tUniform\n",
    " - id has unique values\tUnique\n",
    " \n",
    "Можно увидеть минимальную, максимальную стоиомсть недвижимости, гистограмму распределения.\n",
    "\n",
    "Можно сделать предварительные выводы - достаточно ли данных для исследования, сколько пропусков, какие столбцы нужно иссследовать тщательнее. \n",
    "\n",
    "В нашем случае - пропуски - это вариант нормы, т.к. пропуск может означать то, что объявление актуально и объект еще не продан. \n",
    "\n",
    "Результаты профилирования удобно использовать для подробного описания данных. Ведь отчет предоставлен в удобной форме для исследования."
   ]
  },
  {
   "cell_type": "code",
   "execution_count": null,
   "id": "e9df2c95",
   "metadata": {},
   "outputs": [],
   "source": []
  }
 ],
 "metadata": {
  "kernelspec": {
   "display_name": "Python 3 (ipykernel)",
   "language": "python",
   "name": "python3"
  },
  "language_info": {
   "codemirror_mode": {
    "name": "ipython",
    "version": 3
   },
   "file_extension": ".py",
   "mimetype": "text/x-python",
   "name": "python",
   "nbconvert_exporter": "python",
   "pygments_lexer": "ipython3",
   "version": "3.12.3"
  }
 },
 "nbformat": 4,
 "nbformat_minor": 5
}
