{
 "cells": [
  {
   "cell_type": "markdown",
   "id": "01d21582-08bf-43f9-b608-5d5021cd23cd",
   "metadata": {},
   "source": [
    "# 👉👈 Clickhouse и аналитика.\n",
    "\n",
    "## 👨🏻‍💻 Упр. - Структуры данных и хранение\n",
    "#### 🤹\n",
    "Файл docker-compose.yml\n",
    "\n",
    "![](../images/01_02.png)<br>\n",
    "\n",
    "```\n",
    "version: '3.8'\n",
    "services:\n",
    "  clickhouse:\n",
    "    image: clickhouse/clickhouse-server:latest\n",
    "    volumes:\n",
    "      - clickhouse_data:/var/lib/clickhouse\n",
    "\n",
    "    ports:\n",
    "      - \"8123:8123\"  # HTTP интерфейс\n",
    "      - \"9000:9000\"  # Native интерфейс\n",
    "    environment:\n",
    "      - CLICKHOUSE_USER=default\n",
    "      - CLICKHOUSE_PASSWORD=your_password\n",
    "      - CLICKHOUSE_DB=default\n",
    "volumes:\n",
    "  clickhouse_data:\n",
    "```\n",
    "#### 🤹 \n",
    "Поднимаем docker-compose и заходим в контейнер\n",
    "![](../images/01_03.png)<br>\n",
    "![](../images/01_04.png)<br>\n",
    "\n",
    "#### 🤹\n",
    "Запускаю встроенный клиент Clickhouse\n",
    "\n",
    "![](../images/01_05.png)<br>\n",
    "\n",
    "#### 🤹\n",
    "Создаю таблицу. Выбираю MergeTree как основной движок, потому что он поддерживает первичные ключи. В качестве первичного ключа логично взять UserID.\n",
    "![](../images/01_06.png)<br>\n",
    "\n",
    "#### 🤹\n",
    "Заполняю таблицу данными\n",
    "![](../images/01_07.png)<br>\n",
    "\n",
    "проверим - данных мало - выберем все поля и строки в таблице\n",
    "![](../images/01_08.png)<br>\n",
    "\n",
    "#### 🤹Выполняю запросы:\n",
    "\n",
    "Количество пользователей и средняя длина имени\n",
    "![](../images/01_09.png)<br>\n",
    "\n",
    "Количество регистраций по месяцам\n",
    "![](../images/01_10.png)<br>\n",
    "\n",
    "## 👨🏻‍💻 Упр. - Обработка и анализ данных\n",
    "\n",
    "Добавьте несколько записей в созданную вами таблицу пользователей.\n",
    "\n",
    "#### 🤹\n",
    "Добавляю еще несколько пользователей\n",
    "![](../images/01_11.png)<br>\n",
    "#### 🤹\n",
    "Напишите запрос, который выводит количество зарегистрированных пользователей за каждый месяц.\n",
    "\n",
    "Количество зарегистрированных пользователей по месяцам\n",
    "![](../images/01_12.png)<br>\n",
    "\n",
    "Для начала добавим еще пользователей, которые зарегистрированы более года назад.\n",
    "\n",
    "![](../images/01_13.png)<br>\n",
    "\n",
    "при добавлении ошибочно id пользователей указан дублирующий уже имеющиеся. Все строки записаны\n",
    "![](../images/01_14.png)<br>\n",
    "\n",
    "\n",
    "Напишите запрос, который находит пользователей, зарегистрированных более года назад.\n",
    "![](../images/01_15.png)<br>\n",
    "\n",
    "## 👨🏻‍💻 Упр. Упр. - Интеграция и расширенные возможности\n",
    "\n",
    "Изучите документацию ClickHouse для выбранного вами инструмента визуализации и подключитесь к созданной вами базе данных.\n",
    "Создайте простой отчет, визуализирующий данные из вашей таблицы.\n",
    "Изучите возможности репликации данных в ClickHouse и настройте реплицированную таблицу.\n",
    "\n",
    "#### 🤹\n",
    "\n",
    "Загрузим данные в dataframe pandas. Для подключения будем использовать библиотеку clickhouse_connect."
   ]
  },
  {
   "cell_type": "code",
   "execution_count": 2,
   "id": "ec348601-c554-4301-97a9-fecf43279422",
   "metadata": {},
   "outputs": [
    {
     "name": "stdout",
     "output_type": "stream",
     "text": [
      "Collecting clickhouse_connect\n",
      "  Downloading clickhouse_connect-0.8.17-cp312-cp312-win_amd64.whl.metadata (3.5 kB)\n",
      "Requirement already satisfied: certifi in c:\\users\\79181\\anaconda3\\lib\\site-packages (from clickhouse_connect) (2025.1.31)\n",
      "Requirement already satisfied: urllib3>=1.26 in c:\\users\\79181\\anaconda3\\lib\\site-packages (from clickhouse_connect) (2.2.3)\n",
      "Requirement already satisfied: pytz in c:\\users\\79181\\anaconda3\\lib\\site-packages (from clickhouse_connect) (2024.1)\n",
      "Requirement already satisfied: zstandard in c:\\users\\79181\\anaconda3\\lib\\site-packages (from clickhouse_connect) (0.23.0)\n",
      "Requirement already satisfied: lz4 in c:\\users\\79181\\anaconda3\\lib\\site-packages (from clickhouse_connect) (4.3.2)\n",
      "Downloading clickhouse_connect-0.8.17-cp312-cp312-win_amd64.whl (247 kB)\n",
      "Installing collected packages: clickhouse_connect\n",
      "Successfully installed clickhouse_connect-0.8.17\n",
      "Note: you may need to restart the kernel to use updated packages.\n"
     ]
    }
   ],
   "source": [
    "pip install clickhouse_connect"
   ]
  },
  {
   "cell_type": "code",
   "execution_count": null,
   "id": "e3eafc3c-8e62-4a86-b91d-9f8c24342007",
   "metadata": {},
   "outputs": [],
   "source": [
    "import clickhouse_connect\n",
    "import pandas as pd\n",
    "\n",
    "# Подключение к ClickHouse\n",
    "client = clickhouse_connect.get_client(host='localhost', \n",
    "                                       port=8123, \n",
    "                                       username='default', \n",
    "                                       password='your_password')"
   ]
  },
  {
   "cell_type": "markdown",
   "id": "8a877a81-1a76-45b3-9339-fe138e573b83",
   "metadata": {},
   "source": [
    "Создадим простой отчет, визуализирующий данные из нашей таблицы - количество регистраций по годам."
   ]
  },
  {
   "cell_type": "code",
   "execution_count": null,
   "id": "a6dda4aa-18de-4a03-b53a-a4117ec44a5a",
   "metadata": {},
   "outputs": [
    {
     "data": {
      "text/html": [
       "<div>\n",
       "<style scoped>\n",
       "    .dataframe tbody tr th:only-of-type {\n",
       "        vertical-align: middle;\n",
       "    }\n",
       "\n",
       "    .dataframe tbody tr th {\n",
       "        vertical-align: top;\n",
       "    }\n",
       "\n",
       "    .dataframe thead th {\n",
       "        text-align: right;\n",
       "    }\n",
       "</style>\n",
       "<table border=\"1\" class=\"dataframe\">\n",
       "  <thead>\n",
       "    <tr style=\"text-align: right;\">\n",
       "      <th></th>\n",
       "      <th>year</th>\n",
       "      <th>cnt</th>\n",
       "    </tr>\n",
       "  </thead>\n",
       "  <tbody>\n",
       "    <tr>\n",
       "      <th>0</th>\n",
       "      <td>2020</td>\n",
       "      <td>1</td>\n",
       "    </tr>\n",
       "    <tr>\n",
       "      <th>1</th>\n",
       "      <td>2023</td>\n",
       "      <td>1</td>\n",
       "    </tr>\n",
       "    <tr>\n",
       "      <th>2</th>\n",
       "      <td>2024</td>\n",
       "      <td>1</td>\n",
       "    </tr>\n",
       "    <tr>\n",
       "      <th>3</th>\n",
       "      <td>2025</td>\n",
       "      <td>8</td>\n",
       "    </tr>\n",
       "  </tbody>\n",
       "</table>\n",
       "</div>"
      ],
      "text/plain": [
       "   year  cnt\n",
       "0  2020    1\n",
       "1  2023    1\n",
       "2  2024    1\n",
       "3  2025    8"
      ]
     },
     "execution_count": 25,
     "metadata": {},
     "output_type": "execute_result"
    }
   ],
   "source": [
    "\n",
    "# Запрос для получения количества регистраций по годам\n",
    "query = (\"SELECT toYear(RegistrationDate) AS year, COUNT(*) AS cnt \"\n",
    "         \"FROM users \"\n",
    "         \"GROUP BY year \"\n",
    "         \"ORDER BY year\")\n",
    "\n",
    "# Выгружаем данные в DataFrame\n",
    "df = client.query_df(query)\n",
    "df"
   ]
  },
  {
   "cell_type": "markdown",
   "id": "06e7fa25-f162-41f4-8840-85f8eb7a563d",
   "metadata": {},
   "source": [
    "Визуализируем столбчатой диаграммой."
   ]
  },
  {
   "cell_type": "code",
   "execution_count": 38,
   "id": "d9363490-8e69-4ebb-814b-23569b9768a2",
   "metadata": {
    "scrolled": true
   },
   "outputs": [
    {
     "data": {
      "image/png": "[encoded data removed]",
      "text/plain": [
       "<Figure size 800x300 with 1 Axes>"
      ]
     },
     "metadata": {},
     "output_type": "display_data"
    }
   ],
   "source": [
    "import matplotlib.pyplot as plt\n",
    "import seaborn as sns\n",
    "\n",
    "# Визуализация: столбчатая диаграмма количества регистраций по годам\n",
    "sns.set_style(\"whitegrid\")\n",
    "plt.figure(figsize=(8, 3))\n",
    "\n",
    "splot = sns.barplot(x='year', \n",
    "            y='cnt', \n",
    "            data=df,\n",
    "            edgecolor='black',\n",
    "            color='grey')\n",
    "#добавляем подписи к столбцам со значением   \n",
    "for p in splot.patches: \n",
    "    splot.annotate(format(round(p.get_height(), 3), '.0f'), \n",
    "                   (p.get_x() + p.get_width() / 2., p.get_height()), \n",
    "                   ha='center', va='center', \n",
    "                   size=14, \n",
    "                   xytext=(0, -12), \n",
    "                   textcoords='offset points')\n",
    "    \n",
    "plt.xlabel(\"\")#\"Год\", fontsize=12)\n",
    "plt.ylabel(\"Количество регистраций\", fontsize=12)\n",
    "plt.title(\"Количество регистраций пользователей по годам\", \n",
    "          fontsize=14, fontweight=\"bold\")\n",
    "plt.grid(False)#axis='y')\n",
    "plt.xticks(fontsize=10)\n",
    "plt.yticks(fontsize=10)\n",
    "#уберем правую и верхнюю границы из визуализации данных\n",
    "sns.despine()\n",
    "plt.show()\n"
   ]
  },
  {
   "cell_type": "markdown",
   "id": "f40263bd-1fb3-4275-964a-ea68475941cd",
   "metadata": {},
   "source": [
    "#### 🤹 Изучите возможности репликации данных в ClickHouse и настройте реплицированную таблицу.\n",
    "\n",
    "Создание реплицированной таблицы (требует дополнительной установки ZooKeeper):\n",
    "\n",
    "Изучены возможности репликации данных в Clickhouse\n",
    "Основные шаги:\n",
    "\n",
    "Требуется ZooKeeper\n",
    "Таблицы создаются с движком ReplicatedMergeTree\n",
    "Путь и имя реплики указываются вручную\n",
    "\n",
    "Пример создания реплицируемой таблицы\n",
    "\n",
    "```\n",
    "CREATE TABLE replicated_users ON CLUSTER my_cluster\n",
    "(\n",
    "    UserID UInt32,\n",
    "    Name String,\n",
    "    Email String,\n",
    "    RegistrationDate DateTime\n",
    ")\n",
    "ENGINE = ReplicatedMergeTree(\n",
    "    '/clickhouse/tables/{shard}/replicated_users',\n",
    "    '{replica}'\n",
    ")\n",
    "PRIMARY KEY UserID;\n",
    "\n",
    "```\n",
    "\n",
    " - /clickhouse/tables/{shard}/replicated_users — путь в ZooKeeper.\n",
    " - {replica} — имя реплики (например, replica1, replica2).\n",
    " - Используется в распределенной инсталляции с указанием кластера ON CLUSTER my_cluster\n",
    "\n"
   ]
  },
  {
   "cell_type": "code",
   "execution_count": null,
   "id": "b2aa0528-8cb2-433d-ae14-0abfb95af9b8",
   "metadata": {},
   "outputs": [],
   "source": []
  }
 ],
 "metadata": {
  "kernelspec": {
   "display_name": "Python 3 (ipykernel)",
   "language": "python",
   "name": "python3"
  },
  "language_info": {
   "codemirror_mode": {
    "name": "ipython",
    "version": 3
   },
   "file_extension": ".py",
   "mimetype": "text/x-python",
   "name": "python",
   "nbconvert_exporter": "python",
   "pygments_lexer": "ipython3",
   "version": "3.12.7"
  }
 },
 "nbformat": 4,
 "nbformat_minor": 5
}
