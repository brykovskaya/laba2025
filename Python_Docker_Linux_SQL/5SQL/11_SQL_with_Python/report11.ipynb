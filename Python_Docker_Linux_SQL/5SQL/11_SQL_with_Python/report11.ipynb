{
 "cells": [
  {
   "cell_type": "markdown",
   "id": "d5bd355c-f7cb-4b18-bac1-327775835be8",
   "metadata": {},
   "source": [
    "## ⚡ Упр. - Установка и настройка SQLAlchemy"
   ]
  },
  {
   "cell_type": "code",
   "execution_count": 1,
   "id": "f3c2ae19-5956-46fc-addc-62d2bc54f182",
   "metadata": {},
   "outputs": [],
   "source": [
    "# !pip install sqlalchemy"
   ]
  },
  {
   "cell_type": "code",
   "execution_count": 2,
   "id": "d3b82c60-6674-420c-80e5-cb7cc9c4bc7a",
   "metadata": {},
   "outputs": [],
   "source": [
    "# Драйвер для PostgreSQL\n",
    "# !pip install psycopg2-binary "
   ]
  },
  {
   "cell_type": "markdown",
   "id": "624edfe6-93a3-4225-ae9f-b106ceb02c4f",
   "metadata": {},
   "source": [
    "## ⚡ Упражнения - SQLAlchemy\n",
    " - Создайте модель данных для таблицы `products` с полями: `id`, `name`, `price` и `category_id`.\n",
    " - Напишите функцию, которая добавляет новый продукт в базу данных.\n",
    " - Реализуйте функцию, которая получает все продукты определенной категории.\n",
    " - Добавьте в модель products отношение с моделью categories (один-ко-многим).\n"
   ]
  },
  {
   "cell_type": "code",
   "execution_count": 3,
   "id": "aa39a22c-1a87-490c-8165-8a15b1aca26d",
   "metadata": {},
   "outputs": [],
   "source": [
    "# подключаем модули\n",
    "from sqlalchemy import (create_engine, Column, Integer, Float,\n",
    "                        String, DateTime, DECIMAL, ForeignKey)\n",
    "from sqlalchemy.sql import func\n",
    "from sqlalchemy.orm import declarative_base, relationship, sessionmaker\n",
    "from sqlalchemy import inspect"
   ]
  },
  {
   "cell_type": "markdown",
   "id": "da56f7ac-ebde-43a0-bde2-169166295387",
   "metadata": {},
   "source": [
    "#### Подключение к базе данных.\n",
    "Чтобы не светить пароль - он записан в файле .env  тамже записаны данные о пользователе и прочее, что хотели бы скрыть.\n",
    "такой файл добавлен в гитигноре.   \n",
    "пароль хранится локально при этом остается неизвестен широкой публике.\n",
    "\n",
    "![](../images/11_01.png)<br>\n"
   ]
  },
  {
   "cell_type": "code",
   "execution_count": 4,
   "id": "9a7d07f5-adde-4e19-96df-38106ffb6247",
   "metadata": {},
   "outputs": [
    {
     "data": {
      "text/plain": [
       "True"
      ]
     },
     "execution_count": 4,
     "metadata": {},
     "output_type": "execute_result"
    }
   ],
   "source": [
    "# загружаем модуль\n",
    "from dotenv import load_dotenv\n",
    "#грузим пароли запуская поиск файла .env локально\n",
    "#поиск файла .env и загрузка из него переменныx среды - файл в папке с тетрадкой д.лежать +в гитигноре\n",
    "load_dotenv()"
   ]
  },
  {
   "cell_type": "code",
   "execution_count": 5,
   "id": "b0a04771-2dd3-4053-9101-e24c911c4d8e",
   "metadata": {},
   "outputs": [],
   "source": [
    "# импортируем модуль для взаимодействия с файлами и папками на жестком диске.\n",
    "import os\n",
    "# получаем параметры из хранимого в специальном скрытом файле .env - не храним пароли в явном виде\n",
    "db_config = {\n",
    "    'user': os.getenv('USERNAME'),#имя пользователя\n",
    "    'pwd': os.getenv('PASSWORD'), #пароль  подгружается из локального файла\n",
    "    'host': os.getenv('HOST'),  \n",
    "    'port': 5432, #порт подключения\n",
    "    # 'db': os.getenv('DATABASE') #название базы данных\n",
    "    'db': 'report' #название базы данных\n",
    "}\n",
    "# собираем коннектор\n",
    "connection_string = 'postgresql://{user}:{pwd}@{host}:{port}/{db}'.format(**db_config)\n",
    "\n",
    "#  Создание движка SQLAlchemy\n",
    "engine = create_engine(connection_string, connect_args={'sslmode':'require'})"
   ]
  },
  {
   "cell_type": "markdown",
   "id": "87b695ac-27b8-4190-a2e6-e98282afd546",
   "metadata": {},
   "source": [
    "#### Создание моделей данных"
   ]
  },
  {
   "cell_type": "code",
   "execution_count": 6,
   "id": "34fa5371-1cba-4292-a964-bc657940e834",
   "metadata": {},
   "outputs": [],
   "source": [
    "Base = declarative_base()\n",
    "\n",
    "class Category(Base):\n",
    "    __tablename__ = 'categories'\n",
    "\n",
    "    id = Column(Integer, primary_key=True)\n",
    "    name = Column(String, nullable=False)\n",
    "    products = relationship('Product', back_populates='category') # здесь указываем отношение ко многим\n",
    "\n",
    "\n",
    "class Product(Base):\n",
    "    __tablename__ = 'products'\n",
    "\n",
    "    id = Column(Integer, primary_key=True)\n",
    "    name = Column(String, nullable=False)\n",
    "    price = Column(DECIMAL(10, 2), nullable=False)\n",
    "    cost = Column(DECIMAL(10, 2), nullable=False)\n",
    "    category_id = Column(Integer, ForeignKey('categories.id'), nullable=False)\n",
    "   \n",
    "    category = relationship('Category', back_populates='products') # здесь указываем отношение ко многим\n",
    "\n",
    "    def __repr__(self):\n",
    "        return (\n",
    "            f'<Product(id={self.id}, name=\"{self.name}\", '\n",
    "            f'price={self.price}, cost={self.cost})>'\n",
    "        )\n",
    "\n",
    "Session = sessionmaker(bind=engine)\n",
    "session = Session()"
   ]
  },
  {
   "cell_type": "markdown",
   "id": "320ce953-4d1c-4d32-95c1-5f6b88db5bdd",
   "metadata": {},
   "source": [
    "#### Функция для добавления нового продукта. \n",
    "Получает данные по продукту и объект сессии."
   ]
  },
  {
   "cell_type": "code",
   "execution_count": 7,
   "id": "5bb49cc8-7c55-41b4-9673-ab827f0593cc",
   "metadata": {},
   "outputs": [],
   "source": [
    "def add_product(session, name, price, cost, category_id):\n",
    "    new_product = Product(\n",
    "        name=name,\n",
    "        price=price,\n",
    "        cost=cost,\n",
    "        category_id=category_id,\n",
    "         )\n",
    "    session.add(new_product)\n",
    "    session.commit()\n",
    "    print(f'Продукт \"{name}\" успешно добавлен!.')"
   ]
  },
  {
   "cell_type": "markdown",
   "id": "cdf36c17-3589-43f7-9ca2-bedda7aaec33",
   "metadata": {},
   "source": [
    "#### Добавляем продукт"
   ]
  },
  {
   "cell_type": "code",
   "execution_count": null,
   "id": "301ad8f3-c6df-4e66-97a4-7f477cd9c9ff",
   "metadata": {},
   "outputs": [],
   "source": [
    "add_product(\n",
    "    session,\n",
    "    name='Новый продукт',\n",
    "    price=1000,\n",
    "    cost=500,\n",
    "    category_id=1\n",
    ")"
   ]
  },
  {
   "cell_type": "markdown",
   "id": "00b7e8c6-edf2-4070-b06c-f25575e4baaa",
   "metadata": {},
   "source": [
    "#### Функция для получения всех продуктов заданной категории"
   ]
  },
  {
   "cell_type": "code",
   "execution_count": null,
   "id": "a68ecabd-d58d-4e47-a1e2-a329f0e15e70",
   "metadata": {},
   "outputs": [],
   "source": [
    "def get_products_by_category(session, category_name):\n",
    "    try:\n",
    "        category = session.query(Category).filter(\n",
    "            Category.name == category_name).one()\n",
    "        return category.products\n",
    "    except Exception as e:\n",
    "        print(e)\n",
    "        return None\n",
    "\n",
    "products = get_products_by_category(session, 'Одежда')\n",
    "print(*products, sep='\\n')\n"
   ]
  }
 ],
 "metadata": {
  "kernelspec": {
   "display_name": "Python 3 (ipykernel)",
   "language": "python",
   "name": "python3"
  },
  "language_info": {
   "codemirror_mode": {
    "name": "ipython",
    "version": 3
   },
   "file_extension": ".py",
   "mimetype": "text/x-python",
   "name": "python",
   "nbconvert_exporter": "python",
   "pygments_lexer": "ipython3",
   "version": "3.12.9"
  }
 },
 "nbformat": 4,
 "nbformat_minor": 5
}
