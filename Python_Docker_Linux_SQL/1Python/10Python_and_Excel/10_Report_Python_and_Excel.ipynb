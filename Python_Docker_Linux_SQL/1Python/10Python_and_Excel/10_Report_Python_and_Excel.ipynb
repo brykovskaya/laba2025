{
 "cells": [
  {
   "cell_type": "code",
   "execution_count": 1,
   "id": "848e318b-3166-4a37-b3ed-8d348ee884e9",
   "metadata": {},
   "outputs": [],
   "source": [
    "from openpyxl import Workbook, load_workbook\n",
    "from openpyxl.styles import PatternFill, Border, Side, Alignment, Protection, Font\n",
    "import matplotlib.pyplot as plt\n",
    "import numpy as np\n",
    "import pandas as pd"
   ]
  },
  {
   "cell_type": "markdown",
   "id": "92ab8942-5551-4171-be0b-497057042609",
   "metadata": {},
   "source": [
    "## 1. Упражнения - Python и Excel\n",
    " Создайте Python скрипт, который:\n",
    " - Создает новый Excel файл.\n",
    " - Добавляет два листа с именами \"Лист1\" и \"Лист2\".\n",
    " - Заполняет \"Лист1\" таблицей умножения (10x10).\n",
    " - Копирует данные из \"Лист1\" в \"Лист2\" и добавляет заголовок \"Таблица умножения\".\n"
   ]
  },
  {
   "cell_type": "code",
   "execution_count": 2,
   "id": "f2cc2601-71e1-40ee-b2f3-8df899a40758",
   "metadata": {},
   "outputs": [],
   "source": [
    "# новый Excel файл.\n",
    "workbook=Workbook()\n",
    "# Добавим два листа с именами \"List1\" и \"List1\"\n",
    "sheet = workbook.active\n",
    "sheet.title ='List1'\n",
    "new_sheet=workbook.create_sheet(title='List2') \n",
    "\n",
    "#Заполняет \"List1\" таблицей умножения \n",
    "\n",
    "for row in range(1,11):\n",
    "    for col in range (1,11):\n",
    "        sheet.cell(row=row,column=col, value =row*col)\n",
    "\n",
    "#Копируем данные из \"List1\" в \"List2\" добавляем заголовок \"таблица Пифагора\"\n",
    "new_sheet['B1']=\"таблица Пифагора\"\n",
    "for row in range (1,11):\n",
    "    for col in range (1,11):\n",
    "        new_sheet.cell(row=row+1,column=col+1, value=sheet.cell(row=row,column=col).value)\n",
    "\n",
    "workbook.save(\"Python_and_Excel.xlsx\")"
   ]
  },
  {
   "attachments": {},
   "cell_type": "markdown",
   "id": "8bdae183-1c64-483a-b995-013f3a1f1b6d",
   "metadata": {},
   "source": [
    "## 2. Упражнения - Python и Excel\n",
    "Напишите скрипт, который:\n",
    " - Открывает существующий Excel файл с данными о продажах.\n",
    " - Вычисляет сумму продаж по каждому продавцу.\n",
    " - Строит круговую диаграмму, показывающую долю продаж каждого продавца.\n",
    "\n",
    "мы будем вычислять сумму продаж для каждого города и строить круговую диаграмму с долей каждого города."
   ]
  },
  {
   "cell_type": "markdown",
   "id": "a618e959-f7c0-420d-8195-15717b7a7bd8",
   "metadata": {},
   "source": [
    "### способ с записью экселевского листа в датафрейм через метод read_excel()"
   ]
  },
  {
   "cell_type": "code",
   "execution_count": 3,
   "id": "a9b9a515-ce93-46f3-b5fd-1ea17c485f75",
   "metadata": {},
   "outputs": [
    {
     "data": {
      "text/html": [
       "<div>\n",
       "<style scoped>\n",
       "    .dataframe tbody tr th:only-of-type {\n",
       "        vertical-align: middle;\n",
       "    }\n",
       "\n",
       "    .dataframe tbody tr th {\n",
       "        vertical-align: top;\n",
       "    }\n",
       "\n",
       "    .dataframe thead th {\n",
       "        text-align: right;\n",
       "    }\n",
       "</style>\n",
       "<table border=\"1\" class=\"dataframe\">\n",
       "  <thead>\n",
       "    <tr style=\"text-align: right;\">\n",
       "      <th></th>\n",
       "      <th>month_id</th>\n",
       "      <th>id_client</th>\n",
       "      <th>city</th>\n",
       "      <th>count</th>\n",
       "      <th>amount</th>\n",
       "    </tr>\n",
       "  </thead>\n",
       "  <tbody>\n",
       "    <tr>\n",
       "      <th>0</th>\n",
       "      <td>1</td>\n",
       "      <td>ee47d746-6d2f-4d3c-9622-c31412542920</td>\n",
       "      <td>Moscow</td>\n",
       "      <td>1</td>\n",
       "      <td>64104</td>\n",
       "    </tr>\n",
       "    <tr>\n",
       "      <th>1</th>\n",
       "      <td>2</td>\n",
       "      <td>375e0724-f033-4c76-b579-84969cf38ee2</td>\n",
       "      <td>Krasnodar</td>\n",
       "      <td>11</td>\n",
       "      <td>56043</td>\n",
       "    </tr>\n",
       "    <tr>\n",
       "      <th>2</th>\n",
       "      <td>3</td>\n",
       "      <td>6644e5b4-9934-4863-9778-aaa125207701</td>\n",
       "      <td>Lobya</td>\n",
       "      <td>16</td>\n",
       "      <td>136970</td>\n",
       "    </tr>\n",
       "    <tr>\n",
       "      <th>3</th>\n",
       "      <td>4</td>\n",
       "      <td>c971fb21-d54c-4134-938f-16b62ee86d3b</td>\n",
       "      <td>Moscow</td>\n",
       "      <td>1</td>\n",
       "      <td>97455</td>\n",
       "    </tr>\n",
       "    <tr>\n",
       "      <th>4</th>\n",
       "      <td>5</td>\n",
       "      <td>161e1b98-45ba-4b4e-8236-e6e3e70f6f7c</td>\n",
       "      <td>Krasnodar</td>\n",
       "      <td>16</td>\n",
       "      <td>23158</td>\n",
       "    </tr>\n",
       "  </tbody>\n",
       "</table>\n",
       "</div>"
      ],
      "text/plain": [
       "   month_id                             id_client       city  count  amount\n",
       "0         1  ee47d746-6d2f-4d3c-9622-c31412542920     Moscow      1   64104\n",
       "1         2  375e0724-f033-4c76-b579-84969cf38ee2  Krasnodar     11   56043\n",
       "2         3  6644e5b4-9934-4863-9778-aaa125207701      Lobya     16  136970\n",
       "3         4  c971fb21-d54c-4134-938f-16b62ee86d3b     Moscow      1   97455\n",
       "4         5  161e1b98-45ba-4b4e-8236-e6e3e70f6f7c  Krasnodar     16   23158"
      ]
     },
     "execution_count": 3,
     "metadata": {},
     "output_type": "execute_result"
    }
   ],
   "source": [
    "# путь к файлу\n",
    "file_path='Sales.xlsx'\n",
    "# записываем в датафрейм файл\n",
    "data= pd.read_excel(file_path)\n",
    "data.head()"
   ]
  },
  {
   "cell_type": "code",
   "execution_count": 4,
   "id": "b2fc154a-0a03-4fab-8c1c-a5f3edbb9a76",
   "metadata": {},
   "outputs": [
    {
     "data": {
      "text/html": [
       "<div>\n",
       "<style scoped>\n",
       "    .dataframe tbody tr th:only-of-type {\n",
       "        vertical-align: middle;\n",
       "    }\n",
       "\n",
       "    .dataframe tbody tr th {\n",
       "        vertical-align: top;\n",
       "    }\n",
       "\n",
       "    .dataframe thead th {\n",
       "        text-align: right;\n",
       "    }\n",
       "</style>\n",
       "<table border=\"1\" class=\"dataframe\">\n",
       "  <thead>\n",
       "    <tr style=\"text-align: right;\">\n",
       "      <th></th>\n",
       "      <th>city</th>\n",
       "      <th>amount</th>\n",
       "    </tr>\n",
       "  </thead>\n",
       "  <tbody>\n",
       "    <tr>\n",
       "      <th>0</th>\n",
       "      <td>Krasnodar</td>\n",
       "      <td>37712804</td>\n",
       "    </tr>\n",
       "    <tr>\n",
       "      <th>1</th>\n",
       "      <td>Lobya</td>\n",
       "      <td>40506218</td>\n",
       "    </tr>\n",
       "    <tr>\n",
       "      <th>2</th>\n",
       "      <td>Moscow</td>\n",
       "      <td>40748727</td>\n",
       "    </tr>\n",
       "  </tbody>\n",
       "</table>\n",
       "</div>"
      ],
      "text/plain": [
       "        city    amount\n",
       "0  Krasnodar  37712804\n",
       "1      Lobya  40506218\n",
       "2     Moscow  40748727"
      ]
     },
     "execution_count": 4,
     "metadata": {},
     "output_type": "execute_result"
    }
   ],
   "source": [
    "grouped = data.copy(deep=True)\n",
    "grouped = grouped.groupby('city')['amount'].sum().reset_index()\n",
    "grouped"
   ]
  },
  {
   "cell_type": "code",
   "execution_count": 5,
   "id": "91a18807-936c-4fac-aea4-c0ff0857e2db",
   "metadata": {},
   "outputs": [
    {
     "data": {
      "image/png": "[encoded data removed]",
      "text/plain": [
       "<Figure size 640x480 with 1 Axes>"
      ]
     },
     "metadata": {},
     "output_type": "display_data"
    }
   ],
   "source": [
    "city = grouped['city']\n",
    "values = grouped['amount']\n",
    "tab20c = plt.color_sequences[\"tab20c\"]\n",
    "outer_colors = [tab20c[i] for i in [5, 3, 9]]\n",
    "plt.pie(values, labels = city, autopct = '%1.1f%%', colors = outer_colors)\n",
    "plt.title('Доля продаж в каждом городе\\n')\n",
    "plt.axis('equal')  # Чтобы круговая диаграмма была настоящим кругом\n",
    "plt.show()"
   ]
  },
  {
   "cell_type": "markdown",
   "id": "cb19dbf6-770d-4911-bd31-6c4670af22e1",
   "metadata": {},
   "source": []
  },
  {
   "cell_type": "markdown",
   "id": "1bdb23d3-f00a-40fc-bbb2-5f54b530b374",
   "metadata": {},
   "source": [
    "### способ -  получаем данные без датафрейма из книги"
   ]
  },
  {
   "cell_type": "code",
   "execution_count": 6,
   "id": "b24a1f27-f5b8-462d-8870-e59b9af2a243",
   "metadata": {},
   "outputs": [
    {
     "data": {
      "image/png": "[encoded data removed]",
      "text/plain": [
       "<Figure size 640x480 with 1 Axes>"
      ]
     },
     "metadata": {},
     "output_type": "display_data"
    }
   ],
   "source": [
    "# способи без записи данных в датафрейм\n",
    "import matplotlib.pyplot as plt\n",
    "import pandas as pd\n",
    "import openpyxl\n",
    "from openpyxl import Workbook\n",
    "from openpyxl.styles import Font\n",
    "\n",
    "# путь к файлу\n",
    "file_path='Sales.xlsx'\n",
    "\n",
    "workbook = openpyxl.load_workbook(file_path)\n",
    "sheet = workbook.active  \n",
    "# слварь для записи город ключ значение сумма продаж общая\n",
    "sales_summary = {}\n",
    "\n",
    "# min_row (int) – smallest row index (1-based index)\n",
    "\n",
    "for row in sheet.iter_rows(min_row=2, values_only=True):\n",
    "    i = row[2]\n",
    "    sum_total = row[4]\n",
    "\n",
    "    if i in sales_summary:\n",
    "        sales_summary[i] += sum_total\n",
    "    else:\n",
    "        sales_summary[i] = sum_total\n",
    "\n",
    "\n",
    "cities = list(sales_summary.keys())\n",
    "sales_values = list(sales_summary.values())\n",
    "tab20c = plt.color_sequences[\"tab20c\"]\n",
    "outer_colors = [tab20c[i] for i in [1, 2, 9]]\n",
    "\n",
    "plt.pie(sales_values, labels=cities, autopct='%1.1f%%', colors = outer_colors, startangle=800)\n",
    "plt.title('Доля продаж в каждом городе\\n')\n",
    "plt.axis('equal')\n",
    "plt.show()"
   ]
  },
  {
   "cell_type": "markdown",
   "id": "90accc47-14cc-4e45-a136-ce9b3e9c1490",
   "metadata": {},
   "source": [
    "## 3. Упражнения - Python и Excel\n",
    "Создайте скрипт, который:\n",
    " - Читает данные из CSV файла.\n",
    " - Записывает данные в Excel файл, форматируя заголовки столбцов жирным шрифтом и устанавливая ширину столбцов автоматически."
   ]
  },
  {
   "cell_type": "code",
   "execution_count": 8,
   "id": "5a98cac0-e529-42bc-96e4-c46c61d672ec",
   "metadata": {},
   "outputs": [
    {
     "name": "stdout",
     "output_type": "stream",
     "text": [
      "Заголовки для таблицы: ['month_id', 'id_client', 'amount', 'count', 'city']\n"
     ]
    }
   ],
   "source": [
    "import openpyxl.formatting\n",
    "import openpyxl.formatting.formatting\n",
    "import openpyxl.formula\n",
    "import pandas as pd\n",
    "import openpyxl\n",
    "\n",
    "df_csv = pd.read_csv('sales_format.csv', sep=';')\n",
    "\n",
    "workbook = openpyxl.Workbook()\n",
    "sheet = workbook.active\n",
    "header = df_csv.columns.to_list()\n",
    "print('Заголовки для таблицы:', header)"
   ]
  },
  {
   "cell_type": "code",
   "execution_count": 9,
   "id": "52c876a7-31ae-4abd-b2ee-9d5ed5ae5d81",
   "metadata": {},
   "outputs": [
    {
     "data": {
      "text/html": [
       "<div>\n",
       "<style scoped>\n",
       "    .dataframe tbody tr th:only-of-type {\n",
       "        vertical-align: middle;\n",
       "    }\n",
       "\n",
       "    .dataframe tbody tr th {\n",
       "        vertical-align: top;\n",
       "    }\n",
       "\n",
       "    .dataframe thead th {\n",
       "        text-align: right;\n",
       "    }\n",
       "</style>\n",
       "<table border=\"1\" class=\"dataframe\">\n",
       "  <thead>\n",
       "    <tr style=\"text-align: right;\">\n",
       "      <th></th>\n",
       "      <th>month_id</th>\n",
       "      <th>id_client</th>\n",
       "      <th>amount</th>\n",
       "      <th>count</th>\n",
       "      <th>city</th>\n",
       "    </tr>\n",
       "  </thead>\n",
       "  <tbody>\n",
       "    <tr>\n",
       "      <th>0</th>\n",
       "      <td>1</td>\n",
       "      <td>ee47d746-6d2f-4d3c-9622-c31412542920</td>\n",
       "      <td>64104</td>\n",
       "      <td>1</td>\n",
       "      <td>moscow</td>\n",
       "    </tr>\n",
       "    <tr>\n",
       "      <th>1</th>\n",
       "      <td>2</td>\n",
       "      <td>375e0724-f033-4c76-b579-84969cf38ee2</td>\n",
       "      <td>56043</td>\n",
       "      <td>11</td>\n",
       "      <td>krasnodar</td>\n",
       "    </tr>\n",
       "  </tbody>\n",
       "</table>\n",
       "</div>"
      ],
      "text/plain": [
       "   month_id                             id_client  amount  count       city\n",
       "0         1  ee47d746-6d2f-4d3c-9622-c31412542920   64104      1     moscow\n",
       "1         2  375e0724-f033-4c76-b579-84969cf38ee2   56043     11  krasnodar"
      ]
     },
     "execution_count": 9,
     "metadata": {},
     "output_type": "execute_result"
    }
   ],
   "source": [
    "df_csv.head(2)"
   ]
  },
  {
   "cell_type": "code",
   "execution_count": 10,
   "id": "5c456489-b765-4fa7-8477-34ff74f33f0f",
   "metadata": {},
   "outputs": [],
   "source": [
    "# Добавляем группу значений(заголовки) в нижней части текущего листа.\n",
    "sheet.append(header)\n"
   ]
  },
  {
   "cell_type": "code",
   "execution_count": 11,
   "id": "0f8d29f9-bacb-45b3-9b7b-f2c67e13c079",
   "metadata": {},
   "outputs": [],
   "source": [
    "# делаем заголовки жирным шрифтом\n",
    "for row in sheet.iter_rows(max_row=1):\n",
    "    for cell in row:\n",
    "        cell.font = openpyxl.styles.Font(bold=True)\n",
    "\n",
    "# перебираем строки и добоваляем данные\n",
    "for index, row in df_csv.iterrows():\n",
    "    sheet.append(list(row))\n",
    "    \n",
    "# установим ширину столбцов автоматически\n",
    "for col in sheet.columns:\n",
    "    max_length = 0\n",
    "    column = col[0].column_letter\n",
    "    for cell in col:\n",
    "        if len(str(cell.value)) > max_length:\n",
    "            max_length = len(str(cell.value))\n",
    "    adjusted_width = (max_length + 2) * 1.2\n",
    "    workbook.worksheets[0].column_dimensions[column].width = adjusted_width\n",
    "\n",
    "workbook.save('sales_format.xlsx')"
   ]
  },
  {
   "attachments": {},
   "cell_type": "markdown",
   "id": "b1ebb5fa-b8ec-4ba2-8c2f-1da00ac2a03d",
   "metadata": {},
   "source": [
    "![image.png](../images/10_01.png)"
   ]
  },
  {
   "cell_type": "code",
   "execution_count": null,
   "id": "0d4c45c0-8d0e-40c8-9465-65de9e443e76",
   "metadata": {},
   "outputs": [],
   "source": [
    "# !pip freeze > requuirements.txt"
   ]
  },
  {
   "cell_type": "code",
   "execution_count": null,
   "id": "80820936-5b60-4e6a-81db-74e8cd85537a",
   "metadata": {},
   "outputs": [],
   "source": []
  },
  {
   "cell_type": "code",
   "execution_count": null,
   "id": "d58fcae1-9c19-4bd7-97b3-0c8e7acc578e",
   "metadata": {},
   "outputs": [],
   "source": []
  }
 ],
 "metadata": {
  "kernelspec": {
   "display_name": "Python 3 (ipykernel)",
   "language": "python",
   "name": "python3"
  },
  "language_info": {
   "codemirror_mode": {
    "name": "ipython",
    "version": 3
   },
   "file_extension": ".py",
   "mimetype": "text/x-python",
   "name": "python",
   "nbconvert_exporter": "python",
   "pygments_lexer": "ipython3",
   "version": "3.12.7"
  }
 },
 "nbformat": 4,
 "nbformat_minor": 5
}
