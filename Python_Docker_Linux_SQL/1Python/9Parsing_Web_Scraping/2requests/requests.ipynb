{
 "cells": [
  {
   "cell_type": "code",
   "execution_count": 1,
   "id": "1001b3ff-0ea9-465a-bda1-5f9f426e80f2",
   "metadata": {},
   "outputs": [],
   "source": [
    "import requests\n",
    "from bs4 import BeautifulSoup\n",
    "import csv\n",
    "import time"
   ]
  },
  {
   "cell_type": "markdown",
   "id": "e62fc9a2-7ed8-46d7-9f23-f44563a0ba00",
   "metadata": {},
   "source": [
    "## Упражнения requests\n",
    " - 1 Напишите скрипт, который отправляет GET-запрос на выбранный вами сайт и выводит статус ответа.\n",
    " - 2 Модифицируйте скрипт, чтобы он сохранял HTML-код полученной страницы в файл."
   ]
  },
  {
   "cell_type": "code",
   "execution_count": 6,
   "id": "ce944e39-273f-4c1d-b7eb-89124e8f03be",
   "metadata": {},
   "outputs": [
    {
     "name": "stdout",
     "output_type": "stream",
     "text": [
      "Cтатус ответа на GET-запрос:  200\n"
     ]
    }
   ],
   "source": [
    "# 1 скрипт, который отправляет GET-запрос на выбранный вами сайт\n",
    "response=requests.get('https://practicum.yandex.ru/')\n",
    "# Проверка статуса ответа\n",
    "print('Cтатус ответа на GET-запрос: ', response.status_code)\n",
    "# 200 означает успех"
   ]
  },
  {
   "cell_type": "code",
   "execution_count": null,
   "id": "fe17ba17-1d5c-46c0-a367-b5e713e0ddd4",
   "metadata": {},
   "outputs": [],
   "source": []
  }
 ],
 "metadata": {
  "kernelspec": {
   "display_name": "Python 3 (ipykernel)",
   "language": "python",
   "name": "python3"
  },
  "language_info": {
   "codemirror_mode": {
    "name": "ipython",
    "version": 3
   },
   "file_extension": ".py",
   "mimetype": "text/x-python",
   "name": "python",
   "nbconvert_exporter": "python",
   "pygments_lexer": "ipython3",
   "version": "3.12.2"
  }
 },
 "nbformat": 4,
 "nbformat_minor": 5
}
