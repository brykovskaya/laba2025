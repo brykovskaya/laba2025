{
 "cells": [
  {
   "cell_type": "markdown",
   "id": "6caedfa9-7c26-42e9-9608-3a0b80f9666c",
   "metadata": {},
   "source": [
    "![](../images/02_001.jpg)\n",
    "![](../images/02_002.jpg)\n",
    "![](../images/02_003.jpg)\n",
    "![](../images/02_004.jpg)\n"
   ]
  },
  {
   "cell_type": "code",
   "execution_count": null,
   "id": "1c534bc5-a003-4cd9-8c94-7ff8d629a024",
   "metadata": {},
   "outputs": [],
   "source": []
  },
  {
   "cell_type": "code",
   "execution_count": null,
   "id": "f38a0955-c887-4d7b-8f7c-ab0e20d4c3bb",
   "metadata": {},
   "outputs": [],
   "source": []
  }
 ],
 "metadata": {
  "kernelspec": {
   "display_name": "Python 3 (ipykernel)",
   "language": "python",
   "name": "python3"
  },
  "language_info": {
   "codemirror_mode": {
    "name": "ipython",
    "version": 3
   },
   "file_extension": ".py",
   "mimetype": "text/x-python",
   "name": "python",
   "nbconvert_exporter": "python",
   "pygments_lexer": "ipython3",
   "version": "3.12.7"
  }
 },
 "nbformat": 4,
 "nbformat_minor": 5
}
