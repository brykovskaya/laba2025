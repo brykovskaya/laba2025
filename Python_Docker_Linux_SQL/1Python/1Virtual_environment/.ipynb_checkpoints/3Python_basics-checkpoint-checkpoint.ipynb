{
 "cells": [
  {
   "cell_type": "markdown",
   "id": "00af8321-e0a0-4e6d-a66f-eac5ba066c67",
   "metadata": {},
   "source": [
    "### Упр. - Объявление переменных\n",
    "количество_студентов = 25  # int\n",
    "\n",
    "средний_балл = 4.7  # float\n",
    "\n",
    "название_курса = \"Введение в Python\"  # str\n",
    "\n",
    "прошел_курс = True  # bool"
   ]
  },
  {
   "cell_type": "code",
   "execution_count": 1,
   "id": "2bfb216e-2995-4f87-983d-52370a2427b8",
   "metadata": {},
   "outputs": [],
   "source": [
    "# количество_студентов\n",
    "students = 25\n",
    "# средний_балл \n",
    "avg_score = 4.7\n",
    "# название_курса\n",
    "cource_name = 'Введение в Python'\n",
    "# прошел курс\n",
    "has_completed = True"
   ]
  },
  {
   "cell_type": "markdown",
   "id": "f5203b46-63f5-41a3-aaa5-20a6acb377f9",
   "metadata": {},
   "source": [
    "### Упр. - Вывод типов переменных  \n",
    "print(type(количество_студентов))  # <class 'int'>\n",
    "\n",
    "print(type(средний_балл))  # <class 'float'>\n",
    "\n",
    "print(type(название_курса))  # <class 'str'>\n",
    "\n",
    "print(type(прошел_курс))  # <class 'bool'>"
   ]
  },
  {
   "cell_type": "code",
   "execution_count": 2,
   "id": "7d39d8cd-c36d-4140-83af-1d7415e9129e",
   "metadata": {},
   "outputs": [
    {
     "name": "stdout",
     "output_type": "stream",
     "text": [
      "Тип переменной students: <class 'int'>.\n",
      "Тип переменной avg_score: <class 'float'>.\n",
      "Тип переменной cource_name: <class 'str'>.\n",
      "Тип переменной has_completed: <class 'bool'>.\n"
     ]
    }
   ],
   "source": [
    "# объявим переменную, в которой будет хранитьсе список еременных\n",
    "list_variables = [students, avg_score, \n",
    "                  cource_name, has_completed]\n",
    "# и переменную, которая будет хранить название переменной\n",
    "name_variables = ['students', 'avg_score', \n",
    "                  'cource_name', 'has_completed']\n",
    "# выведем название и типы переменных \n",
    "for i, variable in enumerate(list_variables):\n",
    "    print('Тип переменной {}: {}.'.format(name_variables[i],\n",
    "                                          type(variable)))\n"
   ]
  },
  {
   "cell_type": "markdown",
   "id": "5d1fd9be-c430-43c8-bdac-8773d687b2a7",
   "metadata": {},
   "source": [
    "### Упр. - Арифметические операции  \n",
    "сумма = количество_студентов + 5\n",
    "\n",
    "print(сумма)  # 30"
   ]
  },
  {
   "cell_type": "code",
   "execution_count": 3,
   "id": "8075a9c8-1bb1-4e00-9ceb-18f12d749dd8",
   "metadata": {},
   "outputs": [
    {
     "name": "stdout",
     "output_type": "stream",
     "text": [
      "Обновленное количество студентов:  30\n"
     ]
    }
   ],
   "source": [
    "new_students = students + 5\n",
    "print(\"Обновленное количество студентов: \", new_students)"
   ]
  },
  {
   "cell_type": "markdown",
   "id": "752eebb3-b136-4f59-bd0c-cbf9a7b4527e",
   "metadata": {},
   "source": [
    "### Упр. - Конкатенация строк\n",
    "новое_название = название_курса + \" (часть 1)\"\n",
    "\n",
    "print(новое_название)  # Введение в Python (часть 1)"
   ]
  },
  {
   "cell_type": "code",
   "execution_count": 4,
   "id": "9f93628f-3217-4a65-9efd-ecde1e18cef2",
   "metadata": {},
   "outputs": [
    {
     "name": "stdout",
     "output_type": "stream",
     "text": [
      "Введение в Python часть 1\n"
     ]
    }
   ],
   "source": [
    "new_cource_name = cource_name + ' часть 1'\n",
    "print(new_cource_name)"
   ]
  },
  {
   "cell_type": "markdown",
   "id": "4d6b622f-5b1a-4407-93b3-c61ed2a86da3",
   "metadata": {},
   "source": [
    "### Упр. - Преобразование типов\n",
    "строка_из_числа = str(количество_студентов)\n",
    "\n",
    "print(строка_из_числа)  # \"25\"\n",
    "\n",
    "число_из_строки = int(\"10\")\n",
    "\n",
    "print(число_из_строки)  # 10"
   ]
  },
  {
   "cell_type": "code",
   "execution_count": 5,
   "id": "c3ea723b-d9db-4c6a-aae7-13da83a78326",
   "metadata": {},
   "outputs": [
    {
     "name": "stdout",
     "output_type": "stream",
     "text": [
      "25 <class 'str'>\n"
     ]
    }
   ],
   "source": [
    "str_to_int = str(25)\n",
    "print(str_to_int, type(str_to_int))"
   ]
  },
  {
   "cell_type": "code",
   "execution_count": 6,
   "id": "4b52de57-5889-4f91-ba11-582fc92abf2d",
   "metadata": {},
   "outputs": [
    {
     "name": "stdout",
     "output_type": "stream",
     "text": [
      "10 <class 'int'>\n"
     ]
    }
   ],
   "source": [
    "int_to_str = int('10')\n",
    "print(int_to_str, type(int_to_str))"
   ]
  },
  {
   "cell_type": "markdown",
   "id": "0d443a56-2db0-4eb1-a330-1a8f88221d25",
   "metadata": {},
   "source": [
    "### Упр. - Создание списка\n",
    "`любимые_книги = [\"Гарри Поттер\", \"Властелин колец\", \"1984\"]`"
   ]
  },
  {
   "cell_type": "code",
   "execution_count": 7,
   "id": "29171766-1bd2-4b1e-9111-7e96071ab2fe",
   "metadata": {},
   "outputs": [
    {
     "name": "stdout",
     "output_type": "stream",
     "text": [
      "Любимые книги:  ['Гарри Поттер', 'Властелин колец', '1984']\n"
     ]
    }
   ],
   "source": [
    "my_books = [\"Гарри Поттер\", \"Властелин колец\", \"1984\"]\n",
    "print(\"Любимые книги: \", my_books)"
   ]
  },
  {
   "cell_type": "markdown",
   "id": "95034b6a-d16e-4829-942e-67e702f4683c",
   "metadata": {},
   "source": [
    "### Упр. - Доступ к элементам\n",
    "`print(любимые_книги[0])  # \"Гарри Поттер\"`\n",
    "\n",
    "`print(любимые_книги[-1])  # \"1984\"`"
   ]
  },
  {
   "cell_type": "code",
   "execution_count": 8,
   "id": "0ebaae8a-a1c6-47f2-9da1-54dc1bed646b",
   "metadata": {},
   "outputs": [
    {
     "name": "stdout",
     "output_type": "stream",
     "text": [
      "Гарри Поттер\n",
      "1984\n"
     ]
    }
   ],
   "source": [
    "for i in [0, -1]:\n",
    "    print(my_books[i])"
   ]
  },
  {
   "cell_type": "code",
   "execution_count": 9,
   "id": "3d905ff2-db2e-4922-bde1-2930bd69acf1",
   "metadata": {},
   "outputs": [
    {
     "name": "stdout",
     "output_type": "stream",
     "text": [
      "Первая книга в списке моих любимых:  Гарри Поттер\n",
      "Последняя книга в списке моих любимых:  1984\n"
     ]
    }
   ],
   "source": [
    "print(\"Первая книга в списке моих любимых: \", my_books[0])\n",
    "print(\"Последняя книга в списке моих любимых: \", my_books[-1])"
   ]
  },
  {
   "cell_type": "markdown",
   "id": "317eb73f-a238-4070-9286-c0d3f325a394",
   "metadata": {},
   "source": [
    "### Упр. - Добавление элемента\n",
    "любимые_книги.append(\"Мартин Иден\")\n",
    "\n",
    "print(любимые_книги)  # `[\"Гарри Поттер\", \"Властелин колец\", \"1984\", \"Мартин Иден\"]`"
   ]
  },
  {
   "cell_type": "code",
   "execution_count": 10,
   "id": "eeceffb6-f998-4160-8c16-a566eaaca12c",
   "metadata": {},
   "outputs": [
    {
     "name": "stdout",
     "output_type": "stream",
     "text": [
      "['Гарри Поттер', 'Властелин колец', '1984', 'Мартин Иден']\n"
     ]
    }
   ],
   "source": [
    "my_books.append('Мартин Иден')\n",
    "print(my_books)"
   ]
  },
  {
   "cell_type": "markdown",
   "id": "77f9483d-6ffd-496b-9121-e7820595207b",
   "metadata": {},
   "source": [
    "### Упр. - Удаление элемента\n",
    "`del любимые_книги[2]`\n",
    "\n",
    "`print(любимые_книги)  # [\"Гарри Поттер\", \"Властелин колец\", \"Мартин Иден\"]\\`"
   ]
  },
  {
   "cell_type": "code",
   "execution_count": 11,
   "id": "6324c06f-8f57-4b5b-b529-77b9d1702cac",
   "metadata": {},
   "outputs": [
    {
     "name": "stdout",
     "output_type": "stream",
     "text": [
      "['Гарри Поттер', 'Властелин колец', 'Мартин Иден']\n"
     ]
    }
   ],
   "source": [
    "del my_books[2]\n",
    "print(my_books)"
   ]
  },
  {
   "cell_type": "markdown",
   "id": "a60be066-fc63-46e0-9937-692dad4b7854",
   "metadata": {},
   "source": [
    "### Упр. - Сортировка\n",
    "любимые_книги.sort()\n",
    "\n",
    "print(любимые_книги)  # `[\"Гарри Поттер\", \"Властелин колец\", \"Мартин Иден\"]`"
   ]
  },
  {
   "cell_type": "code",
   "execution_count": 12,
   "id": "f6acdf4d-7f5d-4c59-a37f-5e16601cd5fc",
   "metadata": {},
   "outputs": [
    {
     "name": "stdout",
     "output_type": "stream",
     "text": [
      "['Властелин колец', 'Гарри Поттер', 'Мартин Иден']\n"
     ]
    }
   ],
   "source": [
    "my_books.sort()\n",
    "print(my_books)"
   ]
  },
  {
   "cell_type": "markdown",
   "id": "a5f670a8-34f8-4577-b5f6-863321ff289f",
   "metadata": {},
   "source": [
    "### Упр. - Срез\n",
    "четные_числа = `list(range(1, 11))[1::2]`\n",
    "\n",
    "print(четные_числа)  # `[2, 4, 6, 8, 10]`"
   ]
  },
  {
   "cell_type": "code",
   "execution_count": 13,
   "id": "1aa90443-634a-4acc-8066-4dc0d8d57f20",
   "metadata": {},
   "outputs": [
    {
     "name": "stdout",
     "output_type": "stream",
     "text": [
      "[2, 4, 6, 8, 10]\n"
     ]
    }
   ],
   "source": [
    "even_numbers = list(range(1,11))[1::2]\n",
    "print(even_numbers)"
   ]
  },
  {
   "cell_type": "markdown",
   "id": "80beaf5a-d0db-4b48-8899-152d31b85470",
   "metadata": {},
   "source": [
    "### Упр. - Работа со словарями\n",
    "`# Создание словаря`\n",
    "столицы = {\"Россия\": \"Москва\", \"Франция\": \"Париж\", \"Германия\": \"Берлин\"}"
   ]
  },
  {
   "cell_type": "code",
   "execution_count": 14,
   "id": "aa976816-c801-4af1-88d5-b7451c2ceeca",
   "metadata": {},
   "outputs": [],
   "source": [
    "capitols =  {\"Россия\": \"Москва\",\n",
    "             \"Франция\": \"Париж\", \n",
    "             \"Германия\": \"Берлин\"}"
   ]
  },
  {
   "cell_type": "markdown",
   "id": "b38f5fac-5611-44ae-a3fc-25ffef1c1c5b",
   "metadata": {},
   "source": [
    "`# Доступ к значению по ключу` `print(столицы[\"Россия\"])  # \"Москва\"`"
   ]
  },
  {
   "cell_type": "code",
   "execution_count": 15,
   "id": "54460532-8bcf-4830-a453-a40eb1efb4e4",
   "metadata": {},
   "outputs": [
    {
     "name": "stdout",
     "output_type": "stream",
     "text": [
      "Москва\n"
     ]
    }
   ],
   "source": [
    "print(capitols[\"Россия\"])"
   ]
  },
  {
   "cell_type": "markdown",
   "id": "76c84dad-d9eb-43a4-a15a-b4f467d3f83f",
   "metadata": {},
   "source": [
    "`# Добавление новой пары ключ-значение` `столицы[\"Испания\"] = \"Мадрид\"`"
   ]
  },
  {
   "cell_type": "code",
   "execution_count": 16,
   "id": "6fd33307-e256-42e2-9173-ab445764d038",
   "metadata": {},
   "outputs": [],
   "source": [
    "capitols[\"Испания\"] = \"Мадрид\""
   ]
  },
  {
   "cell_type": "markdown",
   "id": "803c0590-f16e-4a4a-9154-5ecc12947a85",
   "metadata": {},
   "source": [
    "`print(столицы)  # {\"Россия\": \"Москва\", \"Франция\": \"Париж\", \"Германия\": \"Берлин\", \"Испания\": \"Мадрид\"}`"
   ]
  },
  {
   "cell_type": "code",
   "execution_count": 17,
   "id": "9fe56457-d9b5-43d0-b689-c2650c0f422f",
   "metadata": {},
   "outputs": [
    {
     "name": "stdout",
     "output_type": "stream",
     "text": [
      "{'Россия': 'Москва', 'Франция': 'Париж', 'Германия': 'Берлин', 'Испания': 'Мадрид'}\n"
     ]
    }
   ],
   "source": [
    "print(capitols)"
   ]
  },
  {
   "cell_type": "markdown",
   "id": "b0963d35-2c2d-4be5-a8d7-2b262e0a9e93",
   "metadata": {},
   "source": [
    "`# Проверка наличия ключа`\n",
    "`if \"Италия\" in столицы:\n",
    "  print(столицы[\"Италия\"])\n",
    "else:\n",
    "  print(\"Столица Италии не найдена\")`"
   ]
  },
  {
   "cell_type": "code",
   "execution_count": 18,
   "id": "af2d2b11-3b33-44a6-abc3-4b008c116771",
   "metadata": {},
   "outputs": [
    {
     "name": "stdout",
     "output_type": "stream",
     "text": [
      "Столица Италии не найдена\n"
     ]
    }
   ],
   "source": [
    "if \"Италия\" in capitols:\n",
    "    print(capitols['Италия'])\n",
    "else:\n",
    "    print(\"Столица Италии не найдена\")"
   ]
  },
  {
   "cell_type": "markdown",
   "id": "75998f8d-9d0c-42d5-817e-bde235f0df24",
   "metadata": {},
   "source": [
    "### Упр. - Управляющие конструкции\n",
    "`# Определение знака числа/  число = int(input(\"Введите число: \")) `  \n",
    "'''  \n",
    "if число > 0:  \n",
    "  print(\"Число положительное\")  \n",
    "elif число < 0:  \n",
    "  print(\"Число отрицательное\")  \n",
    "else:  \n",
    "  print(\"Число равно нулю\")  \n",
    "'''"
   ]
  },
  {
   "cell_type": "code",
   "execution_count": 19,
   "id": "03e0d2dc-f643-4893-ae7d-d4239ba03381",
   "metadata": {},
   "outputs": [
    {
     "name": "stdin",
     "output_type": "stream",
     "text": [
      "Введите число:  66\n"
     ]
    },
    {
     "name": "stdout",
     "output_type": "stream",
     "text": [
      "Число положительное\n"
     ]
    }
   ],
   "source": [
    "number = int(input(\"Введите число: \")) \n",
    "if number > 0:\n",
    "    print(\"Число положительное\")\n",
    "elif number < 0:\n",
    "    print(\"Число отрицательное\")\n",
    "else:\n",
    "    print(\"Число равно нулю\")    "
   ]
  },
  {
   "cell_type": "markdown",
   "id": "328662ac-d7b8-4659-a74e-f8039354a293",
   "metadata": {},
   "source": [
    "`# Вывод четных чисел от 1 до 100`  \n",
    "'''\n",
    "for i in range(2, 101, 2):  \n",
    "  print(i, end=\" \")\n",
    "'''"
   ]
  },
  {
   "cell_type": "code",
   "execution_count": 20,
   "id": "5e4542af-235f-4737-9d62-8ecf4f009abe",
   "metadata": {},
   "outputs": [
    {
     "name": "stdout",
     "output_type": "stream",
     "text": [
      "2 4 6 8 10 12 14 16 18 20 22 24 26 28 30 32 34 36 38 40 42 44 46 48 50 52 54 56 58 60 62 64 66 68 70 72 74 76 78 80 82 84 86 88 90 92 94 96 98 100 "
     ]
    }
   ],
   "source": [
    "for i in range(2, 101, 2):\n",
    "    print (i, end=\" \")"
   ]
  },
  {
   "cell_type": "markdown",
   "id": "50ea405d-a8ae-4e35-9690-aacfcb303137",
   "metadata": {
    "jp-MarkdownHeadingCollapsed": true
   },
   "source": [
    "`# Таблица умножения`  \n",
    "'''  \n",
    "число = int(input(\"Введите число: \"))   \n",
    "for i in range(1, 11):    \n",
    "  print(f\"{число} * {i} = {число * i}\")  \n",
    "'''"
   ]
  },
  {
   "cell_type": "code",
   "execution_count": 21,
   "id": "22da777b-adb8-4ee5-925b-e150a3c0c87c",
   "metadata": {},
   "outputs": [
    {
     "name": "stdin",
     "output_type": "stream",
     "text": [
      "Введите число:  66\n"
     ]
    },
    {
     "name": "stdout",
     "output_type": "stream",
     "text": [
      "66 * 1 = 66\n",
      "66 * 2 = 132\n",
      "66 * 3 = 198\n",
      "66 * 4 = 264\n",
      "66 * 5 = 330\n",
      "66 * 6 = 396\n",
      "66 * 7 = 462\n",
      "66 * 8 = 528\n",
      "66 * 9 = 594\n",
      "66 * 10 = 660\n"
     ]
    }
   ],
   "source": [
    "numbr = int(input(\"Введите число: \"))\n",
    "for i in range(1, 11):\n",
    "    print(f\"{numbr} * {i} = {numbr * i}\")"
   ]
  },
  {
   "cell_type": "markdown",
   "id": "db045501-6843-4a95-922c-48436700d76b",
   "metadata": {},
   "source": [
    "### Упр. - Функции\n",
    "`# Функция для нахождения суммы двух чисел`  \n",
    "'''   \n",
    "def сумма(a, b):  \n",
    "  return a + b  \n",
    "результат = сумма(5, 3)  \n",
    "\n",
    "print(результат)  # 8  \n",
    "'''"
   ]
  },
  {
   "cell_type": "code",
   "execution_count": 22,
   "id": "66abd539-023a-4535-9992-72e9360627ef",
   "metadata": {},
   "outputs": [
    {
     "name": "stdout",
     "output_type": "stream",
     "text": [
      "8\n"
     ]
    }
   ],
   "source": [
    "def summ(a, b):\n",
    "    return a+b\n",
    "\n",
    "result_summ = summ(5, 3)\n",
    "print(result_summ)"
   ]
  },
  {
   "cell_type": "markdown",
   "id": "c2aaf633-b9cd-4b65-8490-b5b0c7629f80",
   "metadata": {},
   "source": [
    "`# Функция для нахождения среднего арифметического списка чисел`  \n",
    "'''  \n",
    "def среднее(числа):   \n",
    "  return sum(числа) / len(числа)   \n",
    "список_чисел = [1, 5, 3, 7, 9]  \n",
    "среднее_значение = среднее(список_чисел)  \n",
    "\n",
    "print(среднее_значение)  # 5.0  \n",
    "'''"
   ]
  },
  {
   "cell_type": "code",
   "execution_count": 23,
   "id": "0ca7783d-95fc-4999-8ea0-6eb847ba21a0",
   "metadata": {},
   "outputs": [
    {
     "name": "stdout",
     "output_type": "stream",
     "text": [
      "5.0\n"
     ]
    }
   ],
   "source": [
    "def avg_num(numbs):\n",
    "    return sum(numbs) / len(numbs)\n",
    "\n",
    "numbs_list = [1, 5, 3, 7, 9]\n",
    "avg_numbs_list = avg_num(numbs_list)\n",
    "print(avg_numbs_list)"
   ]
  },
  {
   "cell_type": "markdown",
   "id": "05fb31cd-563b-40f6-a460-47b3d3d233b2",
   "metadata": {},
   "source": [
    "### Упр. - Работа с типами данных\n",
    "1. Создайте переменные разных типов данных:\n",
    " - Целое число (например, количество студентов в группе).\n",
    " - Число с плавающей точкой (например, средний балл).\n",
    " - Строку (например, название курса).\n",
    " - Логическое значение (например, прошел ли студент курс).\n",
    "2.  \n",
    " - Выведите типы созданных переменных.\n",
    " - Выполните базовые арифметические операции с числовыми переменными.\n",
    " - Сконкатенируйте строковые переменные.\n",
    " - Преобразуйте числовую переменную в строку и наоборот."
   ]
  },
  {
   "cell_type": "code",
   "execution_count": 24,
   "id": "f2bcf22b-394b-4db1-a683-3d00873c6a55",
   "metadata": {},
   "outputs": [],
   "source": [
    "# 1\n",
    "# количество_студентов\n",
    "studs = 125\n",
    "# средний_балл \n",
    "avg_scr = 4.9\n",
    "# название_курса \n",
    "name_of_course= 'Основы Python'\n",
    "# прошел курс - нет\n",
    "has_compl = False"
   ]
  },
  {
   "cell_type": "code",
   "execution_count": 25,
   "id": "bfd12a45-ffba-4bd4-afb8-ef333430d982",
   "metadata": {},
   "outputs": [
    {
     "name": "stdout",
     "output_type": "stream",
     "text": [
      "Тип данных переменной studs: <class 'int'>\n",
      "Тип данных переменной avg_scr: <class 'float'>\n",
      "Тип данных переменной name_of_course: <class 'str'>\n",
      "Тип данных переменной has_compl: <class 'bool'>\n"
     ]
    }
   ],
   "source": [
    "# 2 типы созданных переменных.\n",
    "  # список переменных2\n",
    "list_variab = [studs, avg_scr, name_of_course, has_compl]\n",
    "name_list_variab = ['studs', 'avg_scr', 'name_of_course', 'has_compl']\n",
    "for i, variab in enumerate(list_variab):\n",
    "    print(f'Тип данных переменной {name_list_variab[i]}: {type(variab)}')"
   ]
  },
  {
   "cell_type": "code",
   "execution_count": 32,
   "id": "021de2cb-ec5a-43a5-8643-bc5567422630",
   "metadata": {},
   "outputs": [
    {
     "name": "stdout",
     "output_type": "stream",
     "text": [
      "Для сдачи экзаменов, студентов разделили на 5 группы по 25 человек\n",
      "25 студентов ушли домой и на паре их осталось: 100\n",
      "6 студентов с другого курса присоединились и их стало: 106\n",
      "Общее количество набранных баллов 106-ти студентов может быть таким: 519.4\n"
     ]
    }
   ],
   "source": [
    "# 2  базовые арифметические операции с числовыми переменными.\n",
    "studs_group = studs // 25\n",
    "print(\"Для сдачи экзаменов, студентов разделили \\\n",
    "на {} группы по 25 человек\".format(studs_group))\n",
    "\n",
    "# Вычитание\n",
    "dif_studs = studs - 25\n",
    "print(f'25 студентов ушли домой и на паре их осталось: {dif_studs}')\n",
    "# Сложение\n",
    "plus_stud = dif_studs + 6\n",
    "print(f'6 студентов с другого курса присоединились и их стало\\\n",
    ": {plus_stud}')\n",
    "total_score = avg_scr * plus_stud\n",
    "print(f'Общее количество набранных баллов {plus_stud}-ти студентов \\\n",
    "может быть таким: {round(total_score,1)}')"
   ]
  },
  {
   "cell_type": "code",
   "execution_count": 33,
   "id": "bf5e52f7-9389-4a25-8420-f9faf8d7c1b0",
   "metadata": {},
   "outputs": [
    {
     "name": "stdout",
     "output_type": "stream",
     "text": [
      "Полное название курса: \"Основы Python : Строим прочный фундамент\"\n"
     ]
    }
   ],
   "source": [
    "# 2 Сконкатенируйте строковые переменные.\n",
    "full_cource_name = name_of_course + \" : Строим прочный фундамент\"\n",
    "print(f'Полное название курса: \"{full_cource_name}\"')"
   ]
  },
  {
   "cell_type": "code",
   "execution_count": 34,
   "id": "4dd55f90-c7e3-4bae-8c21-748c6102908a",
   "metadata": {},
   "outputs": [
    {
     "name": "stdout",
     "output_type": "stream",
     "text": [
      "4.9 <class 'str'>\n"
     ]
    }
   ],
   "source": [
    "# 2  Преобразуйте числовую переменную в строку и наоборот.\n",
    "avg_scr_str = str(avg_scr)\n",
    "print(avg_scr_str, type(avg_scr_str))"
   ]
  },
  {
   "cell_type": "code",
   "execution_count": 35,
   "id": "cee02d91-edb8-4064-b1b3-e367525860c1",
   "metadata": {},
   "outputs": [
    {
     "name": "stdout",
     "output_type": "stream",
     "text": [
      "4.9 <class 'float'>\n"
     ]
    }
   ],
   "source": [
    "avg_scr_float = float(avg_scr_str)\n",
    "print(avg_scr_float, type(avg_scr_float))"
   ]
  },
  {
   "cell_type": "markdown",
   "id": "d46f9bd2-c7ca-478d-88f1-092d7896d12e",
   "metadata": {},
   "source": [
    "### Упр. - Работа со списками\n",
    "1. Создайте список любимых книг, фильмов или песен.\n",
    "1. Выведите первый и последний элементы списка.\n",
    "1. Добавьте новый элемент в конец списка.\n",
    "1. Удалите элемент из списка по индексу.\n",
    "1. Отсортируйте список по алфавиту.\n",
    "1. Создайте новый список, содержащий только четные числа из исходного списка."
   ]
  },
  {
   "cell_type": "code",
   "execution_count": 36,
   "id": "c1c1018b-2efa-47f3-8d17-7c65a5448e20",
   "metadata": {},
   "outputs": [],
   "source": [
    "# 1 Создайте список любимых книг, фильмов или песен.\n",
    "list_books = ['Идиот', 'Война и мир', \n",
    "              'Мастер и мммаргарита', 'Дом в котором...']"
   ]
  },
  {
   "cell_type": "code",
   "execution_count": 37,
   "id": "ec486522-1e5c-462c-8346-234e2277546e",
   "metadata": {},
   "outputs": [
    {
     "name": "stdout",
     "output_type": "stream",
     "text": [
      "Первая книга в моем списке это:  Идиот\n",
      "Последняя книга в моем списке это:  Дом в котором...\n"
     ]
    }
   ],
   "source": [
    "# 2 Выведите первый и последний элементы списка.\n",
    "print(\"Первая книга в моем списке это: \", list_books[0])\n",
    "print(\"Последняя книга в моем списке это: \", list_books[len(list_books) -1])"
   ]
  },
  {
   "cell_type": "code",
   "execution_count": 38,
   "id": "6c764ea0-a542-4f9a-bf59-16a25f317e2a",
   "metadata": {},
   "outputs": [
    {
     "name": "stdout",
     "output_type": "stream",
     "text": [
      "Обновленный список книг после удаления первой книги списка:\n",
      " ['Идиот', 'Война и мир', 'Дом в котором...']\n"
     ]
    }
   ],
   "source": [
    "# 4 Удалите элемент из списка по индексу.\n",
    "del list_books[2]\n",
    "print('Обновленный список книг после удаления первой книги списка:\\n', \n",
    "list_books)"
   ]
  },
  {
   "cell_type": "code",
   "execution_count": 39,
   "id": "08b481df-7a01-4b6f-88df-9b85c2558ba9",
   "metadata": {},
   "outputs": [
    {
     "name": "stdout",
     "output_type": "stream",
     "text": [
      "Обновленный список книг:  ['Идиот', 'Война и мир', 'Дом в котором...', 'Мастер и Маргарита']\n"
     ]
    }
   ],
   "source": [
    "# 3 Добавьте новый элемент в конец списка.\n",
    "list_books.append('Мастер и Маргарита')\n",
    "print(\"Обновленный список книг: \", list_books)"
   ]
  },
  {
   "cell_type": "code",
   "execution_count": 40,
   "id": "8f54867c-511d-4103-9ec9-99f5d20ced82",
   "metadata": {},
   "outputs": [
    {
     "name": "stdout",
     "output_type": "stream",
     "text": [
      "['Война и мир', 'Дом в котором...', 'Идиот', 'Мастер и Маргарита']\n"
     ]
    }
   ],
   "source": [
    "# 5 Отсортируйте список по алфавиту\n",
    "list_books.sort(reverse=False)\n",
    "print(list_books)"
   ]
  },
  {
   "cell_type": "code",
   "execution_count": 41,
   "id": "a02940d3-d895-4eb8-a7e1-25861d759c8b",
   "metadata": {},
   "outputs": [
    {
     "data": {
      "text/plain": [
       "[562, 68, 925, 405, 94, 163, 848, 229, 283, 254, 38, 56, 640, 454, 772]"
      ]
     },
     "execution_count": 41,
     "metadata": {},
     "output_type": "execute_result"
    }
   ],
   "source": [
    "# 6 Создайте новый список, содержащий только четные числа из исходного списка.\n",
    "# 6.1создадим исходный список\n",
    "import random\n",
    "\n",
    "randoms_list=[]\n",
    "for i in range (15):\n",
    "    randoms_list.append(random.randrange(10, 1005, 1))\n",
    "randoms_list"
   ]
  },
  {
   "cell_type": "code",
   "execution_count": 42,
   "id": "25a8eac1-1a48-4c78-8746-32f80d9a2b8b",
   "metadata": {},
   "outputs": [
    {
     "name": "stdout",
     "output_type": "stream",
     "text": [
      "Список с четными числами из списка randoms_list:  [562, 68, 94, 848, 254, 38, 56, 640, 454, 772]\n"
     ]
    }
   ],
   "source": [
    "# 6.2 создадим теперь список с четными числами из списка randoms_list\n",
    "new_num_list = []\n",
    "for numb in randoms_list:\n",
    "    if numb % 2  == 0:\n",
    "        new_num_list.append(numb)\n",
    "print(\"Список с четными числами из списка randoms_list: \", new_num_list)     "
   ]
  },
  {
   "cell_type": "markdown",
   "id": "be94ef20-b981-4026-b283-75874fc55d8e",
   "metadata": {},
   "source": [
    "### Упр. - Работа со словарями\n",
    "1. Создайте словарь, где ключами будут названия стран, а значениями - их столицы.\n",
    "1. Выведите столицу по заданной стране.\n",
    "1. Добавьте новую пару \"страна-столица\" в словарь.\n",
    "1. Проверьте, есть ли в словаре заданная страна."
   ]
  },
  {
   "cell_type": "code",
   "execution_count": 43,
   "id": "aca53f44-7c71-4146-83fa-3bcccf3e1491",
   "metadata": {},
   "outputs": [],
   "source": [
    "# 1.Создайте словарь, где ключами будут названия стран, а значениями - их столицы.\n",
    "country_dict = {'Бельгия': 'Брюссель', \n",
    "              'Норвегия': 'Осло',\n",
    "               'Швеция': 'Стокгольм',\n",
    "               'Албания': 'Тирана'\n",
    "              }"
   ]
  },
  {
   "cell_type": "code",
   "execution_count": 44,
   "id": "72a0e154-dd74-4176-8fb4-31ba4844c0af",
   "metadata": {},
   "outputs": [
    {
     "name": "stdout",
     "output_type": "stream",
     "text": [
      "Стокгольм\n"
     ]
    }
   ],
   "source": [
    "# 2. Выведите столицу по заданной стране.\n",
    "print(country_dict['Швеция'])"
   ]
  },
  {
   "cell_type": "code",
   "execution_count": 45,
   "id": "9de11b94-6e08-4c40-b4ef-5592e650c274",
   "metadata": {},
   "outputs": [],
   "source": [
    "# 3 Добавьте новую пару \"страна-столица\" в словарь.\n",
    "country_dict['Сан-Марино'] = 'Сан-Марино'"
   ]
  },
  {
   "cell_type": "code",
   "execution_count": 46,
   "id": "65fa9321-b764-453b-8a9a-036550bd7b2f",
   "metadata": {},
   "outputs": [
    {
     "name": "stdout",
     "output_type": "stream",
     "text": [
      "Страны Россия в списке нет.\n",
      "Страна Норвегия в списке есть, столица Осло.\n"
     ]
    }
   ],
   "source": [
    "# 4 Проверьте, есть ли в словаре заданная страна.\n",
    "for country in ['Россия', 'Норвегия']:\n",
    "    if country in country_dict:\n",
    "        print('Страна {} в списке есть, столица {}.'.format(country, country_dict[country]))\n",
    "    else:\n",
    "        print('Страны {} в списке нет.'.format(country))\n"
   ]
  },
  {
   "cell_type": "markdown",
   "id": "4ef5adb8-736c-47d0-9f4f-76ec41ffe9d7",
   "metadata": {},
   "source": [
    "### Упр. - Управляющие конструкции\n",
    "1. Напишите программу, которая запрашивает у пользователя число и определяет, является ли оно положительным, отрицательным или нулем.\n",
    "1. Напишите программу, которая выводит все четные числа от 1 до 100.\n",
    "1. Напишите программу, которая запрашивает у пользователя число и выводит таблицу умножения для этого числа."
   ]
  },
  {
   "cell_type": "code",
   "execution_count": 48,
   "id": "8567626a-d509-49e4-87a5-08d52bf6c977",
   "metadata": {},
   "outputs": [
    {
     "name": "stdin",
     "output_type": "stream",
     "text": [
      "Введите число:  66\n"
     ]
    },
    {
     "name": "stdout",
     "output_type": "stream",
     "text": [
      "Число положительное!\n"
     ]
    }
   ],
   "source": [
    "# 1 программ к-я определяет, является ли введенное число положительным, отрицательным или нулем.\n",
    "\n",
    "number_input = int(input(\"Введите число: \")) \n",
    "if number_input < 0:\n",
    "    print(\"Число отрицательное!\")\n",
    "elif number_input == 0:\n",
    "    print(\"Число равно нулю!\")\n",
    "else:\n",
    "    print(\"Число положительное!\")    "
   ]
  },
  {
   "cell_type": "code",
   "execution_count": 49,
   "id": "74a6b80d-eb63-49a9-85ac-8e5402eab688",
   "metadata": {},
   "outputs": [
    {
     "name": "stdout",
     "output_type": "stream",
     "text": [
      "2 4 6 8 10 12 14 16 18 20 22 24 26 28 30 32 34 36 38 40 42 44 46 48 50 52 54 56 58 60 62 64 66 68 70 72 74 76 78 80 82 84 86 88 90 92 94 96 98 100 "
     ]
    }
   ],
   "source": [
    "# 2Напишите программу, которая выводит все четные числа от 1 до 100.\n",
    "for num in range(2,101,2):\n",
    "   print(num, end=' ')    "
   ]
  },
  {
   "cell_type": "code",
   "execution_count": 50,
   "id": "857e004d-b172-45f9-b6f5-eb6853d3f195",
   "metadata": {},
   "outputs": [
    {
     "name": "stdout",
     "output_type": "stream",
     "text": [
      "[2, 4, 6, 8, 10, 12, 14, 16, 18, 20, 22, 24, 26, 28, 30, 32, 34, 36, 38, 40, 42, 44, 46, 48, 50, 52, 54, 56, 58, 60, 62, 64, 66, 68, 70, 72, 74, 76, 78, 80, 82, 84, 86, 88, 90, 92, 94, 96, 98, 100]\n"
     ]
    }
   ],
   "source": [
    "# 2Напишите программу, которая выводит все четные числа от 1 до 100 - вариант со списком\n",
    "nums_list_new = []\n",
    "for num in range(2,101,2):\n",
    "   nums_list_new.append(num)\n",
    "print(nums_list_new)"
   ]
  },
  {
   "cell_type": "code",
   "execution_count": 52,
   "id": "0bcbe8ff-740f-4efb-9695-6168b44c3d0a",
   "metadata": {},
   "outputs": [
    {
     "name": "stdin",
     "output_type": "stream",
     "text": [
      "Ввод числа:  9\n"
     ]
    },
    {
     "name": "stdout",
     "output_type": "stream",
     "text": [
      "9 x 1 = 9 \n",
      "9 x 2 = 18 \n",
      "9 x 3 = 27 \n",
      "9 x 4 = 36 \n",
      "9 x 5 = 45 \n",
      "9 x 6 = 54 \n",
      "9 x 7 = 63 \n",
      "9 x 8 = 72 \n",
      "9 x 9 = 81 \n",
      "9 x 10 = 90 \n"
     ]
    }
   ],
   "source": [
    "# 3 запрос числа и выведение таблицу умножения для этого числа.\n",
    "mult_num = int(input(\"Ввод числа: \"))\n",
    "for mult in range(1, 11):\n",
    "    print('{} x {} = {} '.format(mult_num, mult, mult_num*mult))               "
   ]
  },
  {
   "cell_type": "markdown",
   "id": "11769353-fec8-40e9-bfa5-56c3551cf7c1",
   "metadata": {},
   "source": [
    "### Упр. - Функции\n",
    "\n",
    "1. Напишите функцию, которая принимает два числа в качестве аргументов и возвращает их сумму.\n",
    "1. Напишите функцию, которая принимает список чисел и возвращает их среднее арифметическое.\n",
    "1. Напишите функцию, которая принимает строку и возвращает количество гласных букв в ней."
   ]
  },
  {
   "cell_type": "code",
   "execution_count": 53,
   "id": "53020df8-888c-4dea-8bbb-26ad8995c863",
   "metadata": {},
   "outputs": [],
   "source": [
    "#1 Напишите функцию, которая принимает два числа в качестве аргументов и возвращает их сумму.\n",
    "def func_sum(x, y):\n",
    "    sum_result = x + y\n",
    "    return print('{} + {} = {}'.format(x, y, sum_result))"
   ]
  },
  {
   "cell_type": "code",
   "execution_count": 54,
   "id": "958993a4-bd2a-4165-af91-ad695fe48d03",
   "metadata": {},
   "outputs": [
    {
     "name": "stdin",
     "output_type": "stream",
     "text": [
      "Введи число:  6\n",
      "Введи число:  9\n"
     ]
    },
    {
     "name": "stdout",
     "output_type": "stream",
     "text": [
      "6 + 9 = 15\n"
     ]
    }
   ],
   "source": [
    "x = int(input(\"Введи число: \"))\n",
    "y = int(input(\"Введи число: \"))\n",
    "func_sum(x, y)"
   ]
  },
  {
   "cell_type": "code",
   "execution_count": 55,
   "id": "d47d5428-de45-4c4f-bb73-5720f30e1b0e",
   "metadata": {},
   "outputs": [
    {
     "name": "stdout",
     "output_type": "stream",
     "text": [
      "Среднее арифметическое чисел списка равно 32.8\n"
     ]
    }
   ],
   "source": [
    "# 2 Напишите функцию, которая принимает список чисел и возвращает их среднее арифметическое.\n",
    "def average_num(list_numb):\n",
    "    result = 0\n",
    "    for numb in list_numb:\n",
    "        result += numb\n",
    "    return print(\"Среднее арифметическое чисел списка равно {}\".format(round(result/ len(list_numb),1)))\n",
    "\n",
    "list_numbers = [1, 10, 100, 20]\n",
    "average_num(list_numbers)"
   ]
  },
  {
   "cell_type": "code",
   "execution_count": 56,
   "id": "af79a89a-d9d0-40c4-8372-4b5e64aafd05",
   "metadata": {},
   "outputs": [
    {
     "name": "stdout",
     "output_type": "stream",
     "text": [
      "Количество гласных в строке: 4\n"
     ]
    }
   ],
   "source": [
    "# Напишите функцию, которая принимает строку и возвращает количество гласных букв в ней.\n",
    "def vowel_letters(some_str):\n",
    "    vowels = set(\"aeiouyаоэеиыуёюя\")\n",
    "    sum_vowels = 0\n",
    "    for letter in some_str:\n",
    "        if letter in vowels:\n",
    "            sum_vowels += 1\n",
    "    return print(f\"Количество гласных в строке: {sum_vowels}\")\n",
    "    \n",
    "hello_str = \"Привет, Python!\"\n",
    "vowel_letters(hello_str)"
   ]
  },
  {
   "cell_type": "markdown",
   "id": "c32ae9f2-4d06-451e-b4d6-68fc403a35b4",
   "metadata": {},
   "source": [
    "### Дополнительные задания\n",
    "1. Напишите программу, которая находит наибольший общий делитель (НОД) двух чисел.\n",
    "1. Напишите программу, которая проверяет, является ли заданная строка палиндромом (читается одинаково слева направо и справа налево).\n",
    "1. Напишите программу, которая конвертирует температуру из Цельсия в Фаренгейты и наоборот (пользователь выбирает направление конвертации)."
   ]
  },
  {
   "cell_type": "code",
   "execution_count": 58,
   "id": "13d4c3ac-074a-4d2b-9f18-91fe3e5f8206",
   "metadata": {},
   "outputs": [
    {
     "name": "stdin",
     "output_type": "stream",
     "text": [
      "Введите первое число:  6\n",
      "Введите второе число:  9\n"
     ]
    },
    {
     "name": "stdout",
     "output_type": "stream",
     "text": [
      "Наибольший общий делитель: 3\n"
     ]
    }
   ],
   "source": [
    "# 1 Напишите программу, которая находит наибольший общий делитель (НОД) двух чисел.\n",
    "# Ввод чисел\n",
    "a = int(input(\"Введите первое число: \"))\n",
    "b = int(input(\"Введите второе число: \"))\n",
    "\n",
    "# Функция для нахождения НОД\n",
    "def gcd(x, y):\n",
    "    while y:\n",
    "        x, y = y, x % y\n",
    "    return x\n",
    "\n",
    "# Вычисление НОД\n",
    "result = gcd(a, b)\n",
    "\n",
    "# Вывод результата\n",
    "print(\"Наибольший общий делитель:\", result)"
   ]
  },
  {
   "cell_type": "code",
   "execution_count": 59,
   "id": "329e9e60-0f00-4e6c-97c9-80213bbf47e9",
   "metadata": {},
   "outputs": [
    {
     "name": "stdout",
     "output_type": "stream",
     "text": [
      "Заданная строка пепеп - палиндром!\n"
     ]
    }
   ],
   "source": [
    "# 2 Напишите программу, которая проверяет, является ли заданная строка палиндромом (читается одинаково слева направо и справа налево).\n",
    "def test_palindrom(s):\n",
    "    reversed_s = ''.join(reversed(s))\n",
    "    if reversed_s == s:\n",
    "        return print(f\"Заданная строка {s} - палиндром!\")\n",
    "    else:\n",
    "        return print(f\"Заданная строка {s} - не палиндром!\")\n",
    "sm_str = 'пепеп'\n",
    "som_str = \"Hello!\"\n",
    "test_palindrom(sm_str)"
   ]
  },
  {
   "cell_type": "code",
   "execution_count": 60,
   "id": "cce96962-0bfd-4e70-a1a6-117cb311e6d2",
   "metadata": {},
   "outputs": [
    {
     "name": "stdout",
     "output_type": "stream",
     "text": [
      "Заданная строка Hello! - не палиндром!\n"
     ]
    }
   ],
   "source": [
    "som_str = \"Hello!\"\n",
    "test_palindrom(som_str)"
   ]
  },
  {
   "cell_type": "code",
   "execution_count": 61,
   "id": "09da46a8-6fdb-4020-9695-8c75437181a2",
   "metadata": {},
   "outputs": [
    {
     "name": "stdin",
     "output_type": "stream",
     "text": [
      "Текущая температура =  451\n",
      "Введите c (по Цельцию) или f (по Фаренгейту) =  f\n"
     ]
    },
    {
     "name": "stdout",
     "output_type": "stream",
     "text": [
      "451 по Фаренгейту это 232 по Цельсию\n"
     ]
    }
   ],
   "source": [
    "# конвертирует температуру из Цельсия в Фаренгейты и наоборот (пользователь выбирает направление конвертации).\n",
    "def temp_converter(temp, unit):\n",
    "    if unit.upper() in \"СCЦ\":\n",
    "        return print(\"{} по Цельсию \\\n",
    "это {} по Фаренгейту\".format(temp, int(round((temp * 9 / 5) + 32, 0))))\n",
    "    elif unit.upper() == \"F\" or unit.upper() == \"Ф\":\n",
    "        return print(\"{} по Фаренгейту \\\n",
    "это {} по Цельсию\".format(temp, int(round((temp - 32) * 5 / 9, 2))))\n",
    "    else:\n",
    "        print(\"Единица измерения не распознана\")\n",
    "        \n",
    "temp, unit = int(input(\"Текущая температура = \")), input(\"Введите c (по Цельцию) или f (по Фаренгейту) = \")\n",
    "temp_converter(temp, unit)\n"
   ]
  },
  {
   "cell_type": "code",
   "execution_count": null,
   "id": "f684b9c5-937e-49e0-8f8c-0b6f4add14d4",
   "metadata": {},
   "outputs": [],
   "source": []
  }
 ],
 "metadata": {
  "kernelspec": {
   "display_name": "Python 3 (ipykernel)",
   "language": "python",
   "name": "python3"
  },
  "language_info": {
   "codemirror_mode": {
    "name": "ipython",
    "version": 3
   },
   "file_extension": ".py",
   "mimetype": "text/x-python",
   "name": "python",
   "nbconvert_exporter": "python",
   "pygments_lexer": "ipython3",
   "version": "3.12.2"
  }
 },
 "nbformat": 4,
 "nbformat_minor": 5
}
