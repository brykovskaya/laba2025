{
 "cells": [
  {
   "cell_type": "code",
   "execution_count": 1,
   "id": "7405daea-2950-479d-9861-a22125b0645d",
   "metadata": {},
   "outputs": [],
   "source": [
    "#для запуска локально возможно потребуется\n",
    "# !pip install psycopg2"
   ]
  },
  {
   "cell_type": "code",
   "execution_count": 2,
   "id": "38b898d9-4bf3-4ce3-bc5c-ddbb7841bbd4",
   "metadata": {},
   "outputs": [],
   "source": [
    "# установить SQLAlchemy\n",
    "# !pip install SQLAlchemy"
   ]
  },
  {
   "cell_type": "code",
   "execution_count": 3,
   "id": "02974e6c-5ff1-4890-84f3-61cbec198c5b",
   "metadata": {},
   "outputs": [],
   "source": [
    "import sqlalchemy as sa"
   ]
  },
  {
   "cell_type": "code",
   "execution_count": 4,
   "id": "0bebdbb5-8317-47d5-9802-56a35b13ca82",
   "metadata": {},
   "outputs": [],
   "source": [
    "import os\n",
    "from sqlalchemy import text, create_engine"
   ]
  },
  {
   "cell_type": "code",
   "execution_count": 5,
   "id": "555c2c2b-f3aa-4a0f-8226-6c522f2f5e8f",
   "metadata": {},
   "outputs": [
    {
     "data": {
      "text/plain": [
       "True"
      ]
     },
     "execution_count": 5,
     "metadata": {},
     "output_type": "execute_result"
    }
   ],
   "source": [
    "#поиск файла .env и загрузка из него переменных среды - файл в папке с ноутбуком \n",
    "# д.лежать +в гитигноре\n",
    "from dotenv import load_dotenv\n",
    "#грузим пароли запуская поиск файла .env локально\n",
    "load_dotenv()"
   ]
  },
  {
   "cell_type": "code",
   "execution_count": 6,
   "id": "720b7733-0bb8-4e6d-81a3-52507f1c41a4",
   "metadata": {},
   "outputs": [],
   "source": [
    "#устанавливаем параметры\n",
    "# получаем параметры из хранимого в специальном скрытом файле .env - не храним пароли в явном виде\n",
    "import psycopg2\n",
    "conn_params = {\n",
    "    'host': 'localhost',\n",
    "    'port': 5432, \n",
    "    'database': os.getenv('DB_NAME'), #название базы данных подгружается из локального файла\n",
    "    'user': os.getenv('DB_USER'),#имя пользователя подгружается из локального файла\n",
    "    'password': os.getenv('DB_PASSWORD')#пароль  подгружается из локального файла    \n",
    "}\n",
    "# connection_string = 'postgresql://{user}:{password}@{host}:{port}/{db}'.format(**db_config)"
   ]
  },
  {
   "cell_type": "code",
   "execution_count": 7,
   "id": "06b54c96-9154-4131-bfe6-31327cdeed08",
   "metadata": {},
   "outputs": [],
   "source": [
    "conn = psycopg2.connect(**conn_params)\n",
    "cur = conn.cursor()\n"
   ]
  },
  {
   "cell_type": "code",
   "execution_count": 8,
   "id": "aacd9ac6-76c7-456b-b676-ddfd27a87d3e",
   "metadata": {},
   "outputs": [],
   "source": [
    "# очищаем базу данных - т.к. при перезапуске ядра - создадим дубли.\n",
    "# и все данные создадим снова с нуля тут. для других проектов аккуратнее!\n",
    "cur.execute('''DROP TABLE IF EXISTS users;''')\n"
   ]
  },
  {
   "cell_type": "code",
   "execution_count": 9,
   "id": "95f83608-f626-43f2-99b4-11889709e7cf",
   "metadata": {},
   "outputs": [],
   "source": [
    "cur.execute('''\n",
    "CREATE TABLE IF NOT EXISTS users(\n",
    "    id SERIAL PRIMARY KEY, -- автоинкрементный идентификатор\n",
    "    username VARCHAR(50) NOT NULL,\n",
    "    email VARCHAR(50) NOT NULL,\n",
    "    password VARCHAR(14) NOT NULL\n",
    ");\n",
    "''')\n",
    "# Фиксация изменений - коммит в БД\n",
    "conn.commit()"
   ]
  },
  {
   "attachments": {},
   "cell_type": "markdown",
   "id": "9eddf4bf-c26b-4090-8acb-f816c231f428",
   "metadata": {},
   "source": [
    "скриншот с созданной таблицей в локальной бд  \n",
    "![image.png](../images/08_01.png)"
   ]
  },
  {
   "cell_type": "code",
   "execution_count": 10,
   "id": "e829bf45-d2fb-45ae-bffd-9da46c894455",
   "metadata": {},
   "outputs": [],
   "source": [
    "# # 3Добавим несколько записей в таблицу \n",
    "insert_stmt = '''\n",
    "INSERT INTO users (username, email, password) VALUES (%s, %s, %s);\n",
    "'''\n",
    "data_users = [\n",
    "    ('natasha', 'natasha@aston.com', 'password1'),\n",
    "    ('masha', 'masha@mail.ru', 'password2'),\n",
    "    ('alex', 'alex@aston.com', 'password3'),\n",
    "    ('sergej', 'sergej@aston.com', 'password4'),\n",
    "    ('mikchail', 'mikchail@mail.ru', 'password5')\n",
    "]"
   ]
  },
  {
   "cell_type": "code",
   "execution_count": 11,
   "id": "d2c8ed0b-dca9-4674-a546-73f0b1a623bf",
   "metadata": {},
   "outputs": [],
   "source": [
    "for user in data_users:\n",
    "    cur.execute(insert_stmt, user)"
   ]
  },
  {
   "cell_type": "code",
   "execution_count": 12,
   "id": "3403b35f-fef8-4ac4-9ca7-daaec13c7b49",
   "metadata": {},
   "outputs": [
    {
     "name": "stdout",
     "output_type": "stream",
     "text": [
      "(1, 'natasha', 'natasha@aston.com', 'password1')\n",
      "(2, 'masha', 'masha@mail.ru', 'password2')\n",
      "(3, 'alex', 'alex@aston.com', 'password3')\n",
      "(4, 'sergej', 'sergej@aston.com', 'password4')\n",
      "(5, 'mikchail', 'mikchail@mail.ru', 'password5')\n"
     ]
    }
   ],
   "source": [
    "# выгрузим записи из таблицы\n",
    "result = cur.execute('''\n",
    "SELECT * FROM users;\n",
    "''')\n",
    "# выведем их на печать\n",
    "for item in cur:\n",
    "    print(item)"
   ]
  },
  {
   "cell_type": "code",
   "execution_count": 13,
   "id": "08ef8dae-26f4-44d1-83e1-ef44423e26ad",
   "metadata": {},
   "outputs": [],
   "source": [
    "# Фиксация изменений - коммит в БД\n",
    "conn.commit()"
   ]
  },
  {
   "attachments": {},
   "cell_type": "markdown",
   "id": "5698ac59-4d55-467a-9bea-57800a1886b0",
   "metadata": {},
   "source": [
    "скрин таблицы с добавленными данными  \n",
    "![image.png](../images/08_02.png)"
   ]
  },
  {
   "cell_type": "code",
   "execution_count": 14,
   "id": "aded2137-cfe9-49d8-8960-be15656a03f9",
   "metadata": {},
   "outputs": [],
   "source": [
    "# закрываем соединение\n",
    "conn.close()"
   ]
  },
  {
   "cell_type": "markdown",
   "id": "d1cc64d9-bb58-46ca-8122-55df59b2507e",
   "metadata": {},
   "source": [
    "### Упражнения DML\n",
    "1. Напишите код для вывода всех пользователей с определенным email-адресом из таблицы \"users\".\n",
    "1. Обновите пароль пользователя по его id.\n",
    "1. Удалите пользователя по его username.\n",
    "\n",
    "#### 1. Напишите код для вывода всех пользователей с определенным email-адресом из таблицы \"users\"."
   ]
  },
  {
   "cell_type": "code",
   "execution_count": 15,
   "id": "b182f408-fe9e-406f-a747-d25079ee8ff1",
   "metadata": {},
   "outputs": [],
   "source": [
    "# подключаемся. параметры введены ранее\n",
    "# conn_params = {\n",
    "#     'host': 'localhost',\n",
    "#     'port': 5432, \n",
    "#     'database': os.getenv('DB_NAME'), #название базы данных подгружается из локального файла\n",
    "#     'user': os.getenv('DB_USER'),#имя пользователя подгружается из локального файла\n",
    "#     'password': os.getenv('DB_PASSWORD')#пароль  подгружается из локального файла    \n",
    "# }\n",
    "conn = psycopg2.connect(**conn_params)\n",
    "cur = conn.cursor()"
   ]
  },
  {
   "cell_type": "code",
   "execution_count": 16,
   "id": "b68f82db-7c5a-484c-814e-9b7a560bed57",
   "metadata": {},
   "outputs": [
    {
     "name": "stdout",
     "output_type": "stream",
     "text": [
      "(2, 'masha', 'masha@mail.ru', 'password2')\n",
      "(5, 'mikchail', 'mikchail@mail.ru', 'password5')\n"
     ]
    }
   ],
   "source": [
    "# 1код для вывода всех пользователей с определенным email-адресом из таблицы \"users\"\n",
    "query = 'SELECT * FROM users WHERE email LIKE %s'\n",
    "\n",
    "cur.execute(query, ('%mail.ru',))\n",
    "\n",
    "\n",
    "# Проверяем результат\n",
    "res = cur.fetchall()\n",
    "\n",
    "for r in res:\n",
    "    print(r)"
   ]
  },
  {
   "cell_type": "code",
   "execution_count": 17,
   "id": "f02d463b-7341-49c5-9df1-352bd6670bc8",
   "metadata": {},
   "outputs": [],
   "source": [
    "conn.close()"
   ]
  },
  {
   "cell_type": "markdown",
   "id": "d987c180-249a-444e-a01c-6fa676050f74",
   "metadata": {},
   "source": [
    "#### 2. Обновите пароль пользователя по его id."
   ]
  },
  {
   "cell_type": "code",
   "execution_count": 18,
   "id": "6f9f4b68-4ae4-46ee-82ef-ae642bfa1174",
   "metadata": {},
   "outputs": [],
   "source": [
    "# подключаемся. параметры введены ранее\n",
    "# conn_params = {\n",
    "#     'host': 'localhost',\n",
    "#     'port': 5432, \n",
    "#     'database': os.getenv('DB_NAME'), #название базы данных подгружается из локального файла\n",
    "#     'user': os.getenv('DB_USER'),#имя пользователя подгружается из локального файла\n",
    "#     'password': os.getenv('DB_PASSWORD')#пароль  подгружается из локального файла    \n",
    "# }\n",
    "conn = psycopg2.connect(**conn_params)\n",
    "cur = conn.cursor()"
   ]
  },
  {
   "cell_type": "code",
   "execution_count": 19,
   "id": "d943a96e-a789-43bf-91fc-1b572fe9fc05",
   "metadata": {},
   "outputs": [],
   "source": [
    "update_stmt = 'UPDATE users SET password = %s WHERE id = %s'\n",
    "cur.execute(update_stmt, ('new_password', 5))\n",
    "\n",
    "conn.commit()"
   ]
  },
  {
   "cell_type": "code",
   "execution_count": 20,
   "id": "eea4522b-82bd-4472-8684-477f2ec2f50f",
   "metadata": {},
   "outputs": [
    {
     "name": "stdout",
     "output_type": "stream",
     "text": [
      "new_password\n"
     ]
    }
   ],
   "source": [
    "# Проверим и закрываем соединение\n",
    "cur.execute('SELECT password FROM users WHERE id = 5')\n",
    "print(cur.fetchone()[0])\n",
    "conn.close()"
   ]
  },
  {
   "attachments": {},
   "cell_type": "markdown",
   "id": "16640fc6-54c0-4b54-8b32-90fe467bdcee",
   "metadata": {},
   "source": [
    "скрин таблицы из локальной бд с обновленным паролем  \n",
    "![image.png](../images/08_03.png)"
   ]
  },
  {
   "cell_type": "markdown",
   "id": "69bf1587-f458-40a7-bedd-98df910f8f52",
   "metadata": {},
   "source": [
    "#### 4. Удалите пользователя по его username."
   ]
  },
  {
   "cell_type": "code",
   "execution_count": 21,
   "id": "8438e3ff-8d24-4e6b-af42-370b662cd37b",
   "metadata": {},
   "outputs": [],
   "source": [
    "# подключаемся. параметры введены ранее\n",
    "# conn_params = {\n",
    "#     'host': 'localhost',\n",
    "#     'port': 5432, \n",
    "#     'database': os.getenv('DB_NAME'), #название базы данных подгружается из локального файла\n",
    "#     'user': os.getenv('DB_USER'),#имя пользователя подгружается из локального файла\n",
    "#     'password': os.getenv('DB_PASSWORD')#пароль  подгружается из локального файла    \n",
    "# }\n",
    "conn = psycopg2.connect(**conn_params)\n",
    "cur = conn.cursor()"
   ]
  },
  {
   "cell_type": "code",
   "execution_count": 22,
   "id": "a93756c8-3b8e-43cf-a134-52759155b819",
   "metadata": {},
   "outputs": [
    {
     "name": "stdout",
     "output_type": "stream",
     "text": [
      "Пользователь удален успешно!\n"
     ]
    }
   ],
   "source": [
    "#Удаление пользователя по его username masha. \n",
    "try:\n",
    "    cur.execute('DELETE FROM users WHERE username = %s', ('masha',))\n",
    "    conn.commit()\n",
    "    print('Пользователь удален успешно!')\n",
    "except Exception as e:\n",
    "    print(f\"Ошибка: {e}\")\n",
    "    conn.rollback()  # Откат при ошибке\n"
   ]
  },
  {
   "cell_type": "code",
   "execution_count": 23,
   "id": "f5242e50-f110-4a51-9bb6-fc475de2f5f6",
   "metadata": {},
   "outputs": [],
   "source": [
    "# закрываем соединение\n",
    "conn.close()"
   ]
  },
  {
   "attachments": {},
   "cell_type": "markdown",
   "id": "e93788e5-ebd4-49d1-b373-bc1a7ccf8900",
   "metadata": {},
   "source": [
    "![image.png](../images/08_04.png)\n",
    "скрин с удаленным пользователем из локальной бд.\n"
   ]
  },
  {
   "cell_type": "markdown",
   "id": "fe5e53f5-ebca-4d4c-91e9-5cc5ea4733e1",
   "metadata": {},
   "source": [
    "Упражнения - Интеграция с Pandas\n",
    "\n",
    "Упражнения - Интеграция с Pandas\n",
    "Загрузите данные из таблицы \"products\" в DataFrame.\n",
    "Отфильтруйте DataFrame, чтобы получить только продукты дороже определенной цены.\n",
    "lДобавьте столбец \"discount\" к DataFrame и рассчитайте скидку для каждого продукта.\n",
    "Загрузите обновленный DataFrame обратно в таблицу \"products\".\n",
    "\n",
    "\n",
    "данное упражнение дублирует упражнение выполненное в SQL_and_Python_SQLite.ipynb"
   ]
  },
  {
   "cell_type": "code",
   "execution_count": null,
   "id": "366ce396-f4b4-4ccf-bf49-c0971bb13773",
   "metadata": {},
   "outputs": [],
   "source": []
  }
 ],
 "metadata": {
  "kernelspec": {
   "display_name": "Python 3 (ipykernel)",
   "language": "python",
   "name": "python3"
  },
  "language_info": {
   "codemirror_mode": {
    "name": "ipython",
    "version": 3
   },
   "file_extension": ".py",
   "mimetype": "text/x-python",
   "name": "python",
   "nbconvert_exporter": "python",
   "pygments_lexer": "ipython3",
   "version": "3.12.2"
  }
 },
 "nbformat": 4,
 "nbformat_minor": 5
}
