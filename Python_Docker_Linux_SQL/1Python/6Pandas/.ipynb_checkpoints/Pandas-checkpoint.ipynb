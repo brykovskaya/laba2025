{
 "cells": [
  {
   "cell_type": "markdown",
   "id": "32392d13-6ed5-47b3-8855-f37c097205da",
   "metadata": {},
   "source": [
    "### Упр. - Установка и импорт\n",
    "1. Установите Pandas с помощью pip: pip install pandas"
   ]
  },
  {
   "cell_type": "code",
   "execution_count": 1,
   "id": "5f2475db-e3e2-43f3-82cd-e729c760b438",
   "metadata": {},
   "outputs": [
    {
     "name": "stdout",
     "output_type": "stream",
     "text": [
      "Requirement already satisfied: pandas in c:\\users\\79181\\n.brykovskaya\\module_2\\1python\\1virtual_environment\\ve\\lib\\site-packages (2.2.3)\n",
      "Requirement already satisfied: numpy>=1.26.0 in c:\\users\\79181\\n.brykovskaya\\module_2\\1python\\1virtual_environment\\ve\\lib\\site-packages (from pandas) (2.2.3)\n",
      "Requirement already satisfied: python-dateutil>=2.8.2 in c:\\users\\79181\\n.brykovskaya\\module_2\\1python\\1virtual_environment\\ve\\lib\\site-packages (from pandas) (2.9.0.post0)\n",
      "Requirement already satisfied: pytz>=2020.1 in c:\\users\\79181\\n.brykovskaya\\module_2\\1python\\1virtual_environment\\ve\\lib\\site-packages (from pandas) (2025.1)\n",
      "Requirement already satisfied: tzdata>=2022.7 in c:\\users\\79181\\n.brykovskaya\\module_2\\1python\\1virtual_environment\\ve\\lib\\site-packages (from pandas) (2025.1)\n",
      "Requirement already satisfied: six>=1.5 in c:\\users\\79181\\n.brykovskaya\\module_2\\1python\\1virtual_environment\\ve\\lib\\site-packages (from python-dateutil>=2.8.2->pandas) (1.17.0)\n"
     ]
    }
   ],
   "source": [
    "!pip install pandas"
   ]
  },
  {
   "cell_type": "markdown",
   "id": "2f58b92d-760c-4b61-9e8a-04889c20ce65",
   "metadata": {},
   "source": [
    "2. Импортируйте Pandas в ваш скрипт или Jupyter Notebook:  \n",
    "import pandas as pd"
   ]
  },
  {
   "cell_type": "code",
   "execution_count": 2,
   "id": "58388412-95e6-4b11-9a5f-6845c2415523",
   "metadata": {},
   "outputs": [],
   "source": [
    "import pandas as pd"
   ]
  },
  {
   "cell_type": "markdown",
   "id": "f9dc42f1-fd7e-45d5-9744-aa1ef5c77d61",
   "metadata": {},
   "source": [
    "### Упр. - Создание объектов Pandas"
   ]
  },
  {
   "cell_type": "code",
   "execution_count": 3,
   "id": "f27c5b0a-1d84-4fb3-b3b8-6f0686be404c",
   "metadata": {},
   "outputs": [],
   "source": [
    "# Создание Series\n",
    "\n",
    "data = [10, 20, 30, 40, 50]\n",
    "s = pd.Series(data)"
   ]
  },
  {
   "cell_type": "code",
   "execution_count": 4,
   "id": "e8b185e6-7ec6-4b21-9819-07a4f110d0d2",
   "metadata": {},
   "outputs": [],
   "source": [
    "# Создание DataFrame из словаря\n",
    "\n",
    "data = {'Name': ['Alice', 'Bob', 'Charlie'],\n",
    "        'Age': [25, 30, 28],\n",
    "        'City': ['New York', 'London', 'Paris']}\n",
    "df = pd.DataFrame(data)"
   ]
  },
  {
   "cell_type": "markdown",
   "id": "e4f2c924-e2a9-449b-9a22-dd4ecf7ad6ab",
   "metadata": {},
   "source": [
    "### Упр. - Чтение данных"
   ]
  },
  {
   "cell_type": "code",
   "execution_count": 68,
   "id": "8878c1a8-d5b7-4dfb-b19a-4ded787b80a7",
   "metadata": {},
   "outputs": [
    {
     "data": {
      "text/html": [
       "<div>\n",
       "<style scoped>\n",
       "    .dataframe tbody tr th:only-of-type {\n",
       "        vertical-align: middle;\n",
       "    }\n",
       "\n",
       "    .dataframe tbody tr th {\n",
       "        vertical-align: top;\n",
       "    }\n",
       "\n",
       "    .dataframe thead th {\n",
       "        text-align: right;\n",
       "    }\n",
       "</style>\n",
       "<table border=\"1\" class=\"dataframe\">\n",
       "  <thead>\n",
       "    <tr style=\"text-align: right;\">\n",
       "      <th></th>\n",
       "      <th>customer_id</th>\n",
       "      <th>last_name</th>\n",
       "      <th>first_name</th>\n",
       "      <th>city</th>\n",
       "    </tr>\n",
       "  </thead>\n",
       "  <tbody>\n",
       "    <tr>\n",
       "      <th>0</th>\n",
       "      <td>15634602</td>\n",
       "      <td>Hargrave</td>\n",
       "      <td>JOY</td>\n",
       "      <td>Moscow</td>\n",
       "    </tr>\n",
       "    <tr>\n",
       "      <th>1</th>\n",
       "      <td>15647311</td>\n",
       "      <td>Hill</td>\n",
       "      <td>MARK</td>\n",
       "      <td>Krasnodar</td>\n",
       "    </tr>\n",
       "    <tr>\n",
       "      <th>2</th>\n",
       "      <td>15619304</td>\n",
       "      <td>Onio</td>\n",
       "      <td>BETH</td>\n",
       "      <td>Schahty</td>\n",
       "    </tr>\n",
       "    <tr>\n",
       "      <th>3</th>\n",
       "      <td>15701354</td>\n",
       "      <td>Boni</td>\n",
       "      <td>KAJ</td>\n",
       "      <td>Lobnya</td>\n",
       "    </tr>\n",
       "    <tr>\n",
       "      <th>4</th>\n",
       "      <td>15737888</td>\n",
       "      <td>Mitchell</td>\n",
       "      <td>MARTA</td>\n",
       "      <td>Abakan</td>\n",
       "    </tr>\n",
       "  </tbody>\n",
       "</table>\n",
       "</div>"
      ],
      "text/plain": [
       "   customer_id last_name first_name       city\n",
       "0     15634602  Hargrave        JOY     Moscow\n",
       "1     15647311      Hill       MARK  Krasnodar\n",
       "2     15619304      Onio       BETH    Schahty\n",
       "3     15701354      Boni        KAJ     Lobnya\n",
       "4     15737888  Mitchell      MARTA     Abakan"
      ]
     },
     "execution_count": 68,
     "metadata": {},
     "output_type": "execute_result"
    }
   ],
   "source": [
    "# Из CSV файла\n",
    "\n",
    "df_csv = pd.read_csv(r'C:\\Users\\79181\\n.brykovskaya\\module_2\\1Python\\1Virtual_environment\\ve\\datasets\\clients.csv', sep=';')\n",
    "df_csv.head()"
   ]
  },
  {
   "cell_type": "code",
   "execution_count": 10,
   "id": "6919c992-c0cc-4c4b-bcb9-1a68d50f1f64",
   "metadata": {},
   "outputs": [
    {
     "name": "stdout",
     "output_type": "stream",
     "text": [
      "Collecting openpyxl\n",
      "  Using cached openpyxl-3.1.5-py2.py3-none-any.whl.metadata (2.5 kB)\n",
      "Collecting et-xmlfile (from openpyxl)\n",
      "  Using cached et_xmlfile-2.0.0-py3-none-any.whl.metadata (2.7 kB)\n",
      "Using cached openpyxl-3.1.5-py2.py3-none-any.whl (250 kB)\n",
      "Using cached et_xmlfile-2.0.0-py3-none-any.whl (18 kB)\n",
      "Installing collected packages: et-xmlfile, openpyxl\n",
      "Successfully installed et-xmlfile-2.0.0 openpyxl-3.1.5\n"
     ]
    }
   ],
   "source": [
    "!pip install openpyxl"
   ]
  },
  {
   "cell_type": "code",
   "execution_count": 18,
   "id": "d607087a-b3f9-484c-a96d-a05a9ae708f3",
   "metadata": {},
   "outputs": [
    {
     "data": {
      "text/html": [
       "<div>\n",
       "<style scoped>\n",
       "    .dataframe tbody tr th:only-of-type {\n",
       "        vertical-align: middle;\n",
       "    }\n",
       "\n",
       "    .dataframe tbody tr th {\n",
       "        vertical-align: top;\n",
       "    }\n",
       "\n",
       "    .dataframe thead th {\n",
       "        text-align: right;\n",
       "    }\n",
       "</style>\n",
       "<table border=\"1\" class=\"dataframe\">\n",
       "  <thead>\n",
       "    <tr style=\"text-align: right;\">\n",
       "      <th></th>\n",
       "      <th>order_id</th>\n",
       "      <th>customer_id</th>\n",
       "      <th>order_data</th>\n",
       "      <th>id_product</th>\n",
       "      <th>unit_price</th>\n",
       "      <th>quantity</th>\n",
       "    </tr>\n",
       "  </thead>\n",
       "  <tbody>\n",
       "    <tr>\n",
       "      <th>0</th>\n",
       "      <td>or-3322</td>\n",
       "      <td>15634602.0</td>\n",
       "      <td>2025-01-01</td>\n",
       "      <td>1.0</td>\n",
       "      <td>10.0</td>\n",
       "      <td>13</td>\n",
       "    </tr>\n",
       "    <tr>\n",
       "      <th>1</th>\n",
       "      <td>or-3255</td>\n",
       "      <td>15647311.0</td>\n",
       "      <td>2025-01-02</td>\n",
       "      <td>2.0</td>\n",
       "      <td>25.0</td>\n",
       "      <td>15</td>\n",
       "    </tr>\n",
       "    <tr>\n",
       "      <th>2</th>\n",
       "      <td>or-3229</td>\n",
       "      <td>15619304.0</td>\n",
       "      <td>2025-01-03</td>\n",
       "      <td>3.0</td>\n",
       "      <td>30.0</td>\n",
       "      <td>13</td>\n",
       "    </tr>\n",
       "    <tr>\n",
       "      <th>3</th>\n",
       "      <td>or-4783</td>\n",
       "      <td>15701354.0</td>\n",
       "      <td>2025-01-04</td>\n",
       "      <td>4.0</td>\n",
       "      <td>45.0</td>\n",
       "      <td>5</td>\n",
       "    </tr>\n",
       "    <tr>\n",
       "      <th>4</th>\n",
       "      <td>or-3976</td>\n",
       "      <td>15737888.0</td>\n",
       "      <td>2025-01-05</td>\n",
       "      <td>5.0</td>\n",
       "      <td>55.0</td>\n",
       "      <td>11</td>\n",
       "    </tr>\n",
       "  </tbody>\n",
       "</table>\n",
       "</div>"
      ],
      "text/plain": [
       "  order_id  customer_id order_data  id_product  unit_price  quantity\n",
       "0  or-3322   15634602.0 2025-01-01         1.0        10.0        13\n",
       "1  or-3255   15647311.0 2025-01-02         2.0        25.0        15\n",
       "2  or-3229   15619304.0 2025-01-03         3.0        30.0        13\n",
       "3  or-4783   15701354.0 2025-01-04         4.0        45.0         5\n",
       "4  or-3976   15737888.0 2025-01-05         5.0        55.0        11"
      ]
     },
     "execution_count": 18,
     "metadata": {},
     "output_type": "execute_result"
    }
   ],
   "source": [
    "# Из Excel файла\n",
    "df_excel = pd.read_excel(r'C:\\Users\\79181\\n.brykovskaya\\module_2\\1Python\\1Virtual_environment\\ve\\datasets\\orders.xlsx', sheet_name='Лист1')\n",
    "\n",
    "df_excel.head()"
   ]
  },
  {
   "cell_type": "code",
   "execution_count": 24,
   "id": "6565ec03-94fe-41f4-915d-e2a52216d05d",
   "metadata": {},
   "outputs": [],
   "source": [
    "import json"
   ]
  },
  {
   "cell_type": "code",
   "execution_count": 36,
   "id": "d013431d-a52c-4712-9ab0-17e2130c3f1e",
   "metadata": {},
   "outputs": [
    {
     "data": {
      "text/html": [
       "<div>\n",
       "<style scoped>\n",
       "    .dataframe tbody tr th:only-of-type {\n",
       "        vertical-align: middle;\n",
       "    }\n",
       "\n",
       "    .dataframe tbody tr th {\n",
       "        vertical-align: top;\n",
       "    }\n",
       "\n",
       "    .dataframe thead th {\n",
       "        text-align: right;\n",
       "    }\n",
       "</style>\n",
       "<table border=\"1\" class=\"dataframe\">\n",
       "  <thead>\n",
       "    <tr style=\"text-align: right;\">\n",
       "      <th></th>\n",
       "      <th>model</th>\n",
       "      <th>mpg</th>\n",
       "      <th>cyl</th>\n",
       "      <th>disp</th>\n",
       "      <th>hp</th>\n",
       "      <th>drat</th>\n",
       "      <th>wt</th>\n",
       "      <th>qsec</th>\n",
       "      <th>vs</th>\n",
       "      <th>am</th>\n",
       "      <th>gear</th>\n",
       "      <th>carb</th>\n",
       "    </tr>\n",
       "  </thead>\n",
       "  <tbody>\n",
       "    <tr>\n",
       "      <th>0</th>\n",
       "      <td>Mazda RX4</td>\n",
       "      <td>21.0</td>\n",
       "      <td>6</td>\n",
       "      <td>160.0</td>\n",
       "      <td>110</td>\n",
       "      <td>3.90</td>\n",
       "      <td>2.620</td>\n",
       "      <td>16.46</td>\n",
       "      <td>0</td>\n",
       "      <td>1</td>\n",
       "      <td>4</td>\n",
       "      <td>4</td>\n",
       "    </tr>\n",
       "    <tr>\n",
       "      <th>1</th>\n",
       "      <td>Mazda RX4 Wag</td>\n",
       "      <td>21.0</td>\n",
       "      <td>6</td>\n",
       "      <td>160.0</td>\n",
       "      <td>110</td>\n",
       "      <td>3.90</td>\n",
       "      <td>2.875</td>\n",
       "      <td>17.02</td>\n",
       "      <td>0</td>\n",
       "      <td>1</td>\n",
       "      <td>4</td>\n",
       "      <td>4</td>\n",
       "    </tr>\n",
       "    <tr>\n",
       "      <th>2</th>\n",
       "      <td>Datsun 710</td>\n",
       "      <td>22.8</td>\n",
       "      <td>4</td>\n",
       "      <td>108.0</td>\n",
       "      <td>93</td>\n",
       "      <td>3.85</td>\n",
       "      <td>2.320</td>\n",
       "      <td>18.61</td>\n",
       "      <td>1</td>\n",
       "      <td>1</td>\n",
       "      <td>4</td>\n",
       "      <td>1</td>\n",
       "    </tr>\n",
       "    <tr>\n",
       "      <th>3</th>\n",
       "      <td>Hornet 4 Drive</td>\n",
       "      <td>21.4</td>\n",
       "      <td>6</td>\n",
       "      <td>258.0</td>\n",
       "      <td>110</td>\n",
       "      <td>3.08</td>\n",
       "      <td>3.215</td>\n",
       "      <td>19.44</td>\n",
       "      <td>1</td>\n",
       "      <td>0</td>\n",
       "      <td>3</td>\n",
       "      <td>1</td>\n",
       "    </tr>\n",
       "    <tr>\n",
       "      <th>4</th>\n",
       "      <td>Hornet Sportabout</td>\n",
       "      <td>18.7</td>\n",
       "      <td>8</td>\n",
       "      <td>360.0</td>\n",
       "      <td>175</td>\n",
       "      <td>3.15</td>\n",
       "      <td>3.440</td>\n",
       "      <td>17.02</td>\n",
       "      <td>0</td>\n",
       "      <td>0</td>\n",
       "      <td>3</td>\n",
       "      <td>2</td>\n",
       "    </tr>\n",
       "  </tbody>\n",
       "</table>\n",
       "</div>"
      ],
      "text/plain": [
       "               model   mpg  cyl   disp   hp  drat     wt   qsec  vs  am  gear  \\\n",
       "0          Mazda RX4  21.0    6  160.0  110  3.90  2.620  16.46   0   1     4   \n",
       "1      Mazda RX4 Wag  21.0    6  160.0  110  3.90  2.875  17.02   0   1     4   \n",
       "2         Datsun 710  22.8    4  108.0   93  3.85  2.320  18.61   1   1     4   \n",
       "3     Hornet 4 Drive  21.4    6  258.0  110  3.08  3.215  19.44   1   0     3   \n",
       "4  Hornet Sportabout  18.7    8  360.0  175  3.15  3.440  17.02   0   0     3   \n",
       "\n",
       "   carb  \n",
       "0     4  \n",
       "1     4  \n",
       "2     1  \n",
       "3     1  \n",
       "4     2  "
      ]
     },
     "execution_count": 36,
     "metadata": {},
     "output_type": "execute_result"
    }
   ],
   "source": [
    "# Из JSON файла\n",
    "df_json = pd.read_json('C:/Users/79181/n.brykovskaya/module_2/1Python/1Virtual_environment/ve/datasets/mtcars.json', lines = True)\n",
    "df_json.head()"
   ]
  },
  {
   "cell_type": "markdown",
   "id": "4a50974a-7aee-469b-9d20-6c0be1a8beba",
   "metadata": {},
   "source": [
    "### Упр. - Запись данных"
   ]
  },
  {
   "cell_type": "code",
   "execution_count": 42,
   "id": "8e543759-921c-4d8a-8e85-55a9b397a02b",
   "metadata": {},
   "outputs": [],
   "source": [
    "# В CSV файл\n",
    "df_csv.to_csv('to_csv.csv', index=False)  # index=False, чтобы не сохранять индексы строк"
   ]
  },
  {
   "cell_type": "code",
   "execution_count": 43,
   "id": "509f4d8a-599b-4e24-af47-29785dc027c2",
   "metadata": {},
   "outputs": [],
   "source": [
    "# В Excel файл\n",
    "df_excel.to_excel('to_excel.xlsx', sheet_name='Sheet1', index=False)"
   ]
  },
  {
   "cell_type": "code",
   "execution_count": 44,
   "id": "cca17c23-a648-4286-a99c-1ac5a41aa16e",
   "metadata": {},
   "outputs": [],
   "source": [
    "# В JSON файл\n",
    "df_json.to_json('to_json.json')"
   ]
  },
  {
   "cell_type": "code",
   "execution_count": 45,
   "id": "72550b96-4639-4640-9923-151694eccb47",
   "metadata": {},
   "outputs": [
    {
     "data": {
      "text/plain": [
       "(32, 12)"
      ]
     },
     "execution_count": 45,
     "metadata": {},
     "output_type": "execute_result"
    }
   ],
   "source": [
    "df_json.shape\n"
   ]
  },
  {
   "cell_type": "markdown",
   "id": "96625319-507d-4ce1-b782-4c609e470850",
   "metadata": {},
   "source": [
    "### Упр. - Группировка по столбцу 'City' и расчет среднего возраста для каждой группы\n",
    "`grouped = df.groupby('City')['Age'].mean()`"
   ]
  },
  {
   "cell_type": "code",
   "execution_count": 75,
   "id": "8d6f0476-b1ee-400a-83cf-f73840122503",
   "metadata": {},
   "outputs": [
    {
     "data": {
      "text/plain": [
       "(np.int64(30783), np.int64(75363))"
      ]
     },
     "execution_count": 75,
     "metadata": {},
     "output_type": "execute_result"
    }
   ],
   "source": [
    "import random\n",
    "# добавим столбец с зарплатой\n",
    "df_csv['income'] = (df_csv['customer_id']/1000).apply(lambda x: x + random.randint(15000, 60000)).astype(int)    \n",
    "df_csv['income'].min(), df_csv['income'].max()"
   ]
  },
  {
   "cell_type": "code",
   "execution_count": 76,
   "id": "66d86c29-0c1a-4b4f-97c1-daded293f07a",
   "metadata": {},
   "outputs": [
    {
     "data": {
      "text/html": [
       "<div>\n",
       "<style scoped>\n",
       "    .dataframe tbody tr th:only-of-type {\n",
       "        vertical-align: middle;\n",
       "    }\n",
       "\n",
       "    .dataframe tbody tr th {\n",
       "        vertical-align: top;\n",
       "    }\n",
       "\n",
       "    .dataframe thead th {\n",
       "        text-align: right;\n",
       "    }\n",
       "</style>\n",
       "<table border=\"1\" class=\"dataframe\">\n",
       "  <thead>\n",
       "    <tr style=\"text-align: right;\">\n",
       "      <th></th>\n",
       "      <th>customer_id</th>\n",
       "      <th>last_name</th>\n",
       "      <th>first_name</th>\n",
       "      <th>city</th>\n",
       "      <th>income</th>\n",
       "      <th>age</th>\n",
       "    </tr>\n",
       "  </thead>\n",
       "  <tbody>\n",
       "    <tr>\n",
       "      <th>92</th>\n",
       "      <td>15809248</td>\n",
       "      <td>Cole</td>\n",
       "      <td>JOY</td>\n",
       "      <td>Schahty</td>\n",
       "      <td>61233</td>\n",
       "      <td>65</td>\n",
       "    </tr>\n",
       "    <tr>\n",
       "      <th>83</th>\n",
       "      <td>15701164</td>\n",
       "      <td>Onyeorulu</td>\n",
       "      <td>MARTA</td>\n",
       "      <td>Lobnya</td>\n",
       "      <td>37827</td>\n",
       "      <td>33</td>\n",
       "    </tr>\n",
       "  </tbody>\n",
       "</table>\n",
       "</div>"
      ],
      "text/plain": [
       "    customer_id  last_name first_name     city  income  age\n",
       "92     15809248       Cole        JOY  Schahty   61233   65\n",
       "83     15701164  Onyeorulu      MARTA   Lobnya   37827   33"
      ]
     },
     "execution_count": 76,
     "metadata": {},
     "output_type": "execute_result"
    }
   ],
   "source": [
    "# добавим столбец с возрастом\n",
    "df_csv['age'] = 0\n",
    "df_csv['age'] =  df_csv['age'].apply(lambda x: x + random.randint(18, 95)).astype(int)    \n",
    "df_csv.sample(n=2, random_state=1)"
   ]
  },
  {
   "cell_type": "code",
   "execution_count": 88,
   "id": "5e3286a2-6f1c-4daf-a3a3-3f3007127d33",
   "metadata": {},
   "outputs": [
    {
     "data": {
      "text/html": [
       "<div>\n",
       "<style scoped>\n",
       "    .dataframe tbody tr th:only-of-type {\n",
       "        vertical-align: middle;\n",
       "    }\n",
       "\n",
       "    .dataframe tbody tr th {\n",
       "        vertical-align: top;\n",
       "    }\n",
       "\n",
       "    .dataframe thead th {\n",
       "        text-align: right;\n",
       "    }\n",
       "</style>\n",
       "<table border=\"1\" class=\"dataframe\">\n",
       "  <thead>\n",
       "    <tr style=\"text-align: right;\">\n",
       "      <th></th>\n",
       "      <th>city</th>\n",
       "      <th>age</th>\n",
       "    </tr>\n",
       "  </thead>\n",
       "  <tbody>\n",
       "    <tr>\n",
       "      <th>4</th>\n",
       "      <td>Schahty</td>\n",
       "      <td>46</td>\n",
       "    </tr>\n",
       "    <tr>\n",
       "      <th>2</th>\n",
       "      <td>Lobnya</td>\n",
       "      <td>49</td>\n",
       "    </tr>\n",
       "    <tr>\n",
       "      <th>0</th>\n",
       "      <td>Abakan</td>\n",
       "      <td>54</td>\n",
       "    </tr>\n",
       "    <tr>\n",
       "      <th>1</th>\n",
       "      <td>Krasnodar</td>\n",
       "      <td>57</td>\n",
       "    </tr>\n",
       "    <tr>\n",
       "      <th>3</th>\n",
       "      <td>Moscow</td>\n",
       "      <td>65</td>\n",
       "    </tr>\n",
       "  </tbody>\n",
       "</table>\n",
       "</div>"
      ],
      "text/plain": [
       "        city  age\n",
       "4    Schahty   46\n",
       "2     Lobnya   49\n",
       "0     Abakan   54\n",
       "1  Krasnodar   57\n",
       "3     Moscow   65"
      ]
     },
     "execution_count": 88,
     "metadata": {},
     "output_type": "execute_result"
    }
   ],
   "source": [
    "grouped = df_csv.copy(deep=True)\n",
    "grouped = grouped.groupby('city')['age'].mean().round().astype(int).reset_index()\n",
    "grouped.sort_values(by='age')"
   ]
  },
  {
   "cell_type": "markdown",
   "id": "e1c18001-4c7d-4501-9171-9233fad8360e",
   "metadata": {},
   "source": [
    "### Упр. - Применение нескольких функций агрегации\n",
    "`grouped = df.groupby('City').agg({'Age': ['mean', 'max'], 'Salary': 'sum'})`\n"
   ]
  },
  {
   "cell_type": "code",
   "execution_count": 94,
   "id": "32ff5874-2d39-4767-a75d-b4eba4608af0",
   "metadata": {},
   "outputs": [
    {
     "data": {
      "text/plain": [
       "MultiIndex([(  'city',     ''),\n",
       "            (   'age', 'mean'),\n",
       "            (   'age',  'max'),\n",
       "            ('income',  'sum')],\n",
       "           )"
      ]
     },
     "execution_count": 94,
     "metadata": {},
     "output_type": "execute_result"
    }
   ],
   "source": [
    "grouped_1 = df_csv.copy(deep=True)\n",
    "grouped_1 = grouped_1.groupby('city').agg({'age':['mean', 'max'],'income': 'sum'}).round().astype(int).reset_index()\n",
    "grouped_1.columns"
   ]
  },
  {
   "cell_type": "code",
   "execution_count": 96,
   "id": "25082048-1234-4a0f-80c9-e5af00bc7a34",
   "metadata": {},
   "outputs": [
    {
     "data": {
      "text/html": [
       "<div>\n",
       "<style scoped>\n",
       "    .dataframe tbody tr th:only-of-type {\n",
       "        vertical-align: middle;\n",
       "    }\n",
       "\n",
       "    .dataframe tbody tr th {\n",
       "        vertical-align: top;\n",
       "    }\n",
       "\n",
       "    .dataframe thead tr th {\n",
       "        text-align: left;\n",
       "    }\n",
       "</style>\n",
       "<table border=\"1\" class=\"dataframe\">\n",
       "  <thead>\n",
       "    <tr>\n",
       "      <th></th>\n",
       "      <th>city</th>\n",
       "      <th colspan=\"2\" halign=\"left\">age</th>\n",
       "      <th>income</th>\n",
       "    </tr>\n",
       "    <tr>\n",
       "      <th></th>\n",
       "      <th></th>\n",
       "      <th>mean</th>\n",
       "      <th>max</th>\n",
       "      <th>sum</th>\n",
       "    </tr>\n",
       "  </thead>\n",
       "  <tbody>\n",
       "    <tr>\n",
       "      <th>3</th>\n",
       "      <td>Moscow</td>\n",
       "      <td>65</td>\n",
       "      <td>93</td>\n",
       "      <td>1094598</td>\n",
       "    </tr>\n",
       "    <tr>\n",
       "      <th>2</th>\n",
       "      <td>Lobnya</td>\n",
       "      <td>49</td>\n",
       "      <td>81</td>\n",
       "      <td>1080057</td>\n",
       "    </tr>\n",
       "    <tr>\n",
       "      <th>0</th>\n",
       "      <td>Abakan</td>\n",
       "      <td>54</td>\n",
       "      <td>90</td>\n",
       "      <td>1070668</td>\n",
       "    </tr>\n",
       "    <tr>\n",
       "      <th>4</th>\n",
       "      <td>Schahty</td>\n",
       "      <td>46</td>\n",
       "      <td>89</td>\n",
       "      <td>1046653</td>\n",
       "    </tr>\n",
       "    <tr>\n",
       "      <th>1</th>\n",
       "      <td>Krasnodar</td>\n",
       "      <td>57</td>\n",
       "      <td>92</td>\n",
       "      <td>1031508</td>\n",
       "    </tr>\n",
       "  </tbody>\n",
       "</table>\n",
       "</div>"
      ],
      "text/plain": [
       "        city  age       income\n",
       "             mean max      sum\n",
       "3     Moscow   65  93  1094598\n",
       "2     Lobnya   49  81  1080057\n",
       "0     Abakan   54  90  1070668\n",
       "4    Schahty   46  89  1046653\n",
       "1  Krasnodar   57  92  1031508"
      ]
     },
     "execution_count": 96,
     "metadata": {},
     "output_type": "execute_result"
    }
   ],
   "source": [
    "grouped_1.sort_values(by= ('income',  'sum'), ascending=False)."
   ]
  },
  {
   "cell_type": "markdown",
   "id": "24321a97-3e38-4faf-8b40-f0fa112467b5",
   "metadata": {},
   "source": [
    "### Упр. - Анализ данных о продажах \n",
    "\n",
    " 1. Загружаем данные из CSV файла  \n",
    "    - sales = pd.read_csv('sales_data.csv')  \n",
    " 1. Выводим первые 5 строк  \n",
    "    - print(sales.head())  \n",
    " 1. Получаем общую сумму продаж  \n",
    "    - total_sales = sales['Sales'].sum()\n",
    "    - print(f\"Общая сумма продаж: {total_sales}\")  \n",
    " 1. Группируем продажи по месяцам и вычисляем сумму продаж для каждого месяца  \n",
    "    - monthly_sales = sales.groupby('Month')['Sales'].sum()  \n",
    "    - print(monthly_sales)"
   ]
  },
  {
   "cell_type": "code",
   "execution_count": 115,
   "id": "e49bdc37-9b93-4eef-93a7-34f7e5a40ff9",
   "metadata": {},
   "outputs": [
    {
     "data": {
      "text/html": [
       "<div>\n",
       "<style scoped>\n",
       "    .dataframe tbody tr th:only-of-type {\n",
       "        vertical-align: middle;\n",
       "    }\n",
       "\n",
       "    .dataframe tbody tr th {\n",
       "        vertical-align: top;\n",
       "    }\n",
       "\n",
       "    .dataframe thead th {\n",
       "        text-align: right;\n",
       "    }\n",
       "</style>\n",
       "<table border=\"1\" class=\"dataframe\">\n",
       "  <thead>\n",
       "    <tr style=\"text-align: right;\">\n",
       "      <th></th>\n",
       "      <th>month_id</th>\n",
       "      <th>id_client</th>\n",
       "      <th>amount</th>\n",
       "      <th>count</th>\n",
       "      <th>city</th>\n",
       "    </tr>\n",
       "  </thead>\n",
       "  <tbody>\n",
       "    <tr>\n",
       "      <th>0</th>\n",
       "      <td>1</td>\n",
       "      <td>ee47d746-6d2f-4d3c-9622-c31412542920</td>\n",
       "      <td>64104</td>\n",
       "      <td>1</td>\n",
       "      <td>moscow</td>\n",
       "    </tr>\n",
       "    <tr>\n",
       "      <th>1</th>\n",
       "      <td>2</td>\n",
       "      <td>375e0724-f033-4c76-b579-84969cf38ee2</td>\n",
       "      <td>56043</td>\n",
       "      <td>11</td>\n",
       "      <td>krasnodar</td>\n",
       "    </tr>\n",
       "    <tr>\n",
       "      <th>2</th>\n",
       "      <td>3</td>\n",
       "      <td>6644e5b4-9934-4863-9778-aaa125207701</td>\n",
       "      <td>136970</td>\n",
       "      <td>16</td>\n",
       "      <td>lobya</td>\n",
       "    </tr>\n",
       "    <tr>\n",
       "      <th>3</th>\n",
       "      <td>4</td>\n",
       "      <td>c971fb21-d54c-4134-938f-16b62ee86d3b</td>\n",
       "      <td>97455</td>\n",
       "      <td>1</td>\n",
       "      <td>moscow</td>\n",
       "    </tr>\n",
       "    <tr>\n",
       "      <th>4</th>\n",
       "      <td>5</td>\n",
       "      <td>161e1b98-45ba-4b4e-8236-e6e3e70f6f7c</td>\n",
       "      <td>23158</td>\n",
       "      <td>16</td>\n",
       "      <td>krasnodar</td>\n",
       "    </tr>\n",
       "  </tbody>\n",
       "</table>\n",
       "</div>"
      ],
      "text/plain": [
       "   month_id                             id_client  amount  count       city\n",
       "0         1  ee47d746-6d2f-4d3c-9622-c31412542920   64104      1     moscow\n",
       "1         2  375e0724-f033-4c76-b579-84969cf38ee2   56043     11  krasnodar\n",
       "2         3  6644e5b4-9934-4863-9778-aaa125207701  136970     16      lobya\n",
       "3         4  c971fb21-d54c-4134-938f-16b62ee86d3b   97455      1     moscow\n",
       "4         5  161e1b98-45ba-4b4e-8236-e6e3e70f6f7c   23158     16  krasnodar"
      ]
     },
     "execution_count": 115,
     "metadata": {},
     "output_type": "execute_result"
    }
   ],
   "source": [
    "# 1Загружаем данные из CSV файла \n",
    "sales = pd.read_csv(\n",
    "    r'C:\\Users\\79181\\n.brykovskaya\\module_2\\1Python\\1Virtual_environment\\ve\\datasets\\sales1.csv', \n",
    "                    sep=\";\")\n",
    "# 2Выводим первые 5 строк\n",
    "sales.head()"
   ]
  },
  {
   "cell_type": "code",
   "execution_count": 116,
   "id": "c15a2db2-2bf9-46b6-8a7e-b1313f0eee87",
   "metadata": {},
   "outputs": [
    {
     "name": "stdout",
     "output_type": "stream",
     "text": [
      "Общая сумма продаж: 119 млн.\n"
     ]
    }
   ],
   "source": [
    "#Получаем общую сумму продаж\n",
    "total_sales = sales['amount'].sum()\n",
    "print(f\"Общая сумма продаж: {round(total_sales/1000000)} млн.\")"
   ]
  },
  {
   "cell_type": "code",
   "execution_count": 119,
   "id": "957199c5-0ccb-45d9-a76d-19acbe1776c6",
   "metadata": {},
   "outputs": [
    {
     "data": {
      "text/html": [
       "<div>\n",
       "<style scoped>\n",
       "    .dataframe tbody tr th:only-of-type {\n",
       "        vertical-align: middle;\n",
       "    }\n",
       "\n",
       "    .dataframe tbody tr th {\n",
       "        vertical-align: top;\n",
       "    }\n",
       "\n",
       "    .dataframe thead th {\n",
       "        text-align: right;\n",
       "    }\n",
       "</style>\n",
       "<table border=\"1\" class=\"dataframe\">\n",
       "  <thead>\n",
       "    <tr style=\"text-align: right;\">\n",
       "      <th></th>\n",
       "      <th>month_id</th>\n",
       "      <th>amount</th>\n",
       "    </tr>\n",
       "  </thead>\n",
       "  <tbody>\n",
       "    <tr>\n",
       "      <th>0</th>\n",
       "      <td>1</td>\n",
       "      <td>10065653</td>\n",
       "    </tr>\n",
       "    <tr>\n",
       "      <th>1</th>\n",
       "      <td>2</td>\n",
       "      <td>9451536</td>\n",
       "    </tr>\n",
       "    <tr>\n",
       "      <th>2</th>\n",
       "      <td>3</td>\n",
       "      <td>9997897</td>\n",
       "    </tr>\n",
       "    <tr>\n",
       "      <th>3</th>\n",
       "      <td>4</td>\n",
       "      <td>9444852</td>\n",
       "    </tr>\n",
       "    <tr>\n",
       "      <th>4</th>\n",
       "      <td>5</td>\n",
       "      <td>9561238</td>\n",
       "    </tr>\n",
       "    <tr>\n",
       "      <th>5</th>\n",
       "      <td>6</td>\n",
       "      <td>10385066</td>\n",
       "    </tr>\n",
       "    <tr>\n",
       "      <th>6</th>\n",
       "      <td>7</td>\n",
       "      <td>9897312</td>\n",
       "    </tr>\n",
       "    <tr>\n",
       "      <th>7</th>\n",
       "      <td>8</td>\n",
       "      <td>10281610</td>\n",
       "    </tr>\n",
       "    <tr>\n",
       "      <th>8</th>\n",
       "      <td>9</td>\n",
       "      <td>10315691</td>\n",
       "    </tr>\n",
       "    <tr>\n",
       "      <th>9</th>\n",
       "      <td>10</td>\n",
       "      <td>10033283</td>\n",
       "    </tr>\n",
       "    <tr>\n",
       "      <th>10</th>\n",
       "      <td>11</td>\n",
       "      <td>9817268</td>\n",
       "    </tr>\n",
       "    <tr>\n",
       "      <th>11</th>\n",
       "      <td>12</td>\n",
       "      <td>9716343</td>\n",
       "    </tr>\n",
       "  </tbody>\n",
       "</table>\n",
       "</div>"
      ],
      "text/plain": [
       "    month_id    amount\n",
       "0          1  10065653\n",
       "1          2   9451536\n",
       "2          3   9997897\n",
       "3          4   9444852\n",
       "4          5   9561238\n",
       "5          6  10385066\n",
       "6          7   9897312\n",
       "7          8  10281610\n",
       "8          9  10315691\n",
       "9         10  10033283\n",
       "10        11   9817268\n",
       "11        12   9716343"
      ]
     },
     "execution_count": 119,
     "metadata": {},
     "output_type": "execute_result"
    }
   ],
   "source": [
    "#Группируем продажи по месяцам и вычисляем сумму продаж для каждого месяца\n",
    "monthly_sales = sales.copy(deep=True)\n",
    "monthly_sales = monthly_sales.groupby('month_id')['amount'].sum().reset_index()\n",
    "monthly_sales"
   ]
  },
  {
   "cell_type": "markdown",
   "id": "b20f4371-350a-4bf2-b8d3-f0e09f2cab40",
   "metadata": {},
   "source": [
    "### Упражнение: Анализ данных о фильмах\n",
    "1. Загрузите датасет о фильмах [(например, с Kaggle).](https://www.kaggle.com/datasets/sajjad2goudarzi/imdb-top-1000-csv)\n",
    "   \n",
    "1. Выведите информацию о датасете: df.info(), df.describe().\n",
    "1. Найдите фильмы с самым высоким рейтингом.\n",
    "1. Сгруппируйте фильмы по жанрам и найдите средний рейтинг для каждого жанра."
   ]
  },
  {
   "cell_type": "code",
   "execution_count": 151,
   "id": "a7954532-c326-4e70-a5e6-121d64e3d5f8",
   "metadata": {},
   "outputs": [
    {
     "data": {
      "text/plain": [
       "Index(['Poster_Link', 'Series_Title', 'Released_Year', 'Certificate',\n",
       "       'Runtime', 'Genre', 'IMDB_Rating', 'Overview', 'Meta_score', 'Director',\n",
       "       'Star1', 'Star2', 'Star3', 'Star4', 'No_of_Votes', 'Gross'],\n",
       "      dtype='object')"
      ]
     },
     "execution_count": 151,
     "metadata": {},
     "output_type": "execute_result"
    }
   ],
   "source": [
    "# 1Загружаем данные из CSV файла , 2\n",
    "df = pd.read_csv(\n",
    "    r'C:\\Users\\79181\\n.brykovskaya\\module_2\\1Python\\1Virtual_environment\\ve\\datasets\\imdb_top_1000.csv')\n",
    "# столбцы\n",
    "df.columns"
   ]
  },
  {
   "cell_type": "code",
   "execution_count": 152,
   "id": "7813b2de-e9b4-4845-bc9b-f8ffa7f68a2c",
   "metadata": {},
   "outputs": [],
   "source": [
    "# оставляем только некоторые столбцы\n",
    "movies = df[['Series_Title', 'Released_Year', 'Certificate',\n",
    "       'Runtime', 'Genre', 'IMDB_Rating', 'Meta_score', 'Gross']]\n",
    "# приведем к нижнему регистру\n",
    "movies.columns = [x.lower() for x in movies.columns]"
   ]
  },
  {
   "cell_type": "code",
   "execution_count": 153,
   "id": "239be182-e358-4361-9c81-7637e75fd7c5",
   "metadata": {},
   "outputs": [
    {
     "data": {
      "text/html": [
       "<div>\n",
       "<style scoped>\n",
       "    .dataframe tbody tr th:only-of-type {\n",
       "        vertical-align: middle;\n",
       "    }\n",
       "\n",
       "    .dataframe tbody tr th {\n",
       "        vertical-align: top;\n",
       "    }\n",
       "\n",
       "    .dataframe thead th {\n",
       "        text-align: right;\n",
       "    }\n",
       "</style>\n",
       "<table border=\"1\" class=\"dataframe\">\n",
       "  <thead>\n",
       "    <tr style=\"text-align: right;\">\n",
       "      <th></th>\n",
       "      <th>series_title</th>\n",
       "      <th>released_year</th>\n",
       "      <th>certificate</th>\n",
       "      <th>runtime</th>\n",
       "      <th>genre</th>\n",
       "      <th>imdb_rating</th>\n",
       "      <th>meta_score</th>\n",
       "      <th>gross</th>\n",
       "    </tr>\n",
       "  </thead>\n",
       "  <tbody>\n",
       "    <tr>\n",
       "      <th>507</th>\n",
       "      <td>Ying xiong</td>\n",
       "      <td>2002</td>\n",
       "      <td>PG-13</td>\n",
       "      <td>120 min</td>\n",
       "      <td>Action, Adventure, History</td>\n",
       "      <td>7.9</td>\n",
       "      <td>85.0</td>\n",
       "      <td>53,710,019</td>\n",
       "    </tr>\n",
       "  </tbody>\n",
       "</table>\n",
       "</div>"
      ],
      "text/plain": [
       "    series_title released_year certificate  runtime  \\\n",
       "507   Ying xiong          2002       PG-13  120 min   \n",
       "\n",
       "                          genre  imdb_rating  meta_score       gross  \n",
       "507  Action, Adventure, History          7.9        85.0  53,710,019  "
      ]
     },
     "execution_count": 153,
     "metadata": {},
     "output_type": "execute_result"
    }
   ],
   "source": [
    "# посмотрим на рандомную строку\n",
    "movies.sample(n=1, random_state=1)"
   ]
  },
  {
   "cell_type": "code",
   "execution_count": 154,
   "id": "f9190702-32cc-41d8-baa7-f0e8ddc65700",
   "metadata": {},
   "outputs": [
    {
     "data": {
      "text/html": [
       "<div>\n",
       "<style scoped>\n",
       "    .dataframe tbody tr th:only-of-type {\n",
       "        vertical-align: middle;\n",
       "    }\n",
       "\n",
       "    .dataframe tbody tr th {\n",
       "        vertical-align: top;\n",
       "    }\n",
       "\n",
       "    .dataframe thead th {\n",
       "        text-align: right;\n",
       "    }\n",
       "</style>\n",
       "<table border=\"1\" class=\"dataframe\">\n",
       "  <thead>\n",
       "    <tr style=\"text-align: right;\">\n",
       "      <th></th>\n",
       "      <th>genre1</th>\n",
       "      <th>genre2</th>\n",
       "      <th>genre3</th>\n",
       "    </tr>\n",
       "  </thead>\n",
       "  <tbody>\n",
       "    <tr>\n",
       "      <th>0</th>\n",
       "      <td>Drama</td>\n",
       "      <td>None</td>\n",
       "      <td>None</td>\n",
       "    </tr>\n",
       "    <tr>\n",
       "      <th>1</th>\n",
       "      <td>Crime</td>\n",
       "      <td>Drama</td>\n",
       "      <td>None</td>\n",
       "    </tr>\n",
       "    <tr>\n",
       "      <th>2</th>\n",
       "      <td>Action</td>\n",
       "      <td>Crime</td>\n",
       "      <td>Drama</td>\n",
       "    </tr>\n",
       "    <tr>\n",
       "      <th>3</th>\n",
       "      <td>Crime</td>\n",
       "      <td>Drama</td>\n",
       "      <td>None</td>\n",
       "    </tr>\n",
       "    <tr>\n",
       "      <th>4</th>\n",
       "      <td>Crime</td>\n",
       "      <td>Drama</td>\n",
       "      <td>None</td>\n",
       "    </tr>\n",
       "  </tbody>\n",
       "</table>\n",
       "</div>"
      ],
      "text/plain": [
       "   genre1 genre2 genre3\n",
       "0   Drama   None   None\n",
       "1   Crime  Drama   None\n",
       "2  Action  Crime  Drama\n",
       "3   Crime  Drama   None\n",
       "4   Crime  Drama   None"
      ]
     },
     "execution_count": 154,
     "metadata": {},
     "output_type": "execute_result"
    }
   ],
   "source": [
    "# разделим жанры из столба ganre на несколько столбцов\n",
    "# для этого сперва выделим их отдельно\n",
    "main_genre = movies['genre'].str.split(', ', expand=True)\n",
    "# переименуем\n",
    "main_genre.columns = ['genre1','genre2','genre3']\n",
    "main_genre.head()"
   ]
  },
  {
   "cell_type": "code",
   "execution_count": 157,
   "id": "7c90fc7c-232f-475e-8c03-954870ee9ff7",
   "metadata": {},
   "outputs": [],
   "source": [
    "# Функция join() в Pandas позволяет объединить два DataFrame по индексам\n",
    "movies = movies.join(main_genre)"
   ]
  },
  {
   "cell_type": "code",
   "execution_count": 159,
   "id": "7d392a6f-a6f2-4962-8757-9d36161e1291",
   "metadata": {},
   "outputs": [
    {
     "name": "stdout",
     "output_type": "stream",
     "text": [
      "<class 'pandas.core.frame.DataFrame'>\n",
      "RangeIndex: 1000 entries, 0 to 999\n",
      "Data columns (total 11 columns):\n",
      " #   Column         Non-Null Count  Dtype  \n",
      "---  ------         --------------  -----  \n",
      " 0   series_title   1000 non-null   object \n",
      " 1   released_year  1000 non-null   object \n",
      " 2   certificate    899 non-null    object \n",
      " 3   runtime        1000 non-null   object \n",
      " 4   genre          1000 non-null   object \n",
      " 5   imdb_rating    1000 non-null   float64\n",
      " 6   meta_score     843 non-null    float64\n",
      " 7   gross          831 non-null    object \n",
      " 8   genre1         1000 non-null   object \n",
      " 9   genre2         895 non-null    object \n",
      " 10  genre3         646 non-null    object \n",
      "dtypes: float64(2), object(9)\n",
      "memory usage: 86.1+ KB\n"
     ]
    }
   ],
   "source": [
    "# Выведите информацию о датасете: df.info(), df.describe().\n",
    "movies.info()"
   ]
  },
  {
   "cell_type": "code",
   "execution_count": 160,
   "id": "ea640a66-06c5-427a-be3d-43457f7782aa",
   "metadata": {},
   "outputs": [
    {
     "data": {
      "text/html": [
       "<div>\n",
       "<style scoped>\n",
       "    .dataframe tbody tr th:only-of-type {\n",
       "        vertical-align: middle;\n",
       "    }\n",
       "\n",
       "    .dataframe tbody tr th {\n",
       "        vertical-align: top;\n",
       "    }\n",
       "\n",
       "    .dataframe thead th {\n",
       "        text-align: right;\n",
       "    }\n",
       "</style>\n",
       "<table border=\"1\" class=\"dataframe\">\n",
       "  <thead>\n",
       "    <tr style=\"text-align: right;\">\n",
       "      <th></th>\n",
       "      <th>imdb_rating</th>\n",
       "      <th>meta_score</th>\n",
       "    </tr>\n",
       "  </thead>\n",
       "  <tbody>\n",
       "    <tr>\n",
       "      <th>count</th>\n",
       "      <td>1000.000000</td>\n",
       "      <td>843.000000</td>\n",
       "    </tr>\n",
       "    <tr>\n",
       "      <th>mean</th>\n",
       "      <td>7.949300</td>\n",
       "      <td>77.971530</td>\n",
       "    </tr>\n",
       "    <tr>\n",
       "      <th>std</th>\n",
       "      <td>0.275491</td>\n",
       "      <td>12.376099</td>\n",
       "    </tr>\n",
       "    <tr>\n",
       "      <th>min</th>\n",
       "      <td>7.600000</td>\n",
       "      <td>28.000000</td>\n",
       "    </tr>\n",
       "    <tr>\n",
       "      <th>25%</th>\n",
       "      <td>7.700000</td>\n",
       "      <td>70.000000</td>\n",
       "    </tr>\n",
       "    <tr>\n",
       "      <th>50%</th>\n",
       "      <td>7.900000</td>\n",
       "      <td>79.000000</td>\n",
       "    </tr>\n",
       "    <tr>\n",
       "      <th>75%</th>\n",
       "      <td>8.100000</td>\n",
       "      <td>87.000000</td>\n",
       "    </tr>\n",
       "    <tr>\n",
       "      <th>max</th>\n",
       "      <td>9.300000</td>\n",
       "      <td>100.000000</td>\n",
       "    </tr>\n",
       "  </tbody>\n",
       "</table>\n",
       "</div>"
      ],
      "text/plain": [
       "       imdb_rating  meta_score\n",
       "count  1000.000000  843.000000\n",
       "mean      7.949300   77.971530\n",
       "std       0.275491   12.376099\n",
       "min       7.600000   28.000000\n",
       "25%       7.700000   70.000000\n",
       "50%       7.900000   79.000000\n",
       "75%       8.100000   87.000000\n",
       "max       9.300000  100.000000"
      ]
     },
     "execution_count": 160,
     "metadata": {},
     "output_type": "execute_result"
    }
   ],
   "source": [
    "movies.describe()"
   ]
  },
  {
   "cell_type": "code",
   "execution_count": null,
   "id": "0e270c82-b068-40df-b3a2-154aa9c470e5",
   "metadata": {},
   "outputs": [],
   "source": [
    "# Найдем максимальный рейтинг imdb_rating\n",
    "max_imdb = movies.imdb_rating.max()\n",
    "print('Самый высокий рейтинг \"imdb_rating\" равен = {}'.format(max_imdb))"
   ]
  },
  {
   "cell_type": "code",
   "execution_count": 176,
   "id": "72c76c36-5ac1-4214-8a87-92ceeca94331",
   "metadata": {},
   "outputs": [
    {
     "name": "stdout",
     "output_type": "stream",
     "text": [
      "Фильмы с самым высоким рейтингом: The Shawshank Redemption\n"
     ]
    }
   ],
   "source": [
    "# выведем список фильмов, чей рейтинг равен максимальному среди всего датафрейма по столбцу imdb_rating\n",
    "films = movies.copy(deep=True)\n",
    "# срез в котором только фильмы с максимальным рейтингом(их может быть и не один)\n",
    "films = films.query('imdb_rating == @max_imdb')\n",
    "# выводим на печать эти фильмы\n",
    "print('Фильмы с самым высоким рейтингом:', *films['series_title'])\n"
   ]
  },
  {
   "cell_type": "code",
   "execution_count": 187,
   "id": "5494e512-4414-4d00-a880-089938d63111",
   "metadata": {},
   "outputs": [
    {
     "data": {
      "text/html": [
       "<style type=\"text/css\">\n",
       "#T_0d26e_row0_col1 {\n",
       "  background-color: #fde725;\n",
       "  color: #000000;\n",
       "}\n",
       "#T_0d26e_row1_col1 {\n",
       "  background-color: #2a788e;\n",
       "  color: #f1f1f1;\n",
       "}\n",
       "#T_0d26e_row2_col1 {\n",
       "  background-color: #2d708e;\n",
       "  color: #f1f1f1;\n",
       "}\n",
       "#T_0d26e_row3_col1 {\n",
       "  background-color: #31668e;\n",
       "  color: #f1f1f1;\n",
       "}\n",
       "#T_0d26e_row4_col1 {\n",
       "  background-color: #33628d;\n",
       "  color: #f1f1f1;\n",
       "}\n",
       "#T_0d26e_row5_col1 {\n",
       "  background-color: #365d8d;\n",
       "  color: #f1f1f1;\n",
       "}\n",
       "#T_0d26e_row6_col1 {\n",
       "  background-color: #38588c;\n",
       "  color: #f1f1f1;\n",
       "}\n",
       "#T_0d26e_row7_col1, #T_0d26e_row8_col1 {\n",
       "  background-color: #3a538b;\n",
       "  color: #f1f1f1;\n",
       "}\n",
       "#T_0d26e_row9_col1 {\n",
       "  background-color: #3d4e8a;\n",
       "  color: #f1f1f1;\n",
       "}\n",
       "#T_0d26e_row10_col1 {\n",
       "  background-color: #414487;\n",
       "  color: #f1f1f1;\n",
       "}\n",
       "#T_0d26e_row11_col1 {\n",
       "  background-color: #433e85;\n",
       "  color: #f1f1f1;\n",
       "}\n",
       "#T_0d26e_row12_col1, #T_0d26e_row13_col1 {\n",
       "  background-color: #440154;\n",
       "  color: #f1f1f1;\n",
       "}\n",
       "</style>\n",
       "<table id=\"T_0d26e\">\n",
       "  <thead>\n",
       "    <tr>\n",
       "      <th class=\"blank level0\" >&nbsp;</th>\n",
       "      <th id=\"T_0d26e_level0_col0\" class=\"col_heading level0 col0\" >genre1</th>\n",
       "      <th id=\"T_0d26e_level0_col1\" class=\"col_heading level0 col1\" >imdb_rating</th>\n",
       "    </tr>\n",
       "  </thead>\n",
       "  <tbody>\n",
       "    <tr>\n",
       "      <th id=\"T_0d26e_level0_row0\" class=\"row_heading level0 row0\" >13</th>\n",
       "      <td id=\"T_0d26e_row0_col0\" class=\"data row0 col0\" >Western</td>\n",
       "      <td id=\"T_0d26e_row0_col1\" class=\"data row0 col1\" >8.350000</td>\n",
       "    </tr>\n",
       "    <tr>\n",
       "      <th id=\"T_0d26e_level0_row1\" class=\"row_heading level0 row1\" >5</th>\n",
       "      <td id=\"T_0d26e_row1_col0\" class=\"data row1 col0\" >Crime</td>\n",
       "      <td id=\"T_0d26e_row1_col1\" class=\"data row1 col1\" >8.020000</td>\n",
       "    </tr>\n",
       "    <tr>\n",
       "      <th id=\"T_0d26e_level0_row2\" class=\"row_heading level0 row2\" >8</th>\n",
       "      <td id=\"T_0d26e_row2_col0\" class=\"data row2 col0\" >Fantasy</td>\n",
       "      <td id=\"T_0d26e_row2_col1\" class=\"data row2 col1\" >8.000000</td>\n",
       "    </tr>\n",
       "    <tr>\n",
       "      <th id=\"T_0d26e_level0_row3\" class=\"row_heading level0 row3\" >11</th>\n",
       "      <td id=\"T_0d26e_row3_col0\" class=\"data row3 col0\" >Mystery</td>\n",
       "      <td id=\"T_0d26e_row3_col1\" class=\"data row3 col1\" >7.980000</td>\n",
       "    </tr>\n",
       "    <tr>\n",
       "      <th id=\"T_0d26e_level0_row4\" class=\"row_heading level0 row4\" >9</th>\n",
       "      <td id=\"T_0d26e_row4_col0\" class=\"data row4 col0\" >Film-Noir</td>\n",
       "      <td id=\"T_0d26e_row4_col1\" class=\"data row4 col1\" >7.970000</td>\n",
       "    </tr>\n",
       "    <tr>\n",
       "      <th id=\"T_0d26e_level0_row5\" class=\"row_heading level0 row5\" >6</th>\n",
       "      <td id=\"T_0d26e_row5_col0\" class=\"data row5 col0\" >Drama</td>\n",
       "      <td id=\"T_0d26e_row5_col1\" class=\"data row5 col1\" >7.960000</td>\n",
       "    </tr>\n",
       "    <tr>\n",
       "      <th id=\"T_0d26e_level0_row6\" class=\"row_heading level0 row6\" >0</th>\n",
       "      <td id=\"T_0d26e_row6_col0\" class=\"data row6 col0\" >Action</td>\n",
       "      <td id=\"T_0d26e_row6_col1\" class=\"data row6 col1\" >7.950000</td>\n",
       "    </tr>\n",
       "    <tr>\n",
       "      <th id=\"T_0d26e_level0_row7\" class=\"row_heading level0 row7\" >1</th>\n",
       "      <td id=\"T_0d26e_row7_col0\" class=\"data row7 col0\" >Adventure</td>\n",
       "      <td id=\"T_0d26e_row7_col1\" class=\"data row7 col1\" >7.940000</td>\n",
       "    </tr>\n",
       "    <tr>\n",
       "      <th id=\"T_0d26e_level0_row8\" class=\"row_heading level0 row8\" >3</th>\n",
       "      <td id=\"T_0d26e_row8_col0\" class=\"data row8 col0\" >Biography</td>\n",
       "      <td id=\"T_0d26e_row8_col1\" class=\"data row8 col1\" >7.940000</td>\n",
       "    </tr>\n",
       "    <tr>\n",
       "      <th id=\"T_0d26e_level0_row9\" class=\"row_heading level0 row9\" >2</th>\n",
       "      <td id=\"T_0d26e_row9_col0\" class=\"data row9 col0\" >Animation</td>\n",
       "      <td id=\"T_0d26e_row9_col1\" class=\"data row9 col1\" >7.930000</td>\n",
       "    </tr>\n",
       "    <tr>\n",
       "      <th id=\"T_0d26e_level0_row10\" class=\"row_heading level0 row10\" >10</th>\n",
       "      <td id=\"T_0d26e_row10_col0\" class=\"data row10 col0\" >Horror</td>\n",
       "      <td id=\"T_0d26e_row10_col1\" class=\"data row10 col1\" >7.910000</td>\n",
       "    </tr>\n",
       "    <tr>\n",
       "      <th id=\"T_0d26e_level0_row11\" class=\"row_heading level0 row11\" >4</th>\n",
       "      <td id=\"T_0d26e_row11_col0\" class=\"data row11 col0\" >Comedy</td>\n",
       "      <td id=\"T_0d26e_row11_col1\" class=\"data row11 col1\" >7.900000</td>\n",
       "    </tr>\n",
       "    <tr>\n",
       "      <th id=\"T_0d26e_level0_row12\" class=\"row_heading level0 row12\" >7</th>\n",
       "      <td id=\"T_0d26e_row12_col0\" class=\"data row12 col0\" >Family</td>\n",
       "      <td id=\"T_0d26e_row12_col1\" class=\"data row12 col1\" >7.800000</td>\n",
       "    </tr>\n",
       "    <tr>\n",
       "      <th id=\"T_0d26e_level0_row13\" class=\"row_heading level0 row13\" >12</th>\n",
       "      <td id=\"T_0d26e_row13_col0\" class=\"data row13 col0\" >Thriller</td>\n",
       "      <td id=\"T_0d26e_row13_col1\" class=\"data row13 col1\" >7.800000</td>\n",
       "    </tr>\n",
       "  </tbody>\n",
       "</table>\n"
      ],
      "text/plain": [
       "<pandas.io.formats.style.Styler at 0x185369f8320>"
      ]
     },
     "execution_count": 187,
     "metadata": {},
     "output_type": "execute_result"
    }
   ],
   "source": [
    "# Сгруппируйте фильмы по жанрам и найдите средний рейтинг для каждого жанра.\n",
    "genres = movies.copy(deep=True)\n",
    "genres = (genres.groupby('genre1')['imdb_rating']\n",
    "          .mean()\n",
    "          .round(2)\n",
    "          .reset_index()\n",
    "         )\n",
    "\n",
    "(genres\n",
    "     .sort_values(by='imdb_rating', ascending=False)\n",
    "     .style\n",
    "     .background_gradient(cmap='viridis')\n",
    ")"
   ]
  },
  {
   "cell_type": "markdown",
   "id": "dd0512e7-6189-424a-afc6-f16d0038ce22",
   "metadata": {},
   "source": [
    "### Упражнение: Соединение таблиц\n",
    "1. Создайте два DataFrame: один с информацией о клиентах, другой с информацией о заказах.\n",
    "1. Используйте merge(), чтобы объединить таблицы по ID клиента.\n"
   ]
  },
  {
   "cell_type": "code",
   "execution_count": 189,
   "id": "696da0f1-f931-42a8-aef4-d4886720ec7b",
   "metadata": {},
   "outputs": [],
   "source": [
    "# данные\n",
    "clients_dict = {'id_customer': [55, 66, 77, 88, 99, 11],\n",
    "          'cusomer_email': ['55@aston.ru','66@Aston.ru',\n",
    "                            '77@Aston.ru','88@aston.ru',\n",
    "                            '99@aston.ru','11@aston.ru',]\n",
    "         }\n",
    "orders_dict = {\n",
    "        'id_customer': [55,66,77,88,\n",
    "                        99,11,77,88,\n",
    "                        55,55,77,11,\n",
    "                        11,88,77,55,\n",
    "                        66,99,99,99,\n",
    "                        66,66,77,88\n",
    "                       ],\n",
    "          'date':['2025-02-27','2025-01-27','2025-02-26','2025-01-23',\n",
    "                   '2025-03-06','2025-03-06','2025-03-06','2025-03-06',\n",
    "                   '2025-03-06','2025-03-06','2025-03-06','2025-03-06',\n",
    "                  '2025-03-06','2025-03-06','2025-03-06','2025-03-06',\n",
    "                  '2025-03-06','2025-03-06','2025-03-06','2025-03-06',\n",
    "                  '2025-03-06','2025-03-06','2025-03-06','2025-03-06'],\n",
    "          'amount':[100,200,300,400,\n",
    "                    400,150,110,120,\n",
    "                    600,700,700,150,\n",
    "                    840,250,110,120,\n",
    "                    950,140,150,520,\n",
    "                    660,150,150,250]    \n",
    "}"
   ]
  },
  {
   "cell_type": "code",
   "execution_count": 190,
   "id": "31fbc6e0-9b5a-4eaa-a76c-dd660797b48e",
   "metadata": {},
   "outputs": [
    {
     "data": {
      "text/html": [
       "<div>\n",
       "<style scoped>\n",
       "    .dataframe tbody tr th:only-of-type {\n",
       "        vertical-align: middle;\n",
       "    }\n",
       "\n",
       "    .dataframe tbody tr th {\n",
       "        vertical-align: top;\n",
       "    }\n",
       "\n",
       "    .dataframe thead th {\n",
       "        text-align: right;\n",
       "    }\n",
       "</style>\n",
       "<table border=\"1\" class=\"dataframe\">\n",
       "  <thead>\n",
       "    <tr style=\"text-align: right;\">\n",
       "      <th></th>\n",
       "      <th>id_customer</th>\n",
       "      <th>cusomer_email</th>\n",
       "    </tr>\n",
       "  </thead>\n",
       "  <tbody>\n",
       "    <tr>\n",
       "      <th>0</th>\n",
       "      <td>55</td>\n",
       "      <td>55@aston.ru</td>\n",
       "    </tr>\n",
       "    <tr>\n",
       "      <th>1</th>\n",
       "      <td>66</td>\n",
       "      <td>66@aston.ru</td>\n",
       "    </tr>\n",
       "    <tr>\n",
       "      <th>2</th>\n",
       "      <td>77</td>\n",
       "      <td>77@aston.ru</td>\n",
       "    </tr>\n",
       "    <tr>\n",
       "      <th>3</th>\n",
       "      <td>88</td>\n",
       "      <td>88@aston.ru</td>\n",
       "    </tr>\n",
       "    <tr>\n",
       "      <th>4</th>\n",
       "      <td>99</td>\n",
       "      <td>99@aston.ru</td>\n",
       "    </tr>\n",
       "    <tr>\n",
       "      <th>5</th>\n",
       "      <td>11</td>\n",
       "      <td>11@aston.ru</td>\n",
       "    </tr>\n",
       "  </tbody>\n",
       "</table>\n",
       "</div>"
      ],
      "text/plain": [
       "   id_customer cusomer_email\n",
       "0           55   55@aston.ru\n",
       "1           66   66@aston.ru\n",
       "2           77   77@aston.ru\n",
       "3           88   88@aston.ru\n",
       "4           99   99@aston.ru\n",
       "5           11   11@aston.ru"
      ]
     },
     "execution_count": 190,
     "metadata": {},
     "output_type": "execute_result"
    }
   ],
   "source": [
    "# 1 Создайте два DataFrame: один с информацией о клиентах, другой с информацией о заказах.\n",
    "clients = pd.DataFrame.from_dict(clients_dict)\n",
    "clients"
   ]
  },
  {
   "cell_type": "code",
   "execution_count": 193,
   "id": "e96d1fa5-4484-44a2-9cb6-b9c4c273e0f8",
   "metadata": {},
   "outputs": [
    {
     "data": {
      "text/html": [
       "<div>\n",
       "<style scoped>\n",
       "    .dataframe tbody tr th:only-of-type {\n",
       "        vertical-align: middle;\n",
       "    }\n",
       "\n",
       "    .dataframe tbody tr th {\n",
       "        vertical-align: top;\n",
       "    }\n",
       "\n",
       "    .dataframe thead th {\n",
       "        text-align: right;\n",
       "    }\n",
       "</style>\n",
       "<table border=\"1\" class=\"dataframe\">\n",
       "  <thead>\n",
       "    <tr style=\"text-align: right;\">\n",
       "      <th></th>\n",
       "      <th>id_customer</th>\n",
       "      <th>date</th>\n",
       "      <th>amount</th>\n",
       "    </tr>\n",
       "  </thead>\n",
       "  <tbody>\n",
       "    <tr>\n",
       "      <th>0</th>\n",
       "      <td>55</td>\n",
       "      <td>2025-02-27</td>\n",
       "      <td>100</td>\n",
       "    </tr>\n",
       "    <tr>\n",
       "      <th>1</th>\n",
       "      <td>66</td>\n",
       "      <td>2025-01-27</td>\n",
       "      <td>200</td>\n",
       "    </tr>\n",
       "    <tr>\n",
       "      <th>2</th>\n",
       "      <td>77</td>\n",
       "      <td>2025-02-26</td>\n",
       "      <td>300</td>\n",
       "    </tr>\n",
       "    <tr>\n",
       "      <th>3</th>\n",
       "      <td>88</td>\n",
       "      <td>2025-01-23</td>\n",
       "      <td>400</td>\n",
       "    </tr>\n",
       "    <tr>\n",
       "      <th>4</th>\n",
       "      <td>99</td>\n",
       "      <td>2025-03-06</td>\n",
       "      <td>400</td>\n",
       "    </tr>\n",
       "  </tbody>\n",
       "</table>\n",
       "</div>"
      ],
      "text/plain": [
       "   id_customer        date  amount\n",
       "0           55  2025-02-27     100\n",
       "1           66  2025-01-27     200\n",
       "2           77  2025-02-26     300\n",
       "3           88  2025-01-23     400\n",
       "4           99  2025-03-06     400"
      ]
     },
     "execution_count": 193,
     "metadata": {},
     "output_type": "execute_result"
    }
   ],
   "source": [
    "orders = pd.DataFrame.from_dict(orders_dict)\n",
    "orders.head()"
   ]
  },
  {
   "cell_type": "code",
   "execution_count": 195,
   "id": "e49cedb0-f71f-4580-a834-16ce4fe28fe0",
   "metadata": {},
   "outputs": [
    {
     "data": {
      "text/html": [
       "<div>\n",
       "<style scoped>\n",
       "    .dataframe tbody tr th:only-of-type {\n",
       "        vertical-align: middle;\n",
       "    }\n",
       "\n",
       "    .dataframe tbody tr th {\n",
       "        vertical-align: top;\n",
       "    }\n",
       "\n",
       "    .dataframe thead th {\n",
       "        text-align: right;\n",
       "    }\n",
       "</style>\n",
       "<table border=\"1\" class=\"dataframe\">\n",
       "  <thead>\n",
       "    <tr style=\"text-align: right;\">\n",
       "      <th></th>\n",
       "      <th>id_customer</th>\n",
       "      <th>date</th>\n",
       "      <th>amount</th>\n",
       "      <th>cusomer_email</th>\n",
       "    </tr>\n",
       "  </thead>\n",
       "  <tbody>\n",
       "    <tr>\n",
       "      <th>0</th>\n",
       "      <td>55</td>\n",
       "      <td>2025-02-27</td>\n",
       "      <td>100</td>\n",
       "      <td>55@aston.ru</td>\n",
       "    </tr>\n",
       "    <tr>\n",
       "      <th>1</th>\n",
       "      <td>66</td>\n",
       "      <td>2025-01-27</td>\n",
       "      <td>200</td>\n",
       "      <td>66@aston.ru</td>\n",
       "    </tr>\n",
       "    <tr>\n",
       "      <th>2</th>\n",
       "      <td>77</td>\n",
       "      <td>2025-02-26</td>\n",
       "      <td>300</td>\n",
       "      <td>77@aston.ru</td>\n",
       "    </tr>\n",
       "    <tr>\n",
       "      <th>3</th>\n",
       "      <td>88</td>\n",
       "      <td>2025-01-23</td>\n",
       "      <td>400</td>\n",
       "      <td>88@aston.ru</td>\n",
       "    </tr>\n",
       "    <tr>\n",
       "      <th>4</th>\n",
       "      <td>99</td>\n",
       "      <td>2025-03-06</td>\n",
       "      <td>400</td>\n",
       "      <td>99@aston.ru</td>\n",
       "    </tr>\n",
       "    <tr>\n",
       "      <th>5</th>\n",
       "      <td>11</td>\n",
       "      <td>2025-03-06</td>\n",
       "      <td>150</td>\n",
       "      <td>11@aston.ru</td>\n",
       "    </tr>\n",
       "    <tr>\n",
       "      <th>6</th>\n",
       "      <td>77</td>\n",
       "      <td>2025-03-06</td>\n",
       "      <td>110</td>\n",
       "      <td>77@aston.ru</td>\n",
       "    </tr>\n",
       "    <tr>\n",
       "      <th>7</th>\n",
       "      <td>88</td>\n",
       "      <td>2025-03-06</td>\n",
       "      <td>120</td>\n",
       "      <td>88@aston.ru</td>\n",
       "    </tr>\n",
       "    <tr>\n",
       "      <th>8</th>\n",
       "      <td>55</td>\n",
       "      <td>2025-03-06</td>\n",
       "      <td>600</td>\n",
       "      <td>55@aston.ru</td>\n",
       "    </tr>\n",
       "    <tr>\n",
       "      <th>9</th>\n",
       "      <td>55</td>\n",
       "      <td>2025-03-06</td>\n",
       "      <td>700</td>\n",
       "      <td>55@aston.ru</td>\n",
       "    </tr>\n",
       "    <tr>\n",
       "      <th>10</th>\n",
       "      <td>77</td>\n",
       "      <td>2025-03-06</td>\n",
       "      <td>700</td>\n",
       "      <td>77@aston.ru</td>\n",
       "    </tr>\n",
       "    <tr>\n",
       "      <th>11</th>\n",
       "      <td>11</td>\n",
       "      <td>2025-03-06</td>\n",
       "      <td>150</td>\n",
       "      <td>11@aston.ru</td>\n",
       "    </tr>\n",
       "    <tr>\n",
       "      <th>12</th>\n",
       "      <td>11</td>\n",
       "      <td>2025-03-06</td>\n",
       "      <td>840</td>\n",
       "      <td>11@aston.ru</td>\n",
       "    </tr>\n",
       "    <tr>\n",
       "      <th>13</th>\n",
       "      <td>88</td>\n",
       "      <td>2025-03-06</td>\n",
       "      <td>250</td>\n",
       "      <td>88@aston.ru</td>\n",
       "    </tr>\n",
       "    <tr>\n",
       "      <th>14</th>\n",
       "      <td>77</td>\n",
       "      <td>2025-03-06</td>\n",
       "      <td>110</td>\n",
       "      <td>77@aston.ru</td>\n",
       "    </tr>\n",
       "    <tr>\n",
       "      <th>15</th>\n",
       "      <td>55</td>\n",
       "      <td>2025-03-06</td>\n",
       "      <td>120</td>\n",
       "      <td>55@aston.ru</td>\n",
       "    </tr>\n",
       "    <tr>\n",
       "      <th>16</th>\n",
       "      <td>66</td>\n",
       "      <td>2025-03-06</td>\n",
       "      <td>950</td>\n",
       "      <td>66@aston.ru</td>\n",
       "    </tr>\n",
       "    <tr>\n",
       "      <th>17</th>\n",
       "      <td>99</td>\n",
       "      <td>2025-03-06</td>\n",
       "      <td>140</td>\n",
       "      <td>99@aston.ru</td>\n",
       "    </tr>\n",
       "    <tr>\n",
       "      <th>18</th>\n",
       "      <td>99</td>\n",
       "      <td>2025-03-06</td>\n",
       "      <td>150</td>\n",
       "      <td>99@aston.ru</td>\n",
       "    </tr>\n",
       "    <tr>\n",
       "      <th>19</th>\n",
       "      <td>99</td>\n",
       "      <td>2025-03-06</td>\n",
       "      <td>520</td>\n",
       "      <td>99@aston.ru</td>\n",
       "    </tr>\n",
       "    <tr>\n",
       "      <th>20</th>\n",
       "      <td>66</td>\n",
       "      <td>2025-03-06</td>\n",
       "      <td>660</td>\n",
       "      <td>66@aston.ru</td>\n",
       "    </tr>\n",
       "    <tr>\n",
       "      <th>21</th>\n",
       "      <td>66</td>\n",
       "      <td>2025-03-06</td>\n",
       "      <td>150</td>\n",
       "      <td>66@aston.ru</td>\n",
       "    </tr>\n",
       "    <tr>\n",
       "      <th>22</th>\n",
       "      <td>77</td>\n",
       "      <td>2025-03-06</td>\n",
       "      <td>150</td>\n",
       "      <td>77@aston.ru</td>\n",
       "    </tr>\n",
       "    <tr>\n",
       "      <th>23</th>\n",
       "      <td>88</td>\n",
       "      <td>2025-03-06</td>\n",
       "      <td>250</td>\n",
       "      <td>88@aston.ru</td>\n",
       "    </tr>\n",
       "  </tbody>\n",
       "</table>\n",
       "</div>"
      ],
      "text/plain": [
       "    id_customer        date  amount cusomer_email\n",
       "0            55  2025-02-27     100   55@aston.ru\n",
       "1            66  2025-01-27     200   66@aston.ru\n",
       "2            77  2025-02-26     300   77@aston.ru\n",
       "3            88  2025-01-23     400   88@aston.ru\n",
       "4            99  2025-03-06     400   99@aston.ru\n",
       "5            11  2025-03-06     150   11@aston.ru\n",
       "6            77  2025-03-06     110   77@aston.ru\n",
       "7            88  2025-03-06     120   88@aston.ru\n",
       "8            55  2025-03-06     600   55@aston.ru\n",
       "9            55  2025-03-06     700   55@aston.ru\n",
       "10           77  2025-03-06     700   77@aston.ru\n",
       "11           11  2025-03-06     150   11@aston.ru\n",
       "12           11  2025-03-06     840   11@aston.ru\n",
       "13           88  2025-03-06     250   88@aston.ru\n",
       "14           77  2025-03-06     110   77@aston.ru\n",
       "15           55  2025-03-06     120   55@aston.ru\n",
       "16           66  2025-03-06     950   66@aston.ru\n",
       "17           99  2025-03-06     140   99@aston.ru\n",
       "18           99  2025-03-06     150   99@aston.ru\n",
       "19           99  2025-03-06     520   99@aston.ru\n",
       "20           66  2025-03-06     660   66@aston.ru\n",
       "21           66  2025-03-06     150   66@aston.ru\n",
       "22           77  2025-03-06     150   77@aston.ru\n",
       "23           88  2025-03-06     250   88@aston.ru"
      ]
     },
     "execution_count": 195,
     "metadata": {},
     "output_type": "execute_result"
    }
   ],
   "source": [
    "# 2 Используйте merge(), чтобы объединить таблицы по ID клиента.\n",
    "df = orders.merge(clients, how='left', on='id_customer')\n",
    "df"
   ]
  },
  {
   "cell_type": "markdown",
   "id": "6992a0bd-a9f5-4726-882c-84305994c4f8",
   "metadata": {},
   "source": [
    "## Дополнительные задания\n",
    "### Изучите функции для работы со строками: str.upper(), str.lower(), str.replace()."
   ]
  },
  {
   "cell_type": "code",
   "execution_count": 198,
   "id": "9b2c1082-ca51-4ed0-bb47-7a65939d118e",
   "metadata": {},
   "outputs": [
    {
     "data": {
      "text/plain": [
       "0      прописные\n",
       "1      ЗАГЛАВНЫЕ\n",
       "2    ВпререМешКу\n",
       "dtype: object"
      ]
     },
     "execution_count": 198,
     "metadata": {},
     "output_type": "execute_result"
    }
   ],
   "source": [
    "s = pd.Series(['прописные', 'ЗАГЛАВНЫЕ', 'ВпререМешКу'])\n",
    "s"
   ]
  },
  {
   "cell_type": "code",
   "execution_count": 203,
   "id": "20692f24-0640-4504-8be9-4be6ba7d70ea",
   "metadata": {},
   "outputs": [
    {
     "data": {
      "text/plain": [
       "0      прописные\n",
       "1      заглавные\n",
       "2    впреремешку\n",
       "dtype: object"
      ]
     },
     "execution_count": 203,
     "metadata": {},
     "output_type": "execute_result"
    }
   ],
   "source": [
    "# применим функцию - для сохранения - надо записать в переменную изменения \n",
    "s.str.lower()"
   ]
  },
  {
   "cell_type": "code",
   "execution_count": 204,
   "id": "9b4d41c9-e37a-4924-8ff6-93bc12518f37",
   "metadata": {},
   "outputs": [
    {
     "data": {
      "text/plain": [
       "0      прописные\n",
       "1      ЗАГЛАВНЫЕ\n",
       "2    ВпререМешКу\n",
       "dtype: object"
      ]
     },
     "execution_count": 204,
     "metadata": {},
     "output_type": "execute_result"
    }
   ],
   "source": [
    "s"
   ]
  },
  {
   "cell_type": "code",
   "execution_count": 206,
   "id": "f2ba3b1f-5dc4-4422-8fd1-1aa4497775e2",
   "metadata": {},
   "outputs": [
    {
     "data": {
      "text/plain": [
       "0      ПРОПИСНЫЕ\n",
       "1      ЗАГЛАВНЫЕ\n",
       "2    ВПРЕРЕМЕШКУ\n",
       "dtype: object"
      ]
     },
     "execution_count": 206,
     "metadata": {},
     "output_type": "execute_result"
    }
   ],
   "source": [
    "# применим функцию - для сохранения - надо записать в переменную изменения \n",
    "s.str.upper()"
   ]
  },
  {
   "cell_type": "code",
   "execution_count": 207,
   "id": "1adc6cf1-b4e2-4fde-8009-5ab425303cdb",
   "metadata": {},
   "outputs": [
    {
     "data": {
      "text/plain": [
       "0      Прописные\n",
       "1      Заглавные\n",
       "2    Впреремешку\n",
       "dtype: object"
      ]
     },
     "execution_count": 207,
     "metadata": {},
     "output_type": "execute_result"
    }
   ],
   "source": [
    "# применим функцию - для сохранения - надо записать в переменную изменения \n",
    "s.str.title()"
   ]
  },
  {
   "cell_type": "code",
   "execution_count": 208,
   "id": "413034af-7dea-4092-88e8-ef9d2eb960fe",
   "metadata": {},
   "outputs": [],
   "source": [
    "# Чтобы сохранить произведённые изменения, важно результат присвоить обратно в DataFrame\n",
    "df[\"cusomer_email\"]= df[\"cusomer_email\"].str.replace('.ru', '.com', regex=True, case = False)"
   ]
  },
  {
   "cell_type": "code",
   "execution_count": 210,
   "id": "0c9e3527-f13d-4832-b37a-e33930dafe32",
   "metadata": {},
   "outputs": [
    {
     "data": {
      "text/plain": [
       "array(['55@aston.com', '66@aston.com', '77@aston.com', '88@aston.com',\n",
       "       '99@aston.com', '11@aston.com'], dtype=object)"
      ]
     },
     "execution_count": 210,
     "metadata": {},
     "output_type": "execute_result"
    }
   ],
   "source": [
    "# после замены емейлы покупателей\n",
    "df[\"cusomer_email\"].unique()"
   ]
  },
  {
   "cell_type": "markdown",
   "id": "16921736-90ae-4c34-9506-cb90cb1d9d5f",
   "metadata": {},
   "source": [
    "### Визуализируйте данные с помощью Matplotlib, интегрируя его с Pandas."
   ]
  },
  {
   "cell_type": "code",
   "execution_count": 211,
   "id": "902b424c-050b-459e-a0fb-a481a29d80dc",
   "metadata": {},
   "outputs": [
    {
     "data": {
      "text/html": [
       "<div>\n",
       "<style scoped>\n",
       "    .dataframe tbody tr th:only-of-type {\n",
       "        vertical-align: middle;\n",
       "    }\n",
       "\n",
       "    .dataframe tbody tr th {\n",
       "        vertical-align: top;\n",
       "    }\n",
       "\n",
       "    .dataframe thead th {\n",
       "        text-align: right;\n",
       "    }\n",
       "</style>\n",
       "<table border=\"1\" class=\"dataframe\">\n",
       "  <thead>\n",
       "    <tr style=\"text-align: right;\">\n",
       "      <th></th>\n",
       "      <th>id_customer</th>\n",
       "      <th>date</th>\n",
       "      <th>amount</th>\n",
       "      <th>cusomer_email</th>\n",
       "    </tr>\n",
       "  </thead>\n",
       "  <tbody>\n",
       "    <tr>\n",
       "      <th>0</th>\n",
       "      <td>55</td>\n",
       "      <td>2025-02-27</td>\n",
       "      <td>100</td>\n",
       "      <td>55@aston.com</td>\n",
       "    </tr>\n",
       "    <tr>\n",
       "      <th>1</th>\n",
       "      <td>66</td>\n",
       "      <td>2025-01-27</td>\n",
       "      <td>200</td>\n",
       "      <td>66@aston.com</td>\n",
       "    </tr>\n",
       "    <tr>\n",
       "      <th>2</th>\n",
       "      <td>77</td>\n",
       "      <td>2025-02-26</td>\n",
       "      <td>300</td>\n",
       "      <td>77@aston.com</td>\n",
       "    </tr>\n",
       "    <tr>\n",
       "      <th>3</th>\n",
       "      <td>88</td>\n",
       "      <td>2025-01-23</td>\n",
       "      <td>400</td>\n",
       "      <td>88@aston.com</td>\n",
       "    </tr>\n",
       "    <tr>\n",
       "      <th>4</th>\n",
       "      <td>99</td>\n",
       "      <td>2025-03-06</td>\n",
       "      <td>400</td>\n",
       "      <td>99@aston.com</td>\n",
       "    </tr>\n",
       "  </tbody>\n",
       "</table>\n",
       "</div>"
      ],
      "text/plain": [
       "   id_customer        date  amount cusomer_email\n",
       "0           55  2025-02-27     100  55@aston.com\n",
       "1           66  2025-01-27     200  66@aston.com\n",
       "2           77  2025-02-26     300  77@aston.com\n",
       "3           88  2025-01-23     400  88@aston.com\n",
       "4           99  2025-03-06     400  99@aston.com"
      ]
     },
     "execution_count": 211,
     "metadata": {},
     "output_type": "execute_result"
    }
   ],
   "source": [
    "df.head()"
   ]
  },
  {
   "cell_type": "code",
   "execution_count": 219,
   "id": "5b0f6e9f-8b81-498c-baf6-f11b20f8eea5",
   "metadata": {},
   "outputs": [
    {
     "data": {
      "text/html": [
       "<div>\n",
       "<style scoped>\n",
       "    .dataframe tbody tr th:only-of-type {\n",
       "        vertical-align: middle;\n",
       "    }\n",
       "\n",
       "    .dataframe tbody tr th {\n",
       "        vertical-align: top;\n",
       "    }\n",
       "\n",
       "    .dataframe thead th {\n",
       "        text-align: right;\n",
       "    }\n",
       "</style>\n",
       "<table border=\"1\" class=\"dataframe\">\n",
       "  <thead>\n",
       "    <tr style=\"text-align: right;\">\n",
       "      <th></th>\n",
       "      <th>id_customer</th>\n",
       "      <th>total_amount</th>\n",
       "      <th>freq</th>\n",
       "    </tr>\n",
       "  </thead>\n",
       "  <tbody>\n",
       "    <tr>\n",
       "      <th>3</th>\n",
       "      <td>77</td>\n",
       "      <td>1370</td>\n",
       "      <td>5</td>\n",
       "    </tr>\n",
       "    <tr>\n",
       "      <th>2</th>\n",
       "      <td>66</td>\n",
       "      <td>1960</td>\n",
       "      <td>4</td>\n",
       "    </tr>\n",
       "    <tr>\n",
       "      <th>1</th>\n",
       "      <td>55</td>\n",
       "      <td>1520</td>\n",
       "      <td>4</td>\n",
       "    </tr>\n",
       "    <tr>\n",
       "      <th>5</th>\n",
       "      <td>99</td>\n",
       "      <td>1210</td>\n",
       "      <td>4</td>\n",
       "    </tr>\n",
       "    <tr>\n",
       "      <th>4</th>\n",
       "      <td>88</td>\n",
       "      <td>1020</td>\n",
       "      <td>4</td>\n",
       "    </tr>\n",
       "    <tr>\n",
       "      <th>0</th>\n",
       "      <td>11</td>\n",
       "      <td>1140</td>\n",
       "      <td>3</td>\n",
       "    </tr>\n",
       "  </tbody>\n",
       "</table>\n",
       "</div>"
      ],
      "text/plain": [
       "   id_customer  total_amount  freq\n",
       "3           77          1370     5\n",
       "2           66          1960     4\n",
       "1           55          1520     4\n",
       "5           99          1210     4\n",
       "4           88          1020     4\n",
       "0           11          1140     3"
      ]
     },
     "execution_count": 219,
     "metadata": {},
     "output_type": "execute_result"
    }
   ],
   "source": [
    "# сгруппируем данные\n",
    "df_grouped = df.copy(deep=True)\n",
    "df_grouped = (df_grouped\n",
    "              .groupby('id_customer')\n",
    "              .agg({'amount': 'sum',\n",
    "                    'date': 'count'})\n",
    "              .rename(columns={'amount':'total_amount','date': 'freq'})\n",
    "              .reset_index()\n",
    "             )\n",
    "df_grouped.sort_values(\n",
    "        by=['freq','total_amount'], \n",
    "        ascending=False)"
   ]
  },
  {
   "cell_type": "code",
   "execution_count": 249,
   "id": "7fec6ba6-e3af-44a9-8139-5cc10f4d86ef",
   "metadata": {},
   "outputs": [
    {
     "data": {
      "image/png": "[encoded data removed]",
      "text/plain": [
       "<Figure size 600x400 with 1 Axes>"
      ]
     },
     "metadata": {},
     "output_type": "display_data"
    }
   ],
   "source": [
    "# построим диаграмму с выручкой по покупателям\n",
    "import matplotlib.pyplot as plt\n",
    "import numpy as np \n",
    "plt.figure(figsize=(6, 4))\n",
    "   \n",
    "X_axis = np.arange(len(df_grouped.id_customer)) \n",
    "  \n",
    "plt.bar(X_axis - 0.2, df_grouped.total_amount.sort_values(ascending=False), alpha= 0.7, edgecolor='black', color = 'red') \n",
    "   \n",
    "plt.xticks(X_axis, df_grouped.id_customer) \n",
    "plt.grid(axis = 'y', alpha = 0.2, color = 'green')\n",
    "plt.xlabel(\"id покуателя\") \n",
    "plt.ylabel(\"сумма\") \n",
    "plt.title(\"Выручка по покупателям за период\") \n",
    "plt.show()"
   ]
  },
  {
   "cell_type": "code",
   "execution_count": null,
   "id": "73535274-2f40-4ce6-924f-4d3bd10e2347",
   "metadata": {},
   "outputs": [],
   "source": []
  }
 ],
 "metadata": {
  "kernelspec": {
   "display_name": "Python 3 (ipykernel)",
   "language": "python",
   "name": "python3"
  },
  "language_info": {
   "codemirror_mode": {
    "name": "ipython",
    "version": 3
   },
   "file_extension": ".py",
   "mimetype": "text/x-python",
   "name": "python",
   "nbconvert_exporter": "python",
   "pygments_lexer": "ipython3",
   "version": "3.12.2"
  }
 },
 "nbformat": 4,
 "nbformat_minor": 5
}
