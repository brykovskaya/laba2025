{
 "cells": [
  {
   "cell_type": "markdown",
   "id": "64b9f122",
   "metadata": {},
   "source": [
    " - train.csv - the training set\n",
    " - test.csv - the test set\n",
    " - data_description.txt - full description of each column, originally prepared by Dean De Cock but lightly edited to match the column names used here\n",
    " - sample_submission.csv - a benchmark submission from a linear regression on year and month of sale, lot square footage, and number of bedrooms\n",
    " \n",
    "[kaggle_datasets](https://www.kaggle.com/competitions/house-prices-advanced-regression-techniques)"
   ]
  },
  {
   "cell_type": "markdown",
   "id": "ac74744e",
   "metadata": {},
   "source": [
    "Задача предсказания цен на недвижимость с Kaggle"
   ]
  },
  {
   "cell_type": "markdown",
   "id": "e1060900",
   "metadata": {},
   "source": [
    "### ✔ Исследуем данные"
   ]
  },
  {
   "cell_type": "code",
   "execution_count": 1,
   "id": "92290a80",
   "metadata": {},
   "outputs": [
    {
     "data": {
      "text/html": [
       "<div>\n",
       "<style scoped>\n",
       "    .dataframe tbody tr th:only-of-type {\n",
       "        vertical-align: middle;\n",
       "    }\n",
       "\n",
       "    .dataframe tbody tr th {\n",
       "        vertical-align: top;\n",
       "    }\n",
       "\n",
       "    .dataframe thead th {\n",
       "        text-align: right;\n",
       "    }\n",
       "</style>\n",
       "<table border=\"1\" class=\"dataframe\">\n",
       "  <thead>\n",
       "    <tr style=\"text-align: right;\">\n",
       "      <th></th>\n",
       "      <th>Id</th>\n",
       "      <th>MSSubClass</th>\n",
       "      <th>MSZoning</th>\n",
       "      <th>LotFrontage</th>\n",
       "      <th>LotArea</th>\n",
       "      <th>Street</th>\n",
       "      <th>Alley</th>\n",
       "      <th>LotShape</th>\n",
       "      <th>LandContour</th>\n",
       "      <th>Utilities</th>\n",
       "      <th>...</th>\n",
       "      <th>PoolArea</th>\n",
       "      <th>PoolQC</th>\n",
       "      <th>Fence</th>\n",
       "      <th>MiscFeature</th>\n",
       "      <th>MiscVal</th>\n",
       "      <th>MoSold</th>\n",
       "      <th>YrSold</th>\n",
       "      <th>SaleType</th>\n",
       "      <th>SaleCondition</th>\n",
       "      <th>SalePrice</th>\n",
       "    </tr>\n",
       "  </thead>\n",
       "  <tbody>\n",
       "    <tr>\n",
       "      <th>0</th>\n",
       "      <td>1</td>\n",
       "      <td>60</td>\n",
       "      <td>RL</td>\n",
       "      <td>65.0</td>\n",
       "      <td>8450</td>\n",
       "      <td>Pave</td>\n",
       "      <td>NaN</td>\n",
       "      <td>Reg</td>\n",
       "      <td>Lvl</td>\n",
       "      <td>AllPub</td>\n",
       "      <td>...</td>\n",
       "      <td>0</td>\n",
       "      <td>NaN</td>\n",
       "      <td>NaN</td>\n",
       "      <td>NaN</td>\n",
       "      <td>0</td>\n",
       "      <td>2</td>\n",
       "      <td>2008</td>\n",
       "      <td>WD</td>\n",
       "      <td>Normal</td>\n",
       "      <td>208500</td>\n",
       "    </tr>\n",
       "    <tr>\n",
       "      <th>1</th>\n",
       "      <td>2</td>\n",
       "      <td>20</td>\n",
       "      <td>RL</td>\n",
       "      <td>80.0</td>\n",
       "      <td>9600</td>\n",
       "      <td>Pave</td>\n",
       "      <td>NaN</td>\n",
       "      <td>Reg</td>\n",
       "      <td>Lvl</td>\n",
       "      <td>AllPub</td>\n",
       "      <td>...</td>\n",
       "      <td>0</td>\n",
       "      <td>NaN</td>\n",
       "      <td>NaN</td>\n",
       "      <td>NaN</td>\n",
       "      <td>0</td>\n",
       "      <td>5</td>\n",
       "      <td>2007</td>\n",
       "      <td>WD</td>\n",
       "      <td>Normal</td>\n",
       "      <td>181500</td>\n",
       "    </tr>\n",
       "    <tr>\n",
       "      <th>2</th>\n",
       "      <td>3</td>\n",
       "      <td>60</td>\n",
       "      <td>RL</td>\n",
       "      <td>68.0</td>\n",
       "      <td>11250</td>\n",
       "      <td>Pave</td>\n",
       "      <td>NaN</td>\n",
       "      <td>IR1</td>\n",
       "      <td>Lvl</td>\n",
       "      <td>AllPub</td>\n",
       "      <td>...</td>\n",
       "      <td>0</td>\n",
       "      <td>NaN</td>\n",
       "      <td>NaN</td>\n",
       "      <td>NaN</td>\n",
       "      <td>0</td>\n",
       "      <td>9</td>\n",
       "      <td>2008</td>\n",
       "      <td>WD</td>\n",
       "      <td>Normal</td>\n",
       "      <td>223500</td>\n",
       "    </tr>\n",
       "    <tr>\n",
       "      <th>3</th>\n",
       "      <td>4</td>\n",
       "      <td>70</td>\n",
       "      <td>RL</td>\n",
       "      <td>60.0</td>\n",
       "      <td>9550</td>\n",
       "      <td>Pave</td>\n",
       "      <td>NaN</td>\n",
       "      <td>IR1</td>\n",
       "      <td>Lvl</td>\n",
       "      <td>AllPub</td>\n",
       "      <td>...</td>\n",
       "      <td>0</td>\n",
       "      <td>NaN</td>\n",
       "      <td>NaN</td>\n",
       "      <td>NaN</td>\n",
       "      <td>0</td>\n",
       "      <td>2</td>\n",
       "      <td>2006</td>\n",
       "      <td>WD</td>\n",
       "      <td>Abnorml</td>\n",
       "      <td>140000</td>\n",
       "    </tr>\n",
       "    <tr>\n",
       "      <th>4</th>\n",
       "      <td>5</td>\n",
       "      <td>60</td>\n",
       "      <td>RL</td>\n",
       "      <td>84.0</td>\n",
       "      <td>14260</td>\n",
       "      <td>Pave</td>\n",
       "      <td>NaN</td>\n",
       "      <td>IR1</td>\n",
       "      <td>Lvl</td>\n",
       "      <td>AllPub</td>\n",
       "      <td>...</td>\n",
       "      <td>0</td>\n",
       "      <td>NaN</td>\n",
       "      <td>NaN</td>\n",
       "      <td>NaN</td>\n",
       "      <td>0</td>\n",
       "      <td>12</td>\n",
       "      <td>2008</td>\n",
       "      <td>WD</td>\n",
       "      <td>Normal</td>\n",
       "      <td>250000</td>\n",
       "    </tr>\n",
       "  </tbody>\n",
       "</table>\n",
       "<p>5 rows × 81 columns</p>\n",
       "</div>"
      ],
      "text/plain": [
       "   Id  MSSubClass MSZoning  LotFrontage  LotArea Street Alley LotShape  \\\n",
       "0   1          60       RL         65.0     8450   Pave   NaN      Reg   \n",
       "1   2          20       RL         80.0     9600   Pave   NaN      Reg   \n",
       "2   3          60       RL         68.0    11250   Pave   NaN      IR1   \n",
       "3   4          70       RL         60.0     9550   Pave   NaN      IR1   \n",
       "4   5          60       RL         84.0    14260   Pave   NaN      IR1   \n",
       "\n",
       "  LandContour Utilities  ... PoolArea PoolQC Fence MiscFeature MiscVal MoSold  \\\n",
       "0         Lvl    AllPub  ...        0    NaN   NaN         NaN       0      2   \n",
       "1         Lvl    AllPub  ...        0    NaN   NaN         NaN       0      5   \n",
       "2         Lvl    AllPub  ...        0    NaN   NaN         NaN       0      9   \n",
       "3         Lvl    AllPub  ...        0    NaN   NaN         NaN       0      2   \n",
       "4         Lvl    AllPub  ...        0    NaN   NaN         NaN       0     12   \n",
       "\n",
       "  YrSold  SaleType  SaleCondition  SalePrice  \n",
       "0   2008        WD         Normal     208500  \n",
       "1   2007        WD         Normal     181500  \n",
       "2   2008        WD         Normal     223500  \n",
       "3   2006        WD        Abnorml     140000  \n",
       "4   2008        WD         Normal     250000  \n",
       "\n",
       "[5 rows x 81 columns]"
      ]
     },
     "execution_count": 1,
     "metadata": {},
     "output_type": "execute_result"
    }
   ],
   "source": [
    "# импортируем необходимые библиотеки\n",
    "import pandas as pd\n",
    "import numpy as np\n",
    "\n",
    "#  записываем csv-файл в объект DataFrame\n",
    "path = r'C:\\Users\\79181\\n.brykovskaya\\module_2\\4ML\\5ML_project\\files\\train.csv'\n",
    "train = pd.read_csv(path)\n",
    "\n",
    "# выводим первые 5 наблюдений\n",
    "train.head()"
   ]
  },
  {
   "cell_type": "code",
   "execution_count": 2,
   "id": "d35e37b1",
   "metadata": {},
   "outputs": [
    {
     "data": {
      "text/plain": [
       "(1460, 81)"
      ]
     },
     "execution_count": 2,
     "metadata": {},
     "output_type": "execute_result"
    }
   ],
   "source": [
    "# смотрим форму обучающего датафрейма\n",
    "train.shape\n"
   ]
  },
  {
   "cell_type": "markdown",
   "id": "06e041f5",
   "metadata": {},
   "source": [
    "### ✔ Удаление зависимой переменной из обучающего набора\n",
    "Зависимой переменной является SalesPrice,которую мы превратим в массив меток. Он будет использован позднее при обучении модели."
   ]
  },
  {
   "cell_type": "code",
   "execution_count": 3,
   "id": "f051cbe1",
   "metadata": {},
   "outputs": [],
   "source": [
    "# создаем массив меток\n",
    "y = train.pop('SalePrice').values"
   ]
  },
  {
   "cell_type": "markdown",
   "id": "cfdd67e3",
   "metadata": {},
   "source": [
    "### ✔  Кодировка отдельного столбца со строковыми значениями\n",
    "Для начала закодируем отдельный столбец со строковыми значениями HouseStyle, который содержит значения, описывающие внешний облик дома. Давайте выведем частоту каждого строкового значения."
   ]
  },
  {
   "cell_type": "code",
   "execution_count": 4,
   "id": "6f3594d4",
   "metadata": {},
   "outputs": [
    {
     "data": {
      "text/plain": [
       "HouseStyle\n",
       "1Story    726\n",
       "2Story    445\n",
       "1.5Fin    154\n",
       "SLvl       65\n",
       "SFoyer     37\n",
       "1.5Unf     14\n",
       "2.5Unf     11\n",
       "2.5Fin      8\n",
       "Name: count, dtype: int64"
      ]
     },
     "execution_count": 4,
     "metadata": {},
     "output_type": "execute_result"
    }
   ],
   "source": [
    "# выводим частоты каьтегорий переменной HouseStyle\n",
    "vc = train['HouseStyle'].value_counts()\n",
    "vc"
   ]
  },
  {
   "cell_type": "markdown",
   "id": "25139022",
   "metadata": {},
   "source": [
    "Данный столбец содержит 8 уникальных значений.\n",
    "\n",
    "Scikit-Learn требует чтобы данными были строго двумерные. Можно заставить библиотеку Pandas  создать объект dataframe  с единственным столбцом, передав список, состоящий из одного элемента, в квадратные скобки."
   ]
  },
  {
   "cell_type": "code",
   "execution_count": 5,
   "id": "7ce8f1f3",
   "metadata": {},
   "outputs": [
    {
     "data": {
      "text/plain": [
       "2"
      ]
     },
     "execution_count": 5,
     "metadata": {},
     "output_type": "execute_result"
    }
   ],
   "source": [
    "# создаем объект DataFrame с одним столбцом\n",
    "hs_train = train[['HouseStyle']].copy()\n",
    "hs_train.ndim"
   ]
  },
  {
   "cell_type": "markdown",
   "id": "6a4fbba7",
   "metadata": {},
   "source": [
    "### ✔ Импортируем класс, создаем экземпляр класса - модель, обучаем модель - трехэтапный процесс работы с моделью\n",
    "\n",
    "Импортируем класс `OneHotEncoder`, создаем экземпляр класса, убеждаемся в том, что мы получили плотный (а не разреженный) массив, наконец, выполняем дамми-кодирование нашего отдельного столбца с помощью метода `.fit_transform()`"
   ]
  },
  {
   "cell_type": "code",
   "execution_count": 6,
   "id": "7148c6cd",
   "metadata": {},
   "outputs": [
    {
     "data": {
      "text/plain": [
       "array([[0., 0., 0., ..., 1., 0., 0.],\n",
       "       [0., 0., 1., ..., 0., 0., 0.],\n",
       "       [0., 0., 0., ..., 1., 0., 0.],\n",
       "       ...,\n",
       "       [0., 0., 0., ..., 1., 0., 0.],\n",
       "       [0., 0., 1., ..., 0., 0., 0.],\n",
       "       [0., 0., 1., ..., 0., 0., 0.]])"
      ]
     },
     "execution_count": 6,
     "metadata": {},
     "output_type": "execute_result"
    }
   ],
   "source": [
    "# Импортируем класс OneHotEncoder\n",
    "from sklearn.preprocessing import OneHotEncoder\n",
    "# создаем экземпляр класса OneHotEncoder,\n",
    "# будем возвращать плотный массив\n",
    "ohe = OneHotEncoder(sparse_output=False)\n",
    "# выполняем дамми-кодирование переменной\n",
    "# HouseStyle в обучающем наборе\n",
    "hs_train_tranceformed = ohe.fit_transform(hs_train)\n",
    "# смотрим результат \n",
    "hs_train_tranceformed "
   ]
  },
  {
   "cell_type": "markdown",
   "id": "29145129",
   "metadata": {},
   "source": [
    "как и ожидалось, каждое уникальное значение становится отдельным бинарным признаком\n",
    "\n",
    "Убеждаемся, что каждое уникальное значение получило свой столбец (8 уникальных значений дадут 8 столбцов)."
   ]
  },
  {
   "cell_type": "code",
   "execution_count": 7,
   "id": "88efb12e",
   "metadata": {},
   "outputs": [
    {
     "data": {
      "text/plain": [
       "(1460, 8)"
      ]
     },
     "execution_count": 7,
     "metadata": {},
     "output_type": "execute_result"
    }
   ],
   "source": [
    "hs_train_tranceformed.shape"
   ]
  },
  {
   "cell_type": "markdown",
   "id": "3e8e1da2",
   "metadata": {},
   "source": [
    "### ✔ Извлекаем имена столбцов\n",
    "Полученный объект - это массив NumPy, а не датафрейм pandas. Извлечем имя столбца из объекта  OneHotEncoder с помощью  метода `метод get_feature_names_out()`"
   ]
  },
  {
   "cell_type": "code",
   "execution_count": 8,
   "id": "80c089d3",
   "metadata": {},
   "outputs": [
    {
     "data": {
      "text/plain": [
       "array(['HouseStyle_1.5Fin', 'HouseStyle_1.5Unf', 'HouseStyle_1Story',\n",
       "       'HouseStyle_2.5Fin', 'HouseStyle_2.5Unf', 'HouseStyle_2Story',\n",
       "       'HouseStyle_SFoyer', 'HouseStyle_SLvl'], dtype=object)"
      ]
     },
     "execution_count": 8,
     "metadata": {},
     "output_type": "execute_result"
    }
   ],
   "source": [
    "# запишем имена столбцов в объект feature_names\n",
    "feature_names = ohe.get_feature_names_out()\n",
    "# смотрим имена столбцов\n",
    "feature_names"
   ]
  },
  {
   "cell_type": "markdown",
   "id": "2234cedb",
   "metadata": {},
   "source": [
    "### ✔ Проверка корректности первой строки данных"
   ]
  },
  {
   "cell_type": "code",
   "execution_count": 9,
   "id": "bb142b3c",
   "metadata": {},
   "outputs": [
    {
     "data": {
      "text/plain": [
       "array([0., 0., 0., 0., 0., 1., 0., 0.])"
      ]
     },
     "execution_count": 9,
     "metadata": {},
     "output_type": "execute_result"
    }
   ],
   "source": [
    "# выведем первую строку преобразованных данных\n",
    "row0 = hs_train_tranceformed[0]\n",
    "row0"
   ]
  },
  {
   "cell_type": "markdown",
   "id": "c5e92aed",
   "metadata": {},
   "source": [
    "Шестое значение массива было закодировано единицей. Используя логическое индексирование, можно выяснить имя переменной"
   ]
  },
  {
   "cell_type": "code",
   "execution_count": 10,
   "id": "bf180219",
   "metadata": {},
   "outputs": [
    {
     "data": {
      "text/plain": [
       "array(['HouseStyle_2Story'], dtype=object)"
      ]
     },
     "execution_count": 10,
     "metadata": {},
     "output_type": "execute_result"
    }
   ],
   "source": [
    "# выясним имя переменной к-е в 1й строке закодировано как1\n",
    "feature_names[row0==1]"
   ]
  },
  {
   "cell_type": "markdown",
   "id": "61129d5b",
   "metadata": {},
   "source": [
    "Теперь убедимся, что первое значение в нашем исходном столбце является тем же самым"
   ]
  },
  {
   "cell_type": "code",
   "execution_count": 11,
   "id": "059eb591",
   "metadata": {},
   "outputs": [
    {
     "data": {
      "text/plain": [
       "array(['2Story'], dtype=object)"
      ]
     },
     "execution_count": 11,
     "metadata": {},
     "output_type": "execute_result"
    }
   ],
   "source": [
    "# смотрим значение исходного столбца HouseStyle в строке 0\n",
    "hs_train.values[0]"
   ]
  },
  {
   "cell_type": "markdown",
   "id": "b3eda7b9",
   "metadata": {},
   "source": [
    "### ✔ Метод .inverse_transform() для автоматизации\n",
    "У объекта OneHotEncoder есть метод `.inverse_transform()`, который вернет нам исходные данные. Здесь мы должны обернуть row0 в список, чтобы получить двумерный массив"
   ]
  },
  {
   "cell_type": "code",
   "execution_count": 12,
   "id": "382b210a",
   "metadata": {},
   "outputs": [
    {
     "data": {
      "text/plain": [
       "array([['2Story']], dtype=object)"
      ]
     },
     "execution_count": 12,
     "metadata": {},
     "output_type": "execute_result"
    }
   ],
   "source": [
    "# выполним обратное преобразование\n",
    "ohe.inverse_transform([row0])"
   ]
  },
  {
   "cell_type": "markdown",
   "id": "1886c547",
   "metadata": {},
   "source": [
    "Мы можем проверить все значения сразу, выполнив инвертирование всегопреобразованного массива"
   ]
  },
  {
   "cell_type": "code",
   "execution_count": 13,
   "id": "33faef82",
   "metadata": {},
   "outputs": [
    {
     "data": {
      "text/plain": [
       "array([['2Story'],\n",
       "       ['1Story'],\n",
       "       ['2Story'],\n",
       "       ...,\n",
       "       ['2Story'],\n",
       "       ['1Story'],\n",
       "       ['1Story']], dtype=object)"
      ]
     },
     "execution_count": 13,
     "metadata": {},
     "output_type": "execute_result"
    }
   ],
   "source": [
    "# выполняем инвертирование всего преобразованного массива\n",
    "hs_inv = ohe.inverse_transform(hs_train_tranceformed)\n",
    "hs_inv"
   ]
  },
  {
   "cell_type": "code",
   "execution_count": 14,
   "id": "44501037",
   "metadata": {},
   "outputs": [
    {
     "data": {
      "text/plain": [
       "True"
      ]
     },
     "execution_count": 14,
     "metadata": {},
     "output_type": "execute_result"
    }
   ],
   "source": [
    "# проверяем совпадают ли массивы\n",
    "np.array_equal(hs_inv, hs_train.values)"
   ]
  },
  {
   "cell_type": "markdown",
   "id": "d4942c27",
   "metadata": {},
   "source": [
    "### ✔ Применение преобразования к тестовому набору\n",
    "Любое преобразование, применяемое к обучающему набору, должно быть применено и к тестовому набору. Прочитаем тестовый набор данных, извлечем тот же самый столбец и применим к нему наше преобразование"
   ]
  },
  {
   "cell_type": "code",
   "execution_count": 15,
   "id": "351d1a6c",
   "metadata": {},
   "outputs": [
    {
     "data": {
      "text/html": [
       "<div>\n",
       "<style scoped>\n",
       "    .dataframe tbody tr th:only-of-type {\n",
       "        vertical-align: middle;\n",
       "    }\n",
       "\n",
       "    .dataframe tbody tr th {\n",
       "        vertical-align: top;\n",
       "    }\n",
       "\n",
       "    .dataframe thead th {\n",
       "        text-align: right;\n",
       "    }\n",
       "</style>\n",
       "<table border=\"1\" class=\"dataframe\">\n",
       "  <thead>\n",
       "    <tr style=\"text-align: right;\">\n",
       "      <th></th>\n",
       "      <th>Id</th>\n",
       "      <th>MSSubClass</th>\n",
       "      <th>MSZoning</th>\n",
       "      <th>LotFrontage</th>\n",
       "      <th>LotArea</th>\n",
       "      <th>Street</th>\n",
       "      <th>Alley</th>\n",
       "      <th>LotShape</th>\n",
       "      <th>LandContour</th>\n",
       "      <th>Utilities</th>\n",
       "      <th>...</th>\n",
       "      <th>ScreenPorch</th>\n",
       "      <th>PoolArea</th>\n",
       "      <th>PoolQC</th>\n",
       "      <th>Fence</th>\n",
       "      <th>MiscFeature</th>\n",
       "      <th>MiscVal</th>\n",
       "      <th>MoSold</th>\n",
       "      <th>YrSold</th>\n",
       "      <th>SaleType</th>\n",
       "      <th>SaleCondition</th>\n",
       "    </tr>\n",
       "  </thead>\n",
       "  <tbody>\n",
       "    <tr>\n",
       "      <th>0</th>\n",
       "      <td>1461</td>\n",
       "      <td>20</td>\n",
       "      <td>RH</td>\n",
       "      <td>80.0</td>\n",
       "      <td>11622</td>\n",
       "      <td>Pave</td>\n",
       "      <td>NaN</td>\n",
       "      <td>Reg</td>\n",
       "      <td>Lvl</td>\n",
       "      <td>AllPub</td>\n",
       "      <td>...</td>\n",
       "      <td>120</td>\n",
       "      <td>0</td>\n",
       "      <td>NaN</td>\n",
       "      <td>MnPrv</td>\n",
       "      <td>NaN</td>\n",
       "      <td>0</td>\n",
       "      <td>6</td>\n",
       "      <td>2010</td>\n",
       "      <td>WD</td>\n",
       "      <td>Normal</td>\n",
       "    </tr>\n",
       "    <tr>\n",
       "      <th>1</th>\n",
       "      <td>1462</td>\n",
       "      <td>20</td>\n",
       "      <td>RL</td>\n",
       "      <td>81.0</td>\n",
       "      <td>14267</td>\n",
       "      <td>Pave</td>\n",
       "      <td>NaN</td>\n",
       "      <td>IR1</td>\n",
       "      <td>Lvl</td>\n",
       "      <td>AllPub</td>\n",
       "      <td>...</td>\n",
       "      <td>0</td>\n",
       "      <td>0</td>\n",
       "      <td>NaN</td>\n",
       "      <td>NaN</td>\n",
       "      <td>Gar2</td>\n",
       "      <td>12500</td>\n",
       "      <td>6</td>\n",
       "      <td>2010</td>\n",
       "      <td>WD</td>\n",
       "      <td>Normal</td>\n",
       "    </tr>\n",
       "    <tr>\n",
       "      <th>2</th>\n",
       "      <td>1463</td>\n",
       "      <td>60</td>\n",
       "      <td>RL</td>\n",
       "      <td>74.0</td>\n",
       "      <td>13830</td>\n",
       "      <td>Pave</td>\n",
       "      <td>NaN</td>\n",
       "      <td>IR1</td>\n",
       "      <td>Lvl</td>\n",
       "      <td>AllPub</td>\n",
       "      <td>...</td>\n",
       "      <td>0</td>\n",
       "      <td>0</td>\n",
       "      <td>NaN</td>\n",
       "      <td>MnPrv</td>\n",
       "      <td>NaN</td>\n",
       "      <td>0</td>\n",
       "      <td>3</td>\n",
       "      <td>2010</td>\n",
       "      <td>WD</td>\n",
       "      <td>Normal</td>\n",
       "    </tr>\n",
       "    <tr>\n",
       "      <th>3</th>\n",
       "      <td>1464</td>\n",
       "      <td>60</td>\n",
       "      <td>RL</td>\n",
       "      <td>78.0</td>\n",
       "      <td>9978</td>\n",
       "      <td>Pave</td>\n",
       "      <td>NaN</td>\n",
       "      <td>IR1</td>\n",
       "      <td>Lvl</td>\n",
       "      <td>AllPub</td>\n",
       "      <td>...</td>\n",
       "      <td>0</td>\n",
       "      <td>0</td>\n",
       "      <td>NaN</td>\n",
       "      <td>NaN</td>\n",
       "      <td>NaN</td>\n",
       "      <td>0</td>\n",
       "      <td>6</td>\n",
       "      <td>2010</td>\n",
       "      <td>WD</td>\n",
       "      <td>Normal</td>\n",
       "    </tr>\n",
       "    <tr>\n",
       "      <th>4</th>\n",
       "      <td>1465</td>\n",
       "      <td>120</td>\n",
       "      <td>RL</td>\n",
       "      <td>43.0</td>\n",
       "      <td>5005</td>\n",
       "      <td>Pave</td>\n",
       "      <td>NaN</td>\n",
       "      <td>IR1</td>\n",
       "      <td>HLS</td>\n",
       "      <td>AllPub</td>\n",
       "      <td>...</td>\n",
       "      <td>144</td>\n",
       "      <td>0</td>\n",
       "      <td>NaN</td>\n",
       "      <td>NaN</td>\n",
       "      <td>NaN</td>\n",
       "      <td>0</td>\n",
       "      <td>1</td>\n",
       "      <td>2010</td>\n",
       "      <td>WD</td>\n",
       "      <td>Normal</td>\n",
       "    </tr>\n",
       "  </tbody>\n",
       "</table>\n",
       "<p>5 rows × 80 columns</p>\n",
       "</div>"
      ],
      "text/plain": [
       "     Id  MSSubClass MSZoning  LotFrontage  LotArea Street Alley LotShape  \\\n",
       "0  1461          20       RH         80.0    11622   Pave   NaN      Reg   \n",
       "1  1462          20       RL         81.0    14267   Pave   NaN      IR1   \n",
       "2  1463          60       RL         74.0    13830   Pave   NaN      IR1   \n",
       "3  1464          60       RL         78.0     9978   Pave   NaN      IR1   \n",
       "4  1465         120       RL         43.0     5005   Pave   NaN      IR1   \n",
       "\n",
       "  LandContour Utilities  ... ScreenPorch PoolArea PoolQC  Fence MiscFeature  \\\n",
       "0         Lvl    AllPub  ...         120        0    NaN  MnPrv         NaN   \n",
       "1         Lvl    AllPub  ...           0        0    NaN    NaN        Gar2   \n",
       "2         Lvl    AllPub  ...           0        0    NaN  MnPrv         NaN   \n",
       "3         Lvl    AllPub  ...           0        0    NaN    NaN         NaN   \n",
       "4         HLS    AllPub  ...         144        0    NaN    NaN         NaN   \n",
       "\n",
       "  MiscVal MoSold  YrSold  SaleType  SaleCondition  \n",
       "0       0      6    2010        WD         Normal  \n",
       "1   12500      6    2010        WD         Normal  \n",
       "2       0      3    2010        WD         Normal  \n",
       "3       0      6    2010        WD         Normal  \n",
       "4       0      1    2010        WD         Normal  \n",
       "\n",
       "[5 rows x 80 columns]"
      ]
     },
     "execution_count": 15,
     "metadata": {},
     "output_type": "execute_result"
    }
   ],
   "source": [
    "# выполним дамми-кодирование переменной HouseStyle в тестовом наборе\n",
    "#  записываем csv-файл в объект DataFrame\n",
    "path_t = r'C:\\Users\\79181\\n.brykovskaya\\module_2\\4ML\\5ML_project\\files\\test.csv'\n",
    "test = pd.read_csv(path_t)\n",
    "test.head()"
   ]
  },
  {
   "cell_type": "code",
   "execution_count": 16,
   "id": "7310926f",
   "metadata": {},
   "outputs": [
    {
     "data": {
      "text/plain": [
       "HouseStyle\n",
       "1Story    745\n",
       "2Story    427\n",
       "1.5Fin    160\n",
       "SLvl       63\n",
       "SFoyer     46\n",
       "2.5Unf     13\n",
       "1.5Unf      5\n",
       "Name: count, dtype: int64"
      ]
     },
     "execution_count": 16,
     "metadata": {},
     "output_type": "execute_result"
    }
   ],
   "source": [
    "# выводим частоты категорий переменной HouseStyle\n",
    "vc_t = test['HouseStyle'].value_counts()\n",
    "vc_t"
   ]
  },
  {
   "cell_type": "code",
   "execution_count": 17,
   "id": "c77d4189",
   "metadata": {},
   "outputs": [
    {
     "data": {
      "text/plain": [
       "array([[0., 0., 1., ..., 0., 0., 0.],\n",
       "       [0., 0., 1., ..., 0., 0., 0.],\n",
       "       [0., 0., 0., ..., 1., 0., 0.],\n",
       "       ...,\n",
       "       [0., 0., 1., ..., 0., 0., 0.],\n",
       "       [0., 0., 0., ..., 0., 1., 0.],\n",
       "       [0., 0., 0., ..., 1., 0., 0.]])"
      ]
     },
     "execution_count": 17,
     "metadata": {},
     "output_type": "execute_result"
    }
   ],
   "source": [
    "# создаем объект DataFrame с одним столбцом\n",
    "hs_test = test[['HouseStyle']].copy()\n",
    "\n",
    "# выполняем дамми-кодирование переменной\n",
    "# HouseStyle в тестовом наборе\n",
    "hs_test_tranceformed = ohe.fit_transform(hs_test)\n",
    "# смотрим результат \n",
    "hs_test_tranceformed "
   ]
  },
  {
   "cell_type": "markdown",
   "id": "36dbbe3d",
   "metadata": {},
   "source": [
    "По итогам дамми-кодирования должно получиться 7 столбцов, что мы и видим. Убеждаемся, что каждое уникальное значение получило свой столбец (7 уникальных значений дадут 7 столбцов).\n",
    "\n",
    "В тестовом наборе уникальных значений на 1 меньше, чем в обучающем."
   ]
  },
  {
   "cell_type": "code",
   "execution_count": 18,
   "id": "94882091",
   "metadata": {},
   "outputs": [
    {
     "data": {
      "text/plain": [
       "(1459, 7)"
      ]
     },
     "execution_count": 18,
     "metadata": {},
     "output_type": "execute_result"
    }
   ],
   "source": [
    "hs_test_tranceformed.shape"
   ]
  },
  {
   "cell_type": "markdown",
   "id": "c2609855",
   "metadata": {},
   "source": [
    "### ✔ Применение конвейера\n",
    "В библиотеке scikit-learn есть класс Pipeline. который принимает список преобразований и выполняет их последовательно. Кроме того, в него можно поместить модель машинного обучения в качестве конечного класса.\n",
    "\n",
    "Приведем пример простой импутации и дамми-кодирования\n"
   ]
  },
  {
   "cell_type": "code",
   "execution_count": 19,
   "id": "2ce64c1e",
   "metadata": {},
   "outputs": [],
   "source": [
    "# импортируем класс Pipeline\n",
    "from sklearn.pipeline import Pipeline\n",
    "# импортируем класс SimpleImputer\n",
    "from sklearn.impute import SimpleImputer"
   ]
  },
  {
   "cell_type": "markdown",
   "id": "5cfce985",
   "metadata": {},
   "source": [
    "Каждый этап конвейера представляет собой кортеж, состоящий из двух элементов - названия шага и экземпляра класса.  Результат предыдущего этапа будет входными данными для последующего этапа.\n"
   ]
  },
  {
   "cell_type": "code",
   "execution_count": 20,
   "id": "4ffb3c6c",
   "metadata": {},
   "outputs": [],
   "source": [
    "# задаем этап имутации\n",
    "si_step =('si', SimpleImputer(strategy='constant',\n",
    "                             fill_value='MISSING'))\n",
    "# задаем этап дамми кодирования\n",
    "ohe_step = ('ohe', OneHotEncoder(sparse_output=False,\n",
    "                                handle_unknown='ignore'))"
   ]
  },
  {
   "cell_type": "code",
   "execution_count": 21,
   "id": "7d12a2db",
   "metadata": {},
   "outputs": [],
   "source": [
    "# создаем список этапов\n",
    "steps = [si_step, ohe_step]\n",
    "# создаем конвейер, передавая список этапов\n",
    "pipe = Pipeline(steps)"
   ]
  },
  {
   "cell_type": "code",
   "execution_count": 22,
   "id": "67e72ea8",
   "metadata": {},
   "outputs": [],
   "source": [
    "# копируем переменную HouseStyle в обучающем наборе\n",
    "hs_train = train[['HouseStyle']].copy()\n",
    "# заменяем первое значение на пропуск\n",
    "hs_train.iloc[0,0] = np.nan"
   ]
  },
  {
   "cell_type": "markdown",
   "id": "57889d9a",
   "metadata": {},
   "source": [
    "Выполняем импутацию и дамми-кодирование переменной HouseStyle в обучающем наборе с помощью каждого этапа конвейера и убеждаемся, что каждое уникальное значение получило свой столбец (8 уникальных значений плюс 1 новое значение MISSING дадут 9 столбцов)"
   ]
  },
  {
   "cell_type": "code",
   "execution_count": 23,
   "id": "c8662aa2",
   "metadata": {},
   "outputs": [
    {
     "data": {
      "text/plain": [
       "(1460, 9)"
      ]
     },
     "execution_count": 23,
     "metadata": {},
     "output_type": "execute_result"
    }
   ],
   "source": [
    "hs_transformed = pipe.fit_transform(hs_train)\n",
    "hs_transformed.shape"
   ]
  },
  {
   "cell_type": "markdown",
   "id": "878aa16d",
   "metadata": {},
   "source": [
    "Преобразование для тестового набора легко выполняются с помощью соответсвующего этапа конвейера, для этого нужно просто передать тестовый набор в метод `.transform()`"
   ]
  },
  {
   "cell_type": "code",
   "execution_count": 24,
   "id": "841c5d77",
   "metadata": {},
   "outputs": [],
   "source": [
    "# копируем переменную HouseStyle в тестовом наборе\n",
    "hs_test = test[['HouseStyle']].copy()"
   ]
  },
  {
   "cell_type": "markdown",
   "id": "f17b5a3e",
   "metadata": {},
   "source": [
    "Выполняем импутацию и дамми-кодирование переменной HouseStyle в контрольном наборе с помощью каждого этапа конвейера и убеждаемся, что каждое уникальное значение получило свой столбец (7 уникальных значений плюс 1 новое значение MISSING и 1 значение из обучающего набора, которого нет в тестовом дадут 9 столбцов)"
   ]
  },
  {
   "cell_type": "code",
   "execution_count": 25,
   "id": "eb42e081",
   "metadata": {},
   "outputs": [
    {
     "data": {
      "text/plain": [
       "(1459, 9)"
      ]
     },
     "execution_count": 25,
     "metadata": {},
     "output_type": "execute_result"
    }
   ],
   "source": [
    "hs_test_transformed = pipe.transform(hs_test)\n",
    "hs_test_transformed.shape"
   ]
  },
  {
   "cell_type": "markdown",
   "id": "63227bca",
   "metadata": {},
   "source": [
    "Для выполнения преобразования тестового набора нам нужно вызвать метод `.transform()` а не `.fit_transform()` поскольку библиотека scikit-learn уже нашла всю необходимую информацию, которая ей понадобится для преобразования любого другого набора, содержащего те же самые имена столбцов."
   ]
  },
  {
   "cell_type": "markdown",
   "id": "84b3ed20",
   "metadata": {},
   "source": [
    "### ✔ Применение преобразований для нескольких столбцов со строковыми значениями.\n",
    "\n",
    "Для преобразования нескольких столбцов со строковыми значениями также просто. необходимо выбрать нужные столбцы и передать их в тот же самый конвейер."
   ]
  },
  {
   "cell_type": "code",
   "execution_count": 26,
   "id": "80bb3be9",
   "metadata": {},
   "outputs": [
    {
     "data": {
      "text/html": [
       "<div>\n",
       "<style scoped>\n",
       "    .dataframe tbody tr th:only-of-type {\n",
       "        vertical-align: middle;\n",
       "    }\n",
       "\n",
       "    .dataframe tbody tr th {\n",
       "        vertical-align: top;\n",
       "    }\n",
       "\n",
       "    .dataframe thead th {\n",
       "        text-align: right;\n",
       "    }\n",
       "</style>\n",
       "<table border=\"1\" class=\"dataframe\">\n",
       "  <thead>\n",
       "    <tr style=\"text-align: right;\">\n",
       "      <th></th>\n",
       "      <th>RoofMatl</th>\n",
       "      <th>HouseStyle</th>\n",
       "    </tr>\n",
       "  </thead>\n",
       "  <tbody>\n",
       "    <tr>\n",
       "      <th>0</th>\n",
       "      <td>CompShg</td>\n",
       "      <td>2Story</td>\n",
       "    </tr>\n",
       "    <tr>\n",
       "      <th>1</th>\n",
       "      <td>CompShg</td>\n",
       "      <td>1Story</td>\n",
       "    </tr>\n",
       "    <tr>\n",
       "      <th>2</th>\n",
       "      <td>CompShg</td>\n",
       "      <td>2Story</td>\n",
       "    </tr>\n",
       "  </tbody>\n",
       "</table>\n",
       "</div>"
      ],
      "text/plain": [
       "  RoofMatl HouseStyle\n",
       "0  CompShg     2Story\n",
       "1  CompShg     1Story\n",
       "2  CompShg     2Story"
      ]
     },
     "execution_count": 26,
     "metadata": {},
     "output_type": "execute_result"
    }
   ],
   "source": [
    "# создадим список столбцов RoofMatl и HouseStyle со строковыми значениями\n",
    "string_cols = ['RoofMatl', 'HouseStyle']\n",
    "# создаем датафрейм из двух столбцов 'RoofMatl', 'HouseStyle'\n",
    "string_train = train[string_cols]\n",
    "# выводим первые 3 наблюдения\n",
    "string_train.head(3)"
   ]
  },
  {
   "cell_type": "markdown",
   "id": "49b9c97b",
   "metadata": {},
   "source": [
    "### ✔ Обращение к отдельным этапам конвейера\n",
    "С помощью атрибута named_steps можно обратиться к отдельному этапу конвейера по его имени.\n",
    "\n",
    "Обратимся к OneHotEncoder, чтобы вывести названия признаков\n"
   ]
  },
  {
   "cell_type": "code",
   "execution_count": 27,
   "id": "d5cc6ec7",
   "metadata": {},
   "outputs": [
    {
     "data": {
      "text/plain": [
       "array(['x0_1.5Fin', 'x0_1.5Unf', 'x0_1Story', 'x0_2.5Fin', 'x0_2.5Unf',\n",
       "       'x0_2Story', 'x0_MISSING', 'x0_SFoyer', 'x0_SLvl'], dtype=object)"
      ]
     },
     "execution_count": 27,
     "metadata": {},
     "output_type": "execute_result"
    }
   ],
   "source": [
    "# обращение к этапу ohe\n",
    "ohe = pipe.named_steps['ohe']\n",
    "# извлекаем названия признаков\n",
    "ohe.get_feature_names_out()"
   ]
  },
  {
   "cell_type": "markdown",
   "id": "4ebe6f91",
   "metadata": {},
   "source": [
    "### ✔ Использование нового ColumnTransformer для отбора столбцов\n",
    "Класс ColumnTransformer позволяет определить, для каких столбцов нужно выполнить определенные преобразования. Категориальные признаки мы почти всегда преобразовываем иначе, чем количественные.\n",
    "\n",
    "Выполним ту же самую импутацию и дамми-кодирование, что и в предыдущих примерах, но теперь с использованием ColumnTransformer. При этом конвейер остается тем же самым, что и прежде, просто к имени каждого этапа добавим префикс cat"
   ]
  },
  {
   "cell_type": "code",
   "execution_count": 28,
   "id": "c12c3815",
   "metadata": {},
   "outputs": [],
   "source": [
    "# импортируем класс ColumnTransformer\n",
    "from sklearn.compose import ColumnTransformer\n",
    "\n",
    "# задаем этап имутации\n",
    "cat_si_step =('si', SimpleImputer(strategy='constant',\n",
    "                             fill_value='MISSING'))\n",
    "# задаем этап дамми кодирования\n",
    "cat_ohe_step = ('ohe', OneHotEncoder(sparse_output=False,\n",
    "                                handle_unknown='ignore'))\n",
    "# создаем список этапов\n",
    "cat_steps = [cat_si_step, cat_ohe_step]\n",
    "# создаем конвейер, передавая список этапов\n",
    "cat_pipe = Pipeline(cat_steps)\n",
    "# создадим список столбцов RoofMatl и HouseStyle со строковыми значениями\n",
    "cat_cols = ['RoofMatl', 'HouseStyle']\n",
    "# создаем список с трехэлементным кортежем\n",
    "cat_transformers = [('cat', cat_pipe, cat_cols)]\n",
    "# передаем список в  ColumnTransformer\n",
    "ct = ColumnTransformer(transformers=cat_transformers)\n"
   ]
  },
  {
   "cell_type": "markdown",
   "id": "29eada14",
   "metadata": {},
   "source": [
    "#### ✔ Передаем весь объект DataFrame  в  ColumnTransformer\n",
    "Экземпляр класса ColumnTransformer отбирает нужные нам столбцы, поэтому мы можем просто передать весь датафрейм в метод `.fit_transforme()` Нужные столбцы будут выбраны автоматически."
   ]
  },
  {
   "cell_type": "code",
   "execution_count": 29,
   "id": "f88c13dc",
   "metadata": {},
   "outputs": [
    {
     "data": {
      "text/plain": [
       "(1460, 16)"
      ]
     },
     "execution_count": 29,
     "metadata": {},
     "output_type": "execute_result"
    }
   ],
   "source": [
    "# передаем обучающий набор в ColumnTransformer\n",
    "X_cat_transformed= ct.fit_transform(train)\n",
    "# убеждаемся, что преобразования выполнены\n",
    "X_cat_transformed.shape"
   ]
  },
  {
   "cell_type": "code",
   "execution_count": 30,
   "id": "a862a532",
   "metadata": {},
   "outputs": [
    {
     "data": {
      "text/plain": [
       "(1459, 16)"
      ]
     },
     "execution_count": 30,
     "metadata": {},
     "output_type": "execute_result"
    }
   ],
   "source": [
    "# передаем тестовый набор в ColumnTransformer\n",
    "X_cat_transformed_test  = ct.transform(test)\n",
    "# убеждаемся, что преобразования выполнены\n",
    "X_cat_transformed_test.shape"
   ]
  },
  {
   "cell_type": "markdown",
   "id": "3d2950df",
   "metadata": {},
   "source": [
    "#### ✔ Извлечение названий признаков.\n",
    "Все классы, выполняющие преобразования, хранятся в атрибует `named_transeformers_`. После этого извлекаем объект OneHotEncoder, и уже из него можно извлечь имена предикторов"
   ]
  },
  {
   "cell_type": "code",
   "execution_count": 31,
   "id": "f526bb4c",
   "metadata": {},
   "outputs": [
    {
     "data": {
      "text/plain": [
       "array(['x0_ClyTile', 'x0_CompShg', 'x0_Membran', 'x0_Metal', 'x0_Roll',\n",
       "       'x0_Tar&Grv', 'x0_WdShake', 'x0_WdShngl', 'x1_1.5Fin', 'x1_1.5Unf',\n",
       "       'x1_1Story', 'x1_2.5Fin', 'x1_2.5Unf', 'x1_2Story', 'x1_SFoyer',\n",
       "       'x1_SLvl'], dtype=object)"
      ]
     },
     "execution_count": 31,
     "metadata": {},
     "output_type": "execute_result"
    }
   ],
   "source": [
    "# выбираем трансформер\n",
    "pl = ct.named_transformers_['cat']\n",
    "# извлекаем объект OneHotEncoder\n",
    "ohe = pl.named_steps['ohe']\n",
    "# извлекаем имена признаков\n",
    "ohe.get_feature_names_out()"
   ]
  },
  {
   "cell_type": "markdown",
   "id": "0438fb3a",
   "metadata": {},
   "source": [
    "### ✔ Преобразование количественных переменных\n",
    "Количественным переменным могут потребоваться совершеноно другие преобразования. Вместо импутации пропусков константами чаще используется импутация средним значением или медианой. И вместо дамм-кодирования обычно выполняют стандартизацию путем вычитания из исходного значения признака среднего значения и делением полученного результата на стандартное отклонение. Это позволяет улучшать качество регрессионных моделей.\n",
    "\n",
    "### ✔ Работа со всеми количественными признаками\n",
    "Вместо выбора одного или нескольких столбцов вручную, как это делали ранее работая со столбцами, содержащими строковые значения, можно выбрать все количественные переменные. \n",
    "\n",
    "Чтобы это сделать, нужно сначала найти тип каждого признакас помощью атрибута `dtypes`, после чего проверить, имеет ли данный признак тип` object`.\n",
    "\n"
   ]
  },
  {
   "cell_type": "code",
   "execution_count": 32,
   "id": "6242c5a7",
   "metadata": {},
   "outputs": [
    {
     "data": {
      "text/plain": [
       "Id               int64\n",
       "MSSubClass       int64\n",
       "MSZoning        object\n",
       "LotFrontage    float64\n",
       "LotArea          int64\n",
       "dtype: object"
      ]
     },
     "execution_count": 32,
     "metadata": {},
     "output_type": "execute_result"
    }
   ],
   "source": [
    "# смотрим типы первых 5 признаков\n",
    "train.dtypes.head()"
   ]
  },
  {
   "cell_type": "markdown",
   "id": "d90f580d",
   "metadata": {},
   "source": [
    "C помощью атрибута kind выводим тип каждой переменной в виде одной буквы\n"
   ]
  },
  {
   "cell_type": "code",
   "execution_count": 33,
   "id": "7dbddfe0",
   "metadata": {},
   "outputs": [
    {
     "data": {
      "text/plain": [
       "array(['i', 'i', 'O', 'f', 'i'], dtype='<U1')"
      ]
     },
     "execution_count": 33,
     "metadata": {},
     "output_type": "execute_result"
    }
   ],
   "source": [
    "kinds = np.array([dt.kind for dt in train.dtypes])\n",
    "kinds[:5]"
   ]
  },
  {
   "cell_type": "markdown",
   "id": "53e7407a",
   "metadata": {},
   "source": [
    "Предположим, что все количественные предикторы не относятся к типу object. Исходя из этого, мы можем извлечь категориальные признаки"
   ]
  },
  {
   "cell_type": "code",
   "execution_count": 34,
   "id": "bda0fd1b",
   "metadata": {},
   "outputs": [
    {
     "data": {
      "text/plain": [
       "array(['Id', 'MSSubClass', 'LotFrontage', 'LotArea', 'OverallQual'],\n",
       "      dtype=object)"
      ]
     },
     "execution_count": 34,
     "metadata": {},
     "output_type": "execute_result"
    }
   ],
   "source": [
    "# создаем массив из всех признаков\n",
    "all_columns = train.columns.values\n",
    "# создаем массив из количественных признаков\n",
    "is_num = kinds != 'O'\n",
    "# отбираем только количественные признаки\n",
    "num_cols = all_columns[is_num]\n",
    "# выводим первые 5 колич.признаков\n",
    "num_cols[:5]"
   ]
  },
  {
   "cell_type": "code",
   "execution_count": 35,
   "id": "709cd2bd",
   "metadata": {},
   "outputs": [
    {
     "data": {
      "text/plain": [
       "array(['MSZoning', 'Street', 'Alley', 'LotShape', 'LandContour'],\n",
       "      dtype=object)"
      ]
     },
     "execution_count": 35,
     "metadata": {},
     "output_type": "execute_result"
    }
   ],
   "source": [
    "# отбираем только категориальные признаки\n",
    "cat_cols = all_columns[~is_num]\n",
    "# выводим первые 5 категор.признаков\n",
    "cat_cols[:5]"
   ]
  },
  {
   "cell_type": "markdown",
   "id": "043991d3",
   "metadata": {},
   "source": [
    "Раз количественные признаки определены, то мы сможем вновь воспользоваться классом ColumnTransformer"
   ]
  },
  {
   "cell_type": "code",
   "execution_count": 36,
   "id": "f7811ed9",
   "metadata": {
    "scrolled": true
   },
   "outputs": [
    {
     "data": {
      "text/plain": [
       "(1460, 37)"
      ]
     },
     "execution_count": 36,
     "metadata": {},
     "output_type": "execute_result"
    }
   ],
   "source": [
    "# импортируем класс StandartScaler\n",
    "from sklearn.preprocessing import StandardScaler\n",
    "# задаем этап импутации\n",
    "nun_si_step = ('si', SimpleImputer(strategy='median'))\n",
    "# задаем этап стандартизации\n",
    "scaler = StandardScaler()\n",
    "num_ss_step = ('ss', scaler)\n",
    "# задаем список этапов\n",
    "num_steps = [nun_si_step, num_ss_step]\n",
    "# создаем конвейер, передав список этапов\n",
    "num_pipe = Pipeline(num_steps)\n",
    "# создаем список с трехэлементным кортежем\n",
    "num_transformers = [('num', num_pipe, num_cols)]\n",
    "# создаем трансформер, передав список\n",
    "ct = ColumnTransformer(transformers=num_transformers)\n",
    "# выполняем преобразования обучающего набора с помощью трансформера\n",
    "X_num_transformed = ct.fit_transform(train)\n",
    "# убеждаемся, что преобразования выполнены\n",
    "X_num_transformed.shape"
   ]
  },
  {
   "cell_type": "markdown",
   "id": "aa632c71",
   "metadata": {},
   "source": [
    "### ✔ Передаем конвейер с преобразованиями для категориальных признаков и конвейер с преобразованиями для количественных признаков в  ColumnTransformer"
   ]
  },
  {
   "cell_type": "markdown",
   "id": "75dcef60",
   "metadata": {},
   "source": [
    "С помощью ColumnTransformer для каждого типа столбцов можно применить отдельные преобразования. \n",
    "\n",
    "Нам нужно определиться с операциями преобразования для категориальных признаков и операциями преобразования для количественных признаков. \n",
    "\n",
    "После этого создаем отдельный конвейер для категориальных признаков, отдельный конвейер для количественных признаков, затем используем ColumnTransformer для независимого преобразования признаков. \n",
    "\n",
    "Преобразования в обеих конвейерах будут выполняться параллельно, а их результаты будут сконкатенированы.\n",
    "\n",
    "Создаем список трехэлементных кортежей, в котором первый элемент кортежа - название конвейера с преобразованиями для определенного типа признаков"
   ]
  },
  {
   "cell_type": "code",
   "execution_count": 37,
   "id": "913e5c49",
   "metadata": {},
   "outputs": [
    {
     "data": {
      "text/plain": [
       "(1460, 304)"
      ]
     },
     "execution_count": 37,
     "metadata": {},
     "output_type": "execute_result"
    }
   ],
   "source": [
    "transformers =[('cat', cat_pipe, cat_cols),\n",
    "              ('num', num_pipe, num_cols)\n",
    "              ]\n",
    "\n",
    "# передаем список в ColumnTransformer\n",
    "ct = ColumnTransformer(transformers=transformers)\n",
    "# выполняем преобразование для категориальных т колич. признаков\n",
    "X = ct.fit_transform(train)\n",
    "# убежджаемся, что преобразование выполнено\n",
    "X.shape"
   ]
  },
  {
   "cell_type": "markdown",
   "id": "bc732949",
   "metadata": {},
   "source": [
    "### ✔ Машинное обучение\n",
    "Целью всех этапов была подготовка данных для последующего машинного обучения. Мы можем создать итоговый конвейер и добавить в него в качестве последнего этапа модель машинного обучения.\n",
    "\n",
    "Первым этапом этого конвейера будет преобразование данных. описанных выше.\n",
    "\n",
    "В качестве зависимой переменной `y`, как было принято выше, берется переменная `SalePrice`. Здесь мы просто используем метод `.fit()` вместо `.fit_transform()`, поскольку итоговым этапом конвейера будет модель машинного обучения, которая не производит ниаких преобразований.\n"
   ]
  },
  {
   "cell_type": "code",
   "execution_count": 38,
   "id": "e554d855",
   "metadata": {},
   "outputs": [
    {
     "data": {
      "text/html": [
       "<style>#sk-container-id-1 {\n",
       "  /* Definition of color scheme common for light and dark mode */\n",
       "  --sklearn-color-text: #000;\n",
       "  --sklearn-color-text-muted: #666;\n",
       "  --sklearn-color-line: gray;\n",
       "  /* Definition of color scheme for unfitted estimators */\n",
       "  --sklearn-color-unfitted-level-0: #fff5e6;\n",
       "  --sklearn-color-unfitted-level-1: #f6e4d2;\n",
       "  --sklearn-color-unfitted-level-2: #ffe0b3;\n",
       "  --sklearn-color-unfitted-level-3: chocolate;\n",
       "  /* Definition of color scheme for fitted estimators */\n",
       "  --sklearn-color-fitted-level-0: #f0f8ff;\n",
       "  --sklearn-color-fitted-level-1: #d4ebff;\n",
       "  --sklearn-color-fitted-level-2: #b3dbfd;\n",
       "  --sklearn-color-fitted-level-3: cornflowerblue;\n",
       "\n",
       "  /* Specific color for light theme */\n",
       "  --sklearn-color-text-on-default-background: var(--sg-text-color, var(--theme-code-foreground, var(--jp-content-font-color1, black)));\n",
       "  --sklearn-color-background: var(--sg-background-color, var(--theme-background, var(--jp-layout-color0, white)));\n",
       "  --sklearn-color-border-box: var(--sg-text-color, var(--theme-code-foreground, var(--jp-content-font-color1, black)));\n",
       "  --sklearn-color-icon: #696969;\n",
       "\n",
       "  @media (prefers-color-scheme: dark) {\n",
       "    /* Redefinition of color scheme for dark theme */\n",
       "    --sklearn-color-text-on-default-background: var(--sg-text-color, var(--theme-code-foreground, var(--jp-content-font-color1, white)));\n",
       "    --sklearn-color-background: var(--sg-background-color, var(--theme-background, var(--jp-layout-color0, #111)));\n",
       "    --sklearn-color-border-box: var(--sg-text-color, var(--theme-code-foreground, var(--jp-content-font-color1, white)));\n",
       "    --sklearn-color-icon: #878787;\n",
       "  }\n",
       "}\n",
       "\n",
       "#sk-container-id-1 {\n",
       "  color: var(--sklearn-color-text);\n",
       "}\n",
       "\n",
       "#sk-container-id-1 pre {\n",
       "  padding: 0;\n",
       "}\n",
       "\n",
       "#sk-container-id-1 input.sk-hidden--visually {\n",
       "  border: 0;\n",
       "  clip: rect(1px 1px 1px 1px);\n",
       "  clip: rect(1px, 1px, 1px, 1px);\n",
       "  height: 1px;\n",
       "  margin: -1px;\n",
       "  overflow: hidden;\n",
       "  padding: 0;\n",
       "  position: absolute;\n",
       "  width: 1px;\n",
       "}\n",
       "\n",
       "#sk-container-id-1 div.sk-dashed-wrapped {\n",
       "  border: 1px dashed var(--sklearn-color-line);\n",
       "  margin: 0 0.4em 0.5em 0.4em;\n",
       "  box-sizing: border-box;\n",
       "  padding-bottom: 0.4em;\n",
       "  background-color: var(--sklearn-color-background);\n",
       "}\n",
       "\n",
       "#sk-container-id-1 div.sk-container {\n",
       "  /* jupyter's `normalize.less` sets `[hidden] { display: none; }`\n",
       "     but bootstrap.min.css set `[hidden] { display: none !important; }`\n",
       "     so we also need the `!important` here to be able to override the\n",
       "     default hidden behavior on the sphinx rendered scikit-learn.org.\n",
       "     See: https://github.com/scikit-learn/scikit-learn/issues/21755 */\n",
       "  display: inline-block !important;\n",
       "  position: relative;\n",
       "}\n",
       "\n",
       "#sk-container-id-1 div.sk-text-repr-fallback {\n",
       "  display: none;\n",
       "}\n",
       "\n",
       "div.sk-parallel-item,\n",
       "div.sk-serial,\n",
       "div.sk-item {\n",
       "  /* draw centered vertical line to link estimators */\n",
       "  background-image: linear-gradient(var(--sklearn-color-text-on-default-background), var(--sklearn-color-text-on-default-background));\n",
       "  background-size: 2px 100%;\n",
       "  background-repeat: no-repeat;\n",
       "  background-position: center center;\n",
       "}\n",
       "\n",
       "/* Parallel-specific style estimator block */\n",
       "\n",
       "#sk-container-id-1 div.sk-parallel-item::after {\n",
       "  content: \"\";\n",
       "  width: 100%;\n",
       "  border-bottom: 2px solid var(--sklearn-color-text-on-default-background);\n",
       "  flex-grow: 1;\n",
       "}\n",
       "\n",
       "#sk-container-id-1 div.sk-parallel {\n",
       "  display: flex;\n",
       "  align-items: stretch;\n",
       "  justify-content: center;\n",
       "  background-color: var(--sklearn-color-background);\n",
       "  position: relative;\n",
       "}\n",
       "\n",
       "#sk-container-id-1 div.sk-parallel-item {\n",
       "  display: flex;\n",
       "  flex-direction: column;\n",
       "}\n",
       "\n",
       "#sk-container-id-1 div.sk-parallel-item:first-child::after {\n",
       "  align-self: flex-end;\n",
       "  width: 50%;\n",
       "}\n",
       "\n",
       "#sk-container-id-1 div.sk-parallel-item:last-child::after {\n",
       "  align-self: flex-start;\n",
       "  width: 50%;\n",
       "}\n",
       "\n",
       "#sk-container-id-1 div.sk-parallel-item:only-child::after {\n",
       "  width: 0;\n",
       "}\n",
       "\n",
       "/* Serial-specific style estimator block */\n",
       "\n",
       "#sk-container-id-1 div.sk-serial {\n",
       "  display: flex;\n",
       "  flex-direction: column;\n",
       "  align-items: center;\n",
       "  background-color: var(--sklearn-color-background);\n",
       "  padding-right: 1em;\n",
       "  padding-left: 1em;\n",
       "}\n",
       "\n",
       "\n",
       "/* Toggleable style: style used for estimator/Pipeline/ColumnTransformer box that is\n",
       "clickable and can be expanded/collapsed.\n",
       "- Pipeline and ColumnTransformer use this feature and define the default style\n",
       "- Estimators will overwrite some part of the style using the `sk-estimator` class\n",
       "*/\n",
       "\n",
       "/* Pipeline and ColumnTransformer style (default) */\n",
       "\n",
       "#sk-container-id-1 div.sk-toggleable {\n",
       "  /* Default theme specific background. It is overwritten whether we have a\n",
       "  specific estimator or a Pipeline/ColumnTransformer */\n",
       "  background-color: var(--sklearn-color-background);\n",
       "}\n",
       "\n",
       "/* Toggleable label */\n",
       "#sk-container-id-1 label.sk-toggleable__label {\n",
       "  cursor: pointer;\n",
       "  display: flex;\n",
       "  width: 100%;\n",
       "  margin-bottom: 0;\n",
       "  padding: 0.5em;\n",
       "  box-sizing: border-box;\n",
       "  text-align: center;\n",
       "  align-items: start;\n",
       "  justify-content: space-between;\n",
       "  gap: 0.5em;\n",
       "}\n",
       "\n",
       "#sk-container-id-1 label.sk-toggleable__label .caption {\n",
       "  font-size: 0.6rem;\n",
       "  font-weight: lighter;\n",
       "  color: var(--sklearn-color-text-muted);\n",
       "}\n",
       "\n",
       "#sk-container-id-1 label.sk-toggleable__label-arrow:before {\n",
       "  /* Arrow on the left of the label */\n",
       "  content: \"▸\";\n",
       "  float: left;\n",
       "  margin-right: 0.25em;\n",
       "  color: var(--sklearn-color-icon);\n",
       "}\n",
       "\n",
       "#sk-container-id-1 label.sk-toggleable__label-arrow:hover:before {\n",
       "  color: var(--sklearn-color-text);\n",
       "}\n",
       "\n",
       "/* Toggleable content - dropdown */\n",
       "\n",
       "#sk-container-id-1 div.sk-toggleable__content {\n",
       "  max-height: 0;\n",
       "  max-width: 0;\n",
       "  overflow: hidden;\n",
       "  text-align: left;\n",
       "  /* unfitted */\n",
       "  background-color: var(--sklearn-color-unfitted-level-0);\n",
       "}\n",
       "\n",
       "#sk-container-id-1 div.sk-toggleable__content.fitted {\n",
       "  /* fitted */\n",
       "  background-color: var(--sklearn-color-fitted-level-0);\n",
       "}\n",
       "\n",
       "#sk-container-id-1 div.sk-toggleable__content pre {\n",
       "  margin: 0.2em;\n",
       "  border-radius: 0.25em;\n",
       "  color: var(--sklearn-color-text);\n",
       "  /* unfitted */\n",
       "  background-color: var(--sklearn-color-unfitted-level-0);\n",
       "}\n",
       "\n",
       "#sk-container-id-1 div.sk-toggleable__content.fitted pre {\n",
       "  /* unfitted */\n",
       "  background-color: var(--sklearn-color-fitted-level-0);\n",
       "}\n",
       "\n",
       "#sk-container-id-1 input.sk-toggleable__control:checked~div.sk-toggleable__content {\n",
       "  /* Expand drop-down */\n",
       "  max-height: 200px;\n",
       "  max-width: 100%;\n",
       "  overflow: auto;\n",
       "}\n",
       "\n",
       "#sk-container-id-1 input.sk-toggleable__control:checked~label.sk-toggleable__label-arrow:before {\n",
       "  content: \"▾\";\n",
       "}\n",
       "\n",
       "/* Pipeline/ColumnTransformer-specific style */\n",
       "\n",
       "#sk-container-id-1 div.sk-label input.sk-toggleable__control:checked~label.sk-toggleable__label {\n",
       "  color: var(--sklearn-color-text);\n",
       "  background-color: var(--sklearn-color-unfitted-level-2);\n",
       "}\n",
       "\n",
       "#sk-container-id-1 div.sk-label.fitted input.sk-toggleable__control:checked~label.sk-toggleable__label {\n",
       "  background-color: var(--sklearn-color-fitted-level-2);\n",
       "}\n",
       "\n",
       "/* Estimator-specific style */\n",
       "\n",
       "/* Colorize estimator box */\n",
       "#sk-container-id-1 div.sk-estimator input.sk-toggleable__control:checked~label.sk-toggleable__label {\n",
       "  /* unfitted */\n",
       "  background-color: var(--sklearn-color-unfitted-level-2);\n",
       "}\n",
       "\n",
       "#sk-container-id-1 div.sk-estimator.fitted input.sk-toggleable__control:checked~label.sk-toggleable__label {\n",
       "  /* fitted */\n",
       "  background-color: var(--sklearn-color-fitted-level-2);\n",
       "}\n",
       "\n",
       "#sk-container-id-1 div.sk-label label.sk-toggleable__label,\n",
       "#sk-container-id-1 div.sk-label label {\n",
       "  /* The background is the default theme color */\n",
       "  color: var(--sklearn-color-text-on-default-background);\n",
       "}\n",
       "\n",
       "/* On hover, darken the color of the background */\n",
       "#sk-container-id-1 div.sk-label:hover label.sk-toggleable__label {\n",
       "  color: var(--sklearn-color-text);\n",
       "  background-color: var(--sklearn-color-unfitted-level-2);\n",
       "}\n",
       "\n",
       "/* Label box, darken color on hover, fitted */\n",
       "#sk-container-id-1 div.sk-label.fitted:hover label.sk-toggleable__label.fitted {\n",
       "  color: var(--sklearn-color-text);\n",
       "  background-color: var(--sklearn-color-fitted-level-2);\n",
       "}\n",
       "\n",
       "/* Estimator label */\n",
       "\n",
       "#sk-container-id-1 div.sk-label label {\n",
       "  font-family: monospace;\n",
       "  font-weight: bold;\n",
       "  display: inline-block;\n",
       "  line-height: 1.2em;\n",
       "}\n",
       "\n",
       "#sk-container-id-1 div.sk-label-container {\n",
       "  text-align: center;\n",
       "}\n",
       "\n",
       "/* Estimator-specific */\n",
       "#sk-container-id-1 div.sk-estimator {\n",
       "  font-family: monospace;\n",
       "  border: 1px dotted var(--sklearn-color-border-box);\n",
       "  border-radius: 0.25em;\n",
       "  box-sizing: border-box;\n",
       "  margin-bottom: 0.5em;\n",
       "  /* unfitted */\n",
       "  background-color: var(--sklearn-color-unfitted-level-0);\n",
       "}\n",
       "\n",
       "#sk-container-id-1 div.sk-estimator.fitted {\n",
       "  /* fitted */\n",
       "  background-color: var(--sklearn-color-fitted-level-0);\n",
       "}\n",
       "\n",
       "/* on hover */\n",
       "#sk-container-id-1 div.sk-estimator:hover {\n",
       "  /* unfitted */\n",
       "  background-color: var(--sklearn-color-unfitted-level-2);\n",
       "}\n",
       "\n",
       "#sk-container-id-1 div.sk-estimator.fitted:hover {\n",
       "  /* fitted */\n",
       "  background-color: var(--sklearn-color-fitted-level-2);\n",
       "}\n",
       "\n",
       "/* Specification for estimator info (e.g. \"i\" and \"?\") */\n",
       "\n",
       "/* Common style for \"i\" and \"?\" */\n",
       "\n",
       ".sk-estimator-doc-link,\n",
       "a:link.sk-estimator-doc-link,\n",
       "a:visited.sk-estimator-doc-link {\n",
       "  float: right;\n",
       "  font-size: smaller;\n",
       "  line-height: 1em;\n",
       "  font-family: monospace;\n",
       "  background-color: var(--sklearn-color-background);\n",
       "  border-radius: 1em;\n",
       "  height: 1em;\n",
       "  width: 1em;\n",
       "  text-decoration: none !important;\n",
       "  margin-left: 0.5em;\n",
       "  text-align: center;\n",
       "  /* unfitted */\n",
       "  border: var(--sklearn-color-unfitted-level-1) 1pt solid;\n",
       "  color: var(--sklearn-color-unfitted-level-1);\n",
       "}\n",
       "\n",
       ".sk-estimator-doc-link.fitted,\n",
       "a:link.sk-estimator-doc-link.fitted,\n",
       "a:visited.sk-estimator-doc-link.fitted {\n",
       "  /* fitted */\n",
       "  border: var(--sklearn-color-fitted-level-1) 1pt solid;\n",
       "  color: var(--sklearn-color-fitted-level-1);\n",
       "}\n",
       "\n",
       "/* On hover */\n",
       "div.sk-estimator:hover .sk-estimator-doc-link:hover,\n",
       ".sk-estimator-doc-link:hover,\n",
       "div.sk-label-container:hover .sk-estimator-doc-link:hover,\n",
       ".sk-estimator-doc-link:hover {\n",
       "  /* unfitted */\n",
       "  background-color: var(--sklearn-color-unfitted-level-3);\n",
       "  color: var(--sklearn-color-background);\n",
       "  text-decoration: none;\n",
       "}\n",
       "\n",
       "div.sk-estimator.fitted:hover .sk-estimator-doc-link.fitted:hover,\n",
       ".sk-estimator-doc-link.fitted:hover,\n",
       "div.sk-label-container:hover .sk-estimator-doc-link.fitted:hover,\n",
       ".sk-estimator-doc-link.fitted:hover {\n",
       "  /* fitted */\n",
       "  background-color: var(--sklearn-color-fitted-level-3);\n",
       "  color: var(--sklearn-color-background);\n",
       "  text-decoration: none;\n",
       "}\n",
       "\n",
       "/* Span, style for the box shown on hovering the info icon */\n",
       ".sk-estimator-doc-link span {\n",
       "  display: none;\n",
       "  z-index: 9999;\n",
       "  position: relative;\n",
       "  font-weight: normal;\n",
       "  right: .2ex;\n",
       "  padding: .5ex;\n",
       "  margin: .5ex;\n",
       "  width: min-content;\n",
       "  min-width: 20ex;\n",
       "  max-width: 50ex;\n",
       "  color: var(--sklearn-color-text);\n",
       "  box-shadow: 2pt 2pt 4pt #999;\n",
       "  /* unfitted */\n",
       "  background: var(--sklearn-color-unfitted-level-0);\n",
       "  border: .5pt solid var(--sklearn-color-unfitted-level-3);\n",
       "}\n",
       "\n",
       ".sk-estimator-doc-link.fitted span {\n",
       "  /* fitted */\n",
       "  background: var(--sklearn-color-fitted-level-0);\n",
       "  border: var(--sklearn-color-fitted-level-3);\n",
       "}\n",
       "\n",
       ".sk-estimator-doc-link:hover span {\n",
       "  display: block;\n",
       "}\n",
       "\n",
       "/* \"?\"-specific style due to the `<a>` HTML tag */\n",
       "\n",
       "#sk-container-id-1 a.estimator_doc_link {\n",
       "  float: right;\n",
       "  font-size: 1rem;\n",
       "  line-height: 1em;\n",
       "  font-family: monospace;\n",
       "  background-color: var(--sklearn-color-background);\n",
       "  border-radius: 1rem;\n",
       "  height: 1rem;\n",
       "  width: 1rem;\n",
       "  text-decoration: none;\n",
       "  /* unfitted */\n",
       "  color: var(--sklearn-color-unfitted-level-1);\n",
       "  border: var(--sklearn-color-unfitted-level-1) 1pt solid;\n",
       "}\n",
       "\n",
       "#sk-container-id-1 a.estimator_doc_link.fitted {\n",
       "  /* fitted */\n",
       "  border: var(--sklearn-color-fitted-level-1) 1pt solid;\n",
       "  color: var(--sklearn-color-fitted-level-1);\n",
       "}\n",
       "\n",
       "/* On hover */\n",
       "#sk-container-id-1 a.estimator_doc_link:hover {\n",
       "  /* unfitted */\n",
       "  background-color: var(--sklearn-color-unfitted-level-3);\n",
       "  color: var(--sklearn-color-background);\n",
       "  text-decoration: none;\n",
       "}\n",
       "\n",
       "#sk-container-id-1 a.estimator_doc_link.fitted:hover {\n",
       "  /* fitted */\n",
       "  background-color: var(--sklearn-color-fitted-level-3);\n",
       "}\n",
       "</style><div id=\"sk-container-id-1\" class=\"sk-top-container\"><div class=\"sk-text-repr-fallback\"><pre>Pipeline(steps=[(&#x27;transform&#x27;,\n",
       "                 ColumnTransformer(transformers=[(&#x27;cat&#x27;,\n",
       "                                                  Pipeline(steps=[(&#x27;si&#x27;,\n",
       "                                                                   SimpleImputer(fill_value=&#x27;MISSING&#x27;,\n",
       "                                                                                 strategy=&#x27;constant&#x27;)),\n",
       "                                                                  (&#x27;ohe&#x27;,\n",
       "                                                                   OneHotEncoder(handle_unknown=&#x27;ignore&#x27;,\n",
       "                                                                                 sparse_output=False))]),\n",
       "                                                  array([&#x27;MSZoning&#x27;, &#x27;Street&#x27;, &#x27;Alley&#x27;, &#x27;LotShape&#x27;, &#x27;LandContour&#x27;,\n",
       "       &#x27;Utilities&#x27;, &#x27;LotConfig&#x27;, &#x27;LandSlope&#x27;, &#x27;Neighborhood&#x27;,\n",
       "       &#x27;Condition1&#x27;, &#x27;Condition...\n",
       "       &#x27;BsmtFinSF1&#x27;, &#x27;BsmtFinSF2&#x27;, &#x27;BsmtUnfSF&#x27;, &#x27;TotalBsmtSF&#x27;, &#x27;1stFlrSF&#x27;,\n",
       "       &#x27;2ndFlrSF&#x27;, &#x27;LowQualFinSF&#x27;, &#x27;GrLivArea&#x27;, &#x27;BsmtFullBath&#x27;,\n",
       "       &#x27;BsmtHalfBath&#x27;, &#x27;FullBath&#x27;, &#x27;HalfBath&#x27;, &#x27;BedroomAbvGr&#x27;,\n",
       "       &#x27;KitchenAbvGr&#x27;, &#x27;TotRmsAbvGrd&#x27;, &#x27;Fireplaces&#x27;, &#x27;GarageYrBlt&#x27;,\n",
       "       &#x27;GarageCars&#x27;, &#x27;GarageArea&#x27;, &#x27;WoodDeckSF&#x27;, &#x27;OpenPorchSF&#x27;,\n",
       "       &#x27;EnclosedPorch&#x27;, &#x27;3SsnPorch&#x27;, &#x27;ScreenPorch&#x27;, &#x27;PoolArea&#x27;, &#x27;MiscVal&#x27;,\n",
       "       &#x27;MoSold&#x27;, &#x27;YrSold&#x27;], dtype=object))])),\n",
       "                (&#x27;ridge&#x27;, Ridge())])</pre><b>In a Jupyter environment, please rerun this cell to show the HTML representation or trust the notebook. <br />On GitHub, the HTML representation is unable to render, please try loading this page with nbviewer.org.</b></div><div class=\"sk-container\" hidden><div class=\"sk-item sk-dashed-wrapped\"><div class=\"sk-label-container\"><div class=\"sk-label fitted sk-toggleable\"><input class=\"sk-toggleable__control sk-hidden--visually\" id=\"sk-estimator-id-1\" type=\"checkbox\" ><label for=\"sk-estimator-id-1\" class=\"sk-toggleable__label fitted sk-toggleable__label-arrow\"><div><div>Pipeline</div></div><div><a class=\"sk-estimator-doc-link fitted\" rel=\"noreferrer\" target=\"_blank\" href=\"https://scikit-learn.org/1.6/modules/generated/sklearn.pipeline.Pipeline.html\">?<span>Documentation for Pipeline</span></a><span class=\"sk-estimator-doc-link fitted\">i<span>Fitted</span></span></div></label><div class=\"sk-toggleable__content fitted\"><pre>Pipeline(steps=[(&#x27;transform&#x27;,\n",
       "                 ColumnTransformer(transformers=[(&#x27;cat&#x27;,\n",
       "                                                  Pipeline(steps=[(&#x27;si&#x27;,\n",
       "                                                                   SimpleImputer(fill_value=&#x27;MISSING&#x27;,\n",
       "                                                                                 strategy=&#x27;constant&#x27;)),\n",
       "                                                                  (&#x27;ohe&#x27;,\n",
       "                                                                   OneHotEncoder(handle_unknown=&#x27;ignore&#x27;,\n",
       "                                                                                 sparse_output=False))]),\n",
       "                                                  array([&#x27;MSZoning&#x27;, &#x27;Street&#x27;, &#x27;Alley&#x27;, &#x27;LotShape&#x27;, &#x27;LandContour&#x27;,\n",
       "       &#x27;Utilities&#x27;, &#x27;LotConfig&#x27;, &#x27;LandSlope&#x27;, &#x27;Neighborhood&#x27;,\n",
       "       &#x27;Condition1&#x27;, &#x27;Condition...\n",
       "       &#x27;BsmtFinSF1&#x27;, &#x27;BsmtFinSF2&#x27;, &#x27;BsmtUnfSF&#x27;, &#x27;TotalBsmtSF&#x27;, &#x27;1stFlrSF&#x27;,\n",
       "       &#x27;2ndFlrSF&#x27;, &#x27;LowQualFinSF&#x27;, &#x27;GrLivArea&#x27;, &#x27;BsmtFullBath&#x27;,\n",
       "       &#x27;BsmtHalfBath&#x27;, &#x27;FullBath&#x27;, &#x27;HalfBath&#x27;, &#x27;BedroomAbvGr&#x27;,\n",
       "       &#x27;KitchenAbvGr&#x27;, &#x27;TotRmsAbvGrd&#x27;, &#x27;Fireplaces&#x27;, &#x27;GarageYrBlt&#x27;,\n",
       "       &#x27;GarageCars&#x27;, &#x27;GarageArea&#x27;, &#x27;WoodDeckSF&#x27;, &#x27;OpenPorchSF&#x27;,\n",
       "       &#x27;EnclosedPorch&#x27;, &#x27;3SsnPorch&#x27;, &#x27;ScreenPorch&#x27;, &#x27;PoolArea&#x27;, &#x27;MiscVal&#x27;,\n",
       "       &#x27;MoSold&#x27;, &#x27;YrSold&#x27;], dtype=object))])),\n",
       "                (&#x27;ridge&#x27;, Ridge())])</pre></div> </div></div><div class=\"sk-serial\"><div class=\"sk-item sk-dashed-wrapped\"><div class=\"sk-label-container\"><div class=\"sk-label fitted sk-toggleable\"><input class=\"sk-toggleable__control sk-hidden--visually\" id=\"sk-estimator-id-2\" type=\"checkbox\" ><label for=\"sk-estimator-id-2\" class=\"sk-toggleable__label fitted sk-toggleable__label-arrow\"><div><div>transform: ColumnTransformer</div></div><div><a class=\"sk-estimator-doc-link fitted\" rel=\"noreferrer\" target=\"_blank\" href=\"https://scikit-learn.org/1.6/modules/generated/sklearn.compose.ColumnTransformer.html\">?<span>Documentation for transform: ColumnTransformer</span></a></div></label><div class=\"sk-toggleable__content fitted\"><pre>ColumnTransformer(transformers=[(&#x27;cat&#x27;,\n",
       "                                 Pipeline(steps=[(&#x27;si&#x27;,\n",
       "                                                  SimpleImputer(fill_value=&#x27;MISSING&#x27;,\n",
       "                                                                strategy=&#x27;constant&#x27;)),\n",
       "                                                 (&#x27;ohe&#x27;,\n",
       "                                                  OneHotEncoder(handle_unknown=&#x27;ignore&#x27;,\n",
       "                                                                sparse_output=False))]),\n",
       "                                 array([&#x27;MSZoning&#x27;, &#x27;Street&#x27;, &#x27;Alley&#x27;, &#x27;LotShape&#x27;, &#x27;LandContour&#x27;,\n",
       "       &#x27;Utilities&#x27;, &#x27;LotConfig&#x27;, &#x27;LandSlope&#x27;, &#x27;Neighborhood&#x27;,\n",
       "       &#x27;Condition1&#x27;, &#x27;Condition2&#x27;, &#x27;BldgType&#x27;, &#x27;HouseStyle&#x27;, &#x27;R...\n",
       "       &#x27;BsmtFinSF1&#x27;, &#x27;BsmtFinSF2&#x27;, &#x27;BsmtUnfSF&#x27;, &#x27;TotalBsmtSF&#x27;, &#x27;1stFlrSF&#x27;,\n",
       "       &#x27;2ndFlrSF&#x27;, &#x27;LowQualFinSF&#x27;, &#x27;GrLivArea&#x27;, &#x27;BsmtFullBath&#x27;,\n",
       "       &#x27;BsmtHalfBath&#x27;, &#x27;FullBath&#x27;, &#x27;HalfBath&#x27;, &#x27;BedroomAbvGr&#x27;,\n",
       "       &#x27;KitchenAbvGr&#x27;, &#x27;TotRmsAbvGrd&#x27;, &#x27;Fireplaces&#x27;, &#x27;GarageYrBlt&#x27;,\n",
       "       &#x27;GarageCars&#x27;, &#x27;GarageArea&#x27;, &#x27;WoodDeckSF&#x27;, &#x27;OpenPorchSF&#x27;,\n",
       "       &#x27;EnclosedPorch&#x27;, &#x27;3SsnPorch&#x27;, &#x27;ScreenPorch&#x27;, &#x27;PoolArea&#x27;, &#x27;MiscVal&#x27;,\n",
       "       &#x27;MoSold&#x27;, &#x27;YrSold&#x27;], dtype=object))])</pre></div> </div></div><div class=\"sk-parallel\"><div class=\"sk-parallel-item\"><div class=\"sk-item\"><div class=\"sk-label-container\"><div class=\"sk-label fitted sk-toggleable\"><input class=\"sk-toggleable__control sk-hidden--visually\" id=\"sk-estimator-id-3\" type=\"checkbox\" ><label for=\"sk-estimator-id-3\" class=\"sk-toggleable__label fitted sk-toggleable__label-arrow\"><div><div>cat</div></div></label><div class=\"sk-toggleable__content fitted\"><pre>[&#x27;MSZoning&#x27; &#x27;Street&#x27; &#x27;Alley&#x27; &#x27;LotShape&#x27; &#x27;LandContour&#x27; &#x27;Utilities&#x27;\n",
       " &#x27;LotConfig&#x27; &#x27;LandSlope&#x27; &#x27;Neighborhood&#x27; &#x27;Condition1&#x27; &#x27;Condition2&#x27;\n",
       " &#x27;BldgType&#x27; &#x27;HouseStyle&#x27; &#x27;RoofStyle&#x27; &#x27;RoofMatl&#x27; &#x27;Exterior1st&#x27;\n",
       " &#x27;Exterior2nd&#x27; &#x27;MasVnrType&#x27; &#x27;ExterQual&#x27; &#x27;ExterCond&#x27; &#x27;Foundation&#x27;\n",
       " &#x27;BsmtQual&#x27; &#x27;BsmtCond&#x27; &#x27;BsmtExposure&#x27; &#x27;BsmtFinType1&#x27; &#x27;BsmtFinType2&#x27;\n",
       " &#x27;Heating&#x27; &#x27;HeatingQC&#x27; &#x27;CentralAir&#x27; &#x27;Electrical&#x27; &#x27;KitchenQual&#x27;\n",
       " &#x27;Functional&#x27; &#x27;FireplaceQu&#x27; &#x27;GarageType&#x27; &#x27;GarageFinish&#x27; &#x27;GarageQual&#x27;\n",
       " &#x27;GarageCond&#x27; &#x27;PavedDrive&#x27; &#x27;PoolQC&#x27; &#x27;Fence&#x27; &#x27;MiscFeature&#x27; &#x27;SaleType&#x27;\n",
       " &#x27;SaleCondition&#x27;]</pre></div> </div></div><div class=\"sk-serial\"><div class=\"sk-item\"><div class=\"sk-serial\"><div class=\"sk-item\"><div class=\"sk-estimator fitted sk-toggleable\"><input class=\"sk-toggleable__control sk-hidden--visually\" id=\"sk-estimator-id-4\" type=\"checkbox\" ><label for=\"sk-estimator-id-4\" class=\"sk-toggleable__label fitted sk-toggleable__label-arrow\"><div><div>SimpleImputer</div></div><div><a class=\"sk-estimator-doc-link fitted\" rel=\"noreferrer\" target=\"_blank\" href=\"https://scikit-learn.org/1.6/modules/generated/sklearn.impute.SimpleImputer.html\">?<span>Documentation for SimpleImputer</span></a></div></label><div class=\"sk-toggleable__content fitted\"><pre>SimpleImputer(fill_value=&#x27;MISSING&#x27;, strategy=&#x27;constant&#x27;)</pre></div> </div></div><div class=\"sk-item\"><div class=\"sk-estimator fitted sk-toggleable\"><input class=\"sk-toggleable__control sk-hidden--visually\" id=\"sk-estimator-id-5\" type=\"checkbox\" ><label for=\"sk-estimator-id-5\" class=\"sk-toggleable__label fitted sk-toggleable__label-arrow\"><div><div>OneHotEncoder</div></div><div><a class=\"sk-estimator-doc-link fitted\" rel=\"noreferrer\" target=\"_blank\" href=\"https://scikit-learn.org/1.6/modules/generated/sklearn.preprocessing.OneHotEncoder.html\">?<span>Documentation for OneHotEncoder</span></a></div></label><div class=\"sk-toggleable__content fitted\"><pre>OneHotEncoder(handle_unknown=&#x27;ignore&#x27;, sparse_output=False)</pre></div> </div></div></div></div></div></div></div><div class=\"sk-parallel-item\"><div class=\"sk-item\"><div class=\"sk-label-container\"><div class=\"sk-label fitted sk-toggleable\"><input class=\"sk-toggleable__control sk-hidden--visually\" id=\"sk-estimator-id-6\" type=\"checkbox\" ><label for=\"sk-estimator-id-6\" class=\"sk-toggleable__label fitted sk-toggleable__label-arrow\"><div><div>num</div></div></label><div class=\"sk-toggleable__content fitted\"><pre>[&#x27;Id&#x27; &#x27;MSSubClass&#x27; &#x27;LotFrontage&#x27; &#x27;LotArea&#x27; &#x27;OverallQual&#x27; &#x27;OverallCond&#x27;\n",
       " &#x27;YearBuilt&#x27; &#x27;YearRemodAdd&#x27; &#x27;MasVnrArea&#x27; &#x27;BsmtFinSF1&#x27; &#x27;BsmtFinSF2&#x27;\n",
       " &#x27;BsmtUnfSF&#x27; &#x27;TotalBsmtSF&#x27; &#x27;1stFlrSF&#x27; &#x27;2ndFlrSF&#x27; &#x27;LowQualFinSF&#x27;\n",
       " &#x27;GrLivArea&#x27; &#x27;BsmtFullBath&#x27; &#x27;BsmtHalfBath&#x27; &#x27;FullBath&#x27; &#x27;HalfBath&#x27;\n",
       " &#x27;BedroomAbvGr&#x27; &#x27;KitchenAbvGr&#x27; &#x27;TotRmsAbvGrd&#x27; &#x27;Fireplaces&#x27; &#x27;GarageYrBlt&#x27;\n",
       " &#x27;GarageCars&#x27; &#x27;GarageArea&#x27; &#x27;WoodDeckSF&#x27; &#x27;OpenPorchSF&#x27; &#x27;EnclosedPorch&#x27;\n",
       " &#x27;3SsnPorch&#x27; &#x27;ScreenPorch&#x27; &#x27;PoolArea&#x27; &#x27;MiscVal&#x27; &#x27;MoSold&#x27; &#x27;YrSold&#x27;]</pre></div> </div></div><div class=\"sk-serial\"><div class=\"sk-item\"><div class=\"sk-serial\"><div class=\"sk-item\"><div class=\"sk-estimator fitted sk-toggleable\"><input class=\"sk-toggleable__control sk-hidden--visually\" id=\"sk-estimator-id-7\" type=\"checkbox\" ><label for=\"sk-estimator-id-7\" class=\"sk-toggleable__label fitted sk-toggleable__label-arrow\"><div><div>SimpleImputer</div></div><div><a class=\"sk-estimator-doc-link fitted\" rel=\"noreferrer\" target=\"_blank\" href=\"https://scikit-learn.org/1.6/modules/generated/sklearn.impute.SimpleImputer.html\">?<span>Documentation for SimpleImputer</span></a></div></label><div class=\"sk-toggleable__content fitted\"><pre>SimpleImputer(strategy=&#x27;median&#x27;)</pre></div> </div></div><div class=\"sk-item\"><div class=\"sk-estimator fitted sk-toggleable\"><input class=\"sk-toggleable__control sk-hidden--visually\" id=\"sk-estimator-id-8\" type=\"checkbox\" ><label for=\"sk-estimator-id-8\" class=\"sk-toggleable__label fitted sk-toggleable__label-arrow\"><div><div>StandardScaler</div></div><div><a class=\"sk-estimator-doc-link fitted\" rel=\"noreferrer\" target=\"_blank\" href=\"https://scikit-learn.org/1.6/modules/generated/sklearn.preprocessing.StandardScaler.html\">?<span>Documentation for StandardScaler</span></a></div></label><div class=\"sk-toggleable__content fitted\"><pre>StandardScaler()</pre></div> </div></div></div></div></div></div></div></div></div><div class=\"sk-item\"><div class=\"sk-estimator fitted sk-toggleable\"><input class=\"sk-toggleable__control sk-hidden--visually\" id=\"sk-estimator-id-9\" type=\"checkbox\" ><label for=\"sk-estimator-id-9\" class=\"sk-toggleable__label fitted sk-toggleable__label-arrow\"><div><div>Ridge</div></div><div><a class=\"sk-estimator-doc-link fitted\" rel=\"noreferrer\" target=\"_blank\" href=\"https://scikit-learn.org/1.6/modules/generated/sklearn.linear_model.Ridge.html\">?<span>Documentation for Ridge</span></a></div></label><div class=\"sk-toggleable__content fitted\"><pre>Ridge()</pre></div> </div></div></div></div></div></div>"
      ],
      "text/plain": [
       "Pipeline(steps=[('transform',\n",
       "                 ColumnTransformer(transformers=[('cat',\n",
       "                                                  Pipeline(steps=[('si',\n",
       "                                                                   SimpleImputer(fill_value='MISSING',\n",
       "                                                                                 strategy='constant')),\n",
       "                                                                  ('ohe',\n",
       "                                                                   OneHotEncoder(handle_unknown='ignore',\n",
       "                                                                                 sparse_output=False))]),\n",
       "                                                  array(['MSZoning', 'Street', 'Alley', 'LotShape', 'LandContour',\n",
       "       'Utilities', 'LotConfig', 'LandSlope', 'Neighborhood',\n",
       "       'Condition1', 'Condition...\n",
       "       'BsmtFinSF1', 'BsmtFinSF2', 'BsmtUnfSF', 'TotalBsmtSF', '1stFlrSF',\n",
       "       '2ndFlrSF', 'LowQualFinSF', 'GrLivArea', 'BsmtFullBath',\n",
       "       'BsmtHalfBath', 'FullBath', 'HalfBath', 'BedroomAbvGr',\n",
       "       'KitchenAbvGr', 'TotRmsAbvGrd', 'Fireplaces', 'GarageYrBlt',\n",
       "       'GarageCars', 'GarageArea', 'WoodDeckSF', 'OpenPorchSF',\n",
       "       'EnclosedPorch', '3SsnPorch', 'ScreenPorch', 'PoolArea', 'MiscVal',\n",
       "       'MoSold', 'YrSold'], dtype=object))])),\n",
       "                ('ridge', Ridge())])"
      ]
     },
     "execution_count": 38,
     "metadata": {},
     "output_type": "execute_result"
    }
   ],
   "source": [
    "# импортируем класс Ridge\n",
    "from sklearn.linear_model import Ridge\n",
    "# добавляем в конвейер новый этап - модель машинного обучения\n",
    "# модель гребневой регрессии\n",
    "ml_pipe = Pipeline([('transform', ct), ('ridge', Ridge())])\n",
    "# выполняем преобразования и обучаем модель гребневой регрессии\n",
    "ml_pipe.fit(train, y)"
   ]
  },
  {
   "cell_type": "markdown",
   "id": "8f6870d9",
   "metadata": {},
   "source": [
    "Оценить качество модели можно, например, с помощью метода `.score()`, возвращающего R-квадрат"
   ]
  },
  {
   "cell_type": "code",
   "execution_count": 39,
   "id": "7c2a9bd6",
   "metadata": {},
   "outputs": [
    {
     "data": {
      "text/plain": [
       "0.9220446277437464"
      ]
     },
     "execution_count": 39,
     "metadata": {},
     "output_type": "execute_result"
    }
   ],
   "source": [
    "# оцениваем качество модели\n",
    "ml_pipe.score(train, y)"
   ]
  },
  {
   "cell_type": "markdown",
   "id": "d8c08081",
   "metadata": {},
   "source": [
    "### ✔ Перекрестная проверка.\n",
    "Разумеется, оценка модели на обучающем наборе данных бесполезна. Чтобы лучше понять, как модель поведет себя на неизвестных ей данных, нужно провести k-блочную перекрестную проверку. Для производимости результатов нужно задать значение random_state"
   ]
  },
  {
   "cell_type": "code",
   "execution_count": 40,
   "id": "f1e99512",
   "metadata": {},
   "outputs": [
    {
     "data": {
      "text/plain": [
       "0.8135802110436661"
      ]
     },
     "execution_count": 40,
     "metadata": {},
     "output_type": "execute_result"
    }
   ],
   "source": [
    "# импортируем класс KFold функцию cross_val_score()\n",
    "from sklearn.model_selection import KFold, cross_val_score\n",
    "# создадим экземпляр класса KFold\n",
    "kf = KFold(n_splits=5, shuffle=True, random_state=123)\n",
    "# выполняем перекрестную проверку, конвейер размещен внутри цикла перекрестной проверки\n",
    "cross_val_score(ml_pipe, train, y, cv=kf).mean()"
   ]
  },
  {
   "cell_type": "markdown",
   "id": "9ec47824",
   "metadata": {},
   "source": [
    "### ✔ Отбор наилучших значений гиперпараметров с помощью решетчатого поиска\n",
    "Решетчатый поиск в библиотеке scikit-learn требует передачи словаря, ключами которого будут названия гиперпараметров, а значениями - списки значений этих гиперпараметров.\n",
    "\n",
    "При работе с конвейером мы должны взять имя этапа с двумя символами нижнего подчеркивания на концк и после этого указать имя гиперпараметра. Если мы работаем с многоуровневым конвейером, как в примере ниже, то тогда двойное нижнее подчеркивание должно разделять имена всех уровней (transform__num__si__strategy, здесь мы работаем с уровнями transform, num и si), пока не будет достигнуто название гиперпараметра экземпляра класса (в данном случае название гиперпараметра strategy, объект si, экземпляр класса SimpleImputer), по значениям которого должен быть осуществлен поиск (в данном случае, как можно увидеть ниже, поиск должен быть осуществлен по значениям 'mean' и 'median')"
   ]
  },
  {
   "cell_type": "code",
   "execution_count": 41,
   "id": "14a82302",
   "metadata": {},
   "outputs": [
    {
     "data": {
      "text/plain": [
       "{'ridge__alpha': 10, 'transform__num__si__strategy': 'median'}"
      ]
     },
     "execution_count": 41,
     "metadata": {},
     "output_type": "execute_result"
    }
   ],
   "source": [
    "# импортируем класс GridSearchCV\n",
    "from sklearn.model_selection import GridSearchCV\n",
    "# задаем сетку гиперпараметров\n",
    "param_grid = {\n",
    "    'transform__num__si__strategy': ['mean', 'median'],\n",
    "    'ridge__alpha': [.001, 0.1, 1.0, 5, 10, 50, 100, 1000]\n",
    "}\n",
    "\n",
    "# передаем конвейер в объект GridSearchCV\n",
    "gs = GridSearchCV(ml_pipe, param_grid, cv=kf, return_train_score=True)\n",
    "# выполняем решетчатый поиск\n",
    "gs.fit(train, y)\n",
    "# смотрим наилучшие значения гиперпараметров\n",
    "gs.best_params_"
   ]
  },
  {
   "cell_type": "code",
   "execution_count": 42,
   "id": "d2803460",
   "metadata": {},
   "outputs": [
    {
     "data": {
      "text/plain": [
       "0.8191174047000169"
      ]
     },
     "execution_count": 42,
     "metadata": {},
     "output_type": "execute_result"
    }
   ],
   "source": [
    "# смотрим наилучшее значение R-квадрат\n",
    "gs.best_score_"
   ]
  },
  {
   "cell_type": "markdown",
   "id": "e55dfbd3",
   "metadata": {},
   "source": [
    "### ✔ Представление результатов решетчатого поиска в виде датафрейма pandas\n",
    "Результаты решетчатого поиска хранятся в атрибуте `cv_results_`. Он представляет собой словарь, а значит, его можно представить в виде объекта DataFrame для удобства чтения\n"
   ]
  },
  {
   "cell_type": "code",
   "execution_count": 43,
   "id": "67a8a40c",
   "metadata": {},
   "outputs": [
    {
     "data": {
      "text/html": [
       "<div>\n",
       "<style scoped>\n",
       "    .dataframe tbody tr th:only-of-type {\n",
       "        vertical-align: middle;\n",
       "    }\n",
       "\n",
       "    .dataframe tbody tr th {\n",
       "        vertical-align: top;\n",
       "    }\n",
       "\n",
       "    .dataframe thead th {\n",
       "        text-align: right;\n",
       "    }\n",
       "</style>\n",
       "<table border=\"1\" class=\"dataframe\">\n",
       "  <thead>\n",
       "    <tr style=\"text-align: right;\">\n",
       "      <th></th>\n",
       "      <th>mean_fit_time</th>\n",
       "      <th>std_fit_time</th>\n",
       "      <th>mean_score_time</th>\n",
       "      <th>std_score_time</th>\n",
       "      <th>param_ridge__alpha</th>\n",
       "      <th>param_transform__num__si__strategy</th>\n",
       "      <th>params</th>\n",
       "      <th>split0_test_score</th>\n",
       "      <th>split1_test_score</th>\n",
       "      <th>split2_test_score</th>\n",
       "      <th>...</th>\n",
       "      <th>mean_test_score</th>\n",
       "      <th>std_test_score</th>\n",
       "      <th>rank_test_score</th>\n",
       "      <th>split0_train_score</th>\n",
       "      <th>split1_train_score</th>\n",
       "      <th>split2_train_score</th>\n",
       "      <th>split3_train_score</th>\n",
       "      <th>split4_train_score</th>\n",
       "      <th>mean_train_score</th>\n",
       "      <th>std_train_score</th>\n",
       "    </tr>\n",
       "  </thead>\n",
       "  <tbody>\n",
       "    <tr>\n",
       "      <th>0</th>\n",
       "      <td>0.054004</td>\n",
       "      <td>0.001898</td>\n",
       "      <td>0.019803</td>\n",
       "      <td>0.000748</td>\n",
       "      <td>0.001</td>\n",
       "      <td>mean</td>\n",
       "      <td>{'ridge__alpha': 0.001, 'transform__num__si__s...</td>\n",
       "      <td>0.898238</td>\n",
       "      <td>0.023654</td>\n",
       "      <td>0.775710</td>\n",
       "      <td>...</td>\n",
       "      <td>0.649027</td>\n",
       "      <td>0.323896</td>\n",
       "      <td>16</td>\n",
       "      <td>0.935221</td>\n",
       "      <td>0.945615</td>\n",
       "      <td>0.945853</td>\n",
       "      <td>0.938883</td>\n",
       "      <td>0.933089</td>\n",
       "      <td>0.939732</td>\n",
       "      <td>0.005240</td>\n",
       "    </tr>\n",
       "    <tr>\n",
       "      <th>1</th>\n",
       "      <td>0.056003</td>\n",
       "      <td>0.001675</td>\n",
       "      <td>0.019199</td>\n",
       "      <td>0.000749</td>\n",
       "      <td>0.001</td>\n",
       "      <td>median</td>\n",
       "      <td>{'ridge__alpha': 0.001, 'transform__num__si__s...</td>\n",
       "      <td>0.898343</td>\n",
       "      <td>0.023932</td>\n",
       "      <td>0.775815</td>\n",
       "      <td>...</td>\n",
       "      <td>0.649122</td>\n",
       "      <td>0.323821</td>\n",
       "      <td>15</td>\n",
       "      <td>0.935215</td>\n",
       "      <td>0.945617</td>\n",
       "      <td>0.945866</td>\n",
       "      <td>0.938902</td>\n",
       "      <td>0.933146</td>\n",
       "      <td>0.939749</td>\n",
       "      <td>0.005229</td>\n",
       "    </tr>\n",
       "    <tr>\n",
       "      <th>2</th>\n",
       "      <td>0.057801</td>\n",
       "      <td>0.002788</td>\n",
       "      <td>0.020799</td>\n",
       "      <td>0.000980</td>\n",
       "      <td>0.100</td>\n",
       "      <td>mean</td>\n",
       "      <td>{'ridge__alpha': 0.1, 'transform__num__si__str...</td>\n",
       "      <td>0.897427</td>\n",
       "      <td>0.779122</td>\n",
       "      <td>0.800158</td>\n",
       "      <td>...</td>\n",
       "      <td>0.803011</td>\n",
       "      <td>0.087572</td>\n",
       "      <td>12</td>\n",
       "      <td>0.934177</td>\n",
       "      <td>0.942729</td>\n",
       "      <td>0.944076</td>\n",
       "      <td>0.937618</td>\n",
       "      <td>0.932917</td>\n",
       "      <td>0.938303</td>\n",
       "      <td>0.004459</td>\n",
       "    </tr>\n",
       "    <tr>\n",
       "      <th>3</th>\n",
       "      <td>0.055602</td>\n",
       "      <td>0.000800</td>\n",
       "      <td>0.019397</td>\n",
       "      <td>0.000485</td>\n",
       "      <td>0.100</td>\n",
       "      <td>median</td>\n",
       "      <td>{'ridge__alpha': 0.1, 'transform__num__si__str...</td>\n",
       "      <td>0.897528</td>\n",
       "      <td>0.779363</td>\n",
       "      <td>0.800283</td>\n",
       "      <td>...</td>\n",
       "      <td>0.803135</td>\n",
       "      <td>0.087563</td>\n",
       "      <td>11</td>\n",
       "      <td>0.934170</td>\n",
       "      <td>0.942731</td>\n",
       "      <td>0.944089</td>\n",
       "      <td>0.937636</td>\n",
       "      <td>0.932974</td>\n",
       "      <td>0.938320</td>\n",
       "      <td>0.004450</td>\n",
       "    </tr>\n",
       "    <tr>\n",
       "      <th>4</th>\n",
       "      <td>0.052806</td>\n",
       "      <td>0.001939</td>\n",
       "      <td>0.019796</td>\n",
       "      <td>0.000750</td>\n",
       "      <td>1.000</td>\n",
       "      <td>mean</td>\n",
       "      <td>{'ridge__alpha': 1.0, 'transform__num__si__str...</td>\n",
       "      <td>0.892205</td>\n",
       "      <td>0.809303</td>\n",
       "      <td>0.822060</td>\n",
       "      <td>...</td>\n",
       "      <td>0.813494</td>\n",
       "      <td>0.079651</td>\n",
       "      <td>8</td>\n",
       "      <td>0.922729</td>\n",
       "      <td>0.931674</td>\n",
       "      <td>0.928383</td>\n",
       "      <td>0.925246</td>\n",
       "      <td>0.929364</td>\n",
       "      <td>0.927479</td>\n",
       "      <td>0.003147</td>\n",
       "    </tr>\n",
       "    <tr>\n",
       "      <th>5</th>\n",
       "      <td>0.052404</td>\n",
       "      <td>0.002724</td>\n",
       "      <td>0.019195</td>\n",
       "      <td>0.000402</td>\n",
       "      <td>1.000</td>\n",
       "      <td>median</td>\n",
       "      <td>{'ridge__alpha': 1.0, 'transform__num__si__str...</td>\n",
       "      <td>0.892255</td>\n",
       "      <td>0.809387</td>\n",
       "      <td>0.822202</td>\n",
       "      <td>...</td>\n",
       "      <td>0.813580</td>\n",
       "      <td>0.079648</td>\n",
       "      <td>7</td>\n",
       "      <td>0.922720</td>\n",
       "      <td>0.931680</td>\n",
       "      <td>0.928386</td>\n",
       "      <td>0.925256</td>\n",
       "      <td>0.929416</td>\n",
       "      <td>0.927492</td>\n",
       "      <td>0.003156</td>\n",
       "    </tr>\n",
       "    <tr>\n",
       "      <th>6</th>\n",
       "      <td>0.049402</td>\n",
       "      <td>0.000490</td>\n",
       "      <td>0.018599</td>\n",
       "      <td>0.000488</td>\n",
       "      <td>5.000</td>\n",
       "      <td>mean</td>\n",
       "      <td>{'ridge__alpha': 5, 'transform__num__si__strat...</td>\n",
       "      <td>0.890080</td>\n",
       "      <td>0.820475</td>\n",
       "      <td>0.820297</td>\n",
       "      <td>...</td>\n",
       "      <td>0.817483</td>\n",
       "      <td>0.071797</td>\n",
       "      <td>4</td>\n",
       "      <td>0.906931</td>\n",
       "      <td>0.916927</td>\n",
       "      <td>0.912648</td>\n",
       "      <td>0.909260</td>\n",
       "      <td>0.920303</td>\n",
       "      <td>0.913214</td>\n",
       "      <td>0.004888</td>\n",
       "    </tr>\n",
       "    <tr>\n",
       "      <th>7</th>\n",
       "      <td>0.051207</td>\n",
       "      <td>0.000749</td>\n",
       "      <td>0.018994</td>\n",
       "      <td>0.000002</td>\n",
       "      <td>5.000</td>\n",
       "      <td>median</td>\n",
       "      <td>{'ridge__alpha': 5, 'transform__num__si__strat...</td>\n",
       "      <td>0.890110</td>\n",
       "      <td>0.820468</td>\n",
       "      <td>0.820432</td>\n",
       "      <td>...</td>\n",
       "      <td>0.817530</td>\n",
       "      <td>0.071819</td>\n",
       "      <td>3</td>\n",
       "      <td>0.906927</td>\n",
       "      <td>0.916943</td>\n",
       "      <td>0.912645</td>\n",
       "      <td>0.909265</td>\n",
       "      <td>0.920346</td>\n",
       "      <td>0.913225</td>\n",
       "      <td>0.004903</td>\n",
       "    </tr>\n",
       "    <tr>\n",
       "      <th>8</th>\n",
       "      <td>0.048603</td>\n",
       "      <td>0.000490</td>\n",
       "      <td>0.018797</td>\n",
       "      <td>0.000400</td>\n",
       "      <td>10.000</td>\n",
       "      <td>mean</td>\n",
       "      <td>{'ridge__alpha': 10, 'transform__num__si__stra...</td>\n",
       "      <td>0.890602</td>\n",
       "      <td>0.824404</td>\n",
       "      <td>0.819722</td>\n",
       "      <td>...</td>\n",
       "      <td>0.819080</td>\n",
       "      <td>0.070268</td>\n",
       "      <td>2</td>\n",
       "      <td>0.899408</td>\n",
       "      <td>0.909891</td>\n",
       "      <td>0.906001</td>\n",
       "      <td>0.901843</td>\n",
       "      <td>0.915029</td>\n",
       "      <td>0.906434</td>\n",
       "      <td>0.005594</td>\n",
       "    </tr>\n",
       "    <tr>\n",
       "      <th>9</th>\n",
       "      <td>0.051799</td>\n",
       "      <td>0.001165</td>\n",
       "      <td>0.019201</td>\n",
       "      <td>0.000979</td>\n",
       "      <td>10.000</td>\n",
       "      <td>median</td>\n",
       "      <td>{'ridge__alpha': 10, 'transform__num__si__stra...</td>\n",
       "      <td>0.890652</td>\n",
       "      <td>0.824369</td>\n",
       "      <td>0.819853</td>\n",
       "      <td>...</td>\n",
       "      <td>0.819117</td>\n",
       "      <td>0.070311</td>\n",
       "      <td>1</td>\n",
       "      <td>0.899404</td>\n",
       "      <td>0.909909</td>\n",
       "      <td>0.905997</td>\n",
       "      <td>0.901847</td>\n",
       "      <td>0.915072</td>\n",
       "      <td>0.906446</td>\n",
       "      <td>0.005610</td>\n",
       "    </tr>\n",
       "    <tr>\n",
       "      <th>10</th>\n",
       "      <td>0.049002</td>\n",
       "      <td>0.000633</td>\n",
       "      <td>0.018597</td>\n",
       "      <td>0.000490</td>\n",
       "      <td>50.000</td>\n",
       "      <td>mean</td>\n",
       "      <td>{'ridge__alpha': 50, 'transform__num__si__stra...</td>\n",
       "      <td>0.888694</td>\n",
       "      <td>0.829234</td>\n",
       "      <td>0.812120</td>\n",
       "      <td>...</td>\n",
       "      <td>0.816890</td>\n",
       "      <td>0.071354</td>\n",
       "      <td>6</td>\n",
       "      <td>0.877254</td>\n",
       "      <td>0.889145</td>\n",
       "      <td>0.886338</td>\n",
       "      <td>0.880332</td>\n",
       "      <td>0.899356</td>\n",
       "      <td>0.886485</td>\n",
       "      <td>0.007692</td>\n",
       "    </tr>\n",
       "    <tr>\n",
       "      <th>11</th>\n",
       "      <td>0.051802</td>\n",
       "      <td>0.000749</td>\n",
       "      <td>0.018999</td>\n",
       "      <td>0.000636</td>\n",
       "      <td>50.000</td>\n",
       "      <td>median</td>\n",
       "      <td>{'ridge__alpha': 50, 'transform__num__si__stra...</td>\n",
       "      <td>0.888834</td>\n",
       "      <td>0.829165</td>\n",
       "      <td>0.812254</td>\n",
       "      <td>...</td>\n",
       "      <td>0.816916</td>\n",
       "      <td>0.071466</td>\n",
       "      <td>5</td>\n",
       "      <td>0.877235</td>\n",
       "      <td>0.889165</td>\n",
       "      <td>0.886336</td>\n",
       "      <td>0.880324</td>\n",
       "      <td>0.899417</td>\n",
       "      <td>0.886495</td>\n",
       "      <td>0.007720</td>\n",
       "    </tr>\n",
       "    <tr>\n",
       "      <th>12</th>\n",
       "      <td>0.049203</td>\n",
       "      <td>0.000399</td>\n",
       "      <td>0.018399</td>\n",
       "      <td>0.000490</td>\n",
       "      <td>100.000</td>\n",
       "      <td>mean</td>\n",
       "      <td>{'ridge__alpha': 100, 'transform__num__si__str...</td>\n",
       "      <td>0.883325</td>\n",
       "      <td>0.828598</td>\n",
       "      <td>0.805356</td>\n",
       "      <td>...</td>\n",
       "      <td>0.813137</td>\n",
       "      <td>0.070856</td>\n",
       "      <td>10</td>\n",
       "      <td>0.864642</td>\n",
       "      <td>0.877050</td>\n",
       "      <td>0.875013</td>\n",
       "      <td>0.867960</td>\n",
       "      <td>0.890625</td>\n",
       "      <td>0.875058</td>\n",
       "      <td>0.009002</td>\n",
       "    </tr>\n",
       "    <tr>\n",
       "      <th>13</th>\n",
       "      <td>0.051206</td>\n",
       "      <td>0.000981</td>\n",
       "      <td>0.018396</td>\n",
       "      <td>0.000489</td>\n",
       "      <td>100.000</td>\n",
       "      <td>median</td>\n",
       "      <td>{'ridge__alpha': 100, 'transform__num__si__str...</td>\n",
       "      <td>0.883495</td>\n",
       "      <td>0.828540</td>\n",
       "      <td>0.805498</td>\n",
       "      <td>...</td>\n",
       "      <td>0.813156</td>\n",
       "      <td>0.070998</td>\n",
       "      <td>9</td>\n",
       "      <td>0.864610</td>\n",
       "      <td>0.877068</td>\n",
       "      <td>0.875008</td>\n",
       "      <td>0.867943</td>\n",
       "      <td>0.890698</td>\n",
       "      <td>0.875065</td>\n",
       "      <td>0.009038</td>\n",
       "    </tr>\n",
       "    <tr>\n",
       "      <th>14</th>\n",
       "      <td>0.050200</td>\n",
       "      <td>0.000748</td>\n",
       "      <td>0.017998</td>\n",
       "      <td>0.000001</td>\n",
       "      <td>1000.000</td>\n",
       "      <td>mean</td>\n",
       "      <td>{'ridge__alpha': 1000, 'transform__num__si__st...</td>\n",
       "      <td>0.827450</td>\n",
       "      <td>0.802851</td>\n",
       "      <td>0.770636</td>\n",
       "      <td>...</td>\n",
       "      <td>0.786956</td>\n",
       "      <td>0.044000</td>\n",
       "      <td>14</td>\n",
       "      <td>0.804778</td>\n",
       "      <td>0.815634</td>\n",
       "      <td>0.816339</td>\n",
       "      <td>0.806780</td>\n",
       "      <td>0.837687</td>\n",
       "      <td>0.816244</td>\n",
       "      <td>0.011672</td>\n",
       "    </tr>\n",
       "    <tr>\n",
       "      <th>15</th>\n",
       "      <td>0.054404</td>\n",
       "      <td>0.006798</td>\n",
       "      <td>0.019396</td>\n",
       "      <td>0.001355</td>\n",
       "      <td>1000.000</td>\n",
       "      <td>median</td>\n",
       "      <td>{'ridge__alpha': 1000, 'transform__num__si__st...</td>\n",
       "      <td>0.827613</td>\n",
       "      <td>0.802927</td>\n",
       "      <td>0.770780</td>\n",
       "      <td>...</td>\n",
       "      <td>0.786957</td>\n",
       "      <td>0.044185</td>\n",
       "      <td>13</td>\n",
       "      <td>0.804718</td>\n",
       "      <td>0.815628</td>\n",
       "      <td>0.816316</td>\n",
       "      <td>0.806772</td>\n",
       "      <td>0.837795</td>\n",
       "      <td>0.816246</td>\n",
       "      <td>0.011725</td>\n",
       "    </tr>\n",
       "  </tbody>\n",
       "</table>\n",
       "<p>16 rows × 22 columns</p>\n",
       "</div>"
      ],
      "text/plain": [
       "    mean_fit_time  std_fit_time  mean_score_time  std_score_time  \\\n",
       "0        0.054004      0.001898         0.019803        0.000748   \n",
       "1        0.056003      0.001675         0.019199        0.000749   \n",
       "2        0.057801      0.002788         0.020799        0.000980   \n",
       "3        0.055602      0.000800         0.019397        0.000485   \n",
       "4        0.052806      0.001939         0.019796        0.000750   \n",
       "5        0.052404      0.002724         0.019195        0.000402   \n",
       "6        0.049402      0.000490         0.018599        0.000488   \n",
       "7        0.051207      0.000749         0.018994        0.000002   \n",
       "8        0.048603      0.000490         0.018797        0.000400   \n",
       "9        0.051799      0.001165         0.019201        0.000979   \n",
       "10       0.049002      0.000633         0.018597        0.000490   \n",
       "11       0.051802      0.000749         0.018999        0.000636   \n",
       "12       0.049203      0.000399         0.018399        0.000490   \n",
       "13       0.051206      0.000981         0.018396        0.000489   \n",
       "14       0.050200      0.000748         0.017998        0.000001   \n",
       "15       0.054404      0.006798         0.019396        0.001355   \n",
       "\n",
       "    param_ridge__alpha param_transform__num__si__strategy  \\\n",
       "0                0.001                               mean   \n",
       "1                0.001                             median   \n",
       "2                0.100                               mean   \n",
       "3                0.100                             median   \n",
       "4                1.000                               mean   \n",
       "5                1.000                             median   \n",
       "6                5.000                               mean   \n",
       "7                5.000                             median   \n",
       "8               10.000                               mean   \n",
       "9               10.000                             median   \n",
       "10              50.000                               mean   \n",
       "11              50.000                             median   \n",
       "12             100.000                               mean   \n",
       "13             100.000                             median   \n",
       "14            1000.000                               mean   \n",
       "15            1000.000                             median   \n",
       "\n",
       "                                               params  split0_test_score  \\\n",
       "0   {'ridge__alpha': 0.001, 'transform__num__si__s...           0.898238   \n",
       "1   {'ridge__alpha': 0.001, 'transform__num__si__s...           0.898343   \n",
       "2   {'ridge__alpha': 0.1, 'transform__num__si__str...           0.897427   \n",
       "3   {'ridge__alpha': 0.1, 'transform__num__si__str...           0.897528   \n",
       "4   {'ridge__alpha': 1.0, 'transform__num__si__str...           0.892205   \n",
       "5   {'ridge__alpha': 1.0, 'transform__num__si__str...           0.892255   \n",
       "6   {'ridge__alpha': 5, 'transform__num__si__strat...           0.890080   \n",
       "7   {'ridge__alpha': 5, 'transform__num__si__strat...           0.890110   \n",
       "8   {'ridge__alpha': 10, 'transform__num__si__stra...           0.890602   \n",
       "9   {'ridge__alpha': 10, 'transform__num__si__stra...           0.890652   \n",
       "10  {'ridge__alpha': 50, 'transform__num__si__stra...           0.888694   \n",
       "11  {'ridge__alpha': 50, 'transform__num__si__stra...           0.888834   \n",
       "12  {'ridge__alpha': 100, 'transform__num__si__str...           0.883325   \n",
       "13  {'ridge__alpha': 100, 'transform__num__si__str...           0.883495   \n",
       "14  {'ridge__alpha': 1000, 'transform__num__si__st...           0.827450   \n",
       "15  {'ridge__alpha': 1000, 'transform__num__si__st...           0.827613   \n",
       "\n",
       "    split1_test_score  split2_test_score  ...  mean_test_score  \\\n",
       "0            0.023654           0.775710  ...         0.649027   \n",
       "1            0.023932           0.775815  ...         0.649122   \n",
       "2            0.779122           0.800158  ...         0.803011   \n",
       "3            0.779363           0.800283  ...         0.803135   \n",
       "4            0.809303           0.822060  ...         0.813494   \n",
       "5            0.809387           0.822202  ...         0.813580   \n",
       "6            0.820475           0.820297  ...         0.817483   \n",
       "7            0.820468           0.820432  ...         0.817530   \n",
       "8            0.824404           0.819722  ...         0.819080   \n",
       "9            0.824369           0.819853  ...         0.819117   \n",
       "10           0.829234           0.812120  ...         0.816890   \n",
       "11           0.829165           0.812254  ...         0.816916   \n",
       "12           0.828598           0.805356  ...         0.813137   \n",
       "13           0.828540           0.805498  ...         0.813156   \n",
       "14           0.802851           0.770636  ...         0.786956   \n",
       "15           0.802927           0.770780  ...         0.786957   \n",
       "\n",
       "    std_test_score  rank_test_score  split0_train_score  split1_train_score  \\\n",
       "0         0.323896               16            0.935221            0.945615   \n",
       "1         0.323821               15            0.935215            0.945617   \n",
       "2         0.087572               12            0.934177            0.942729   \n",
       "3         0.087563               11            0.934170            0.942731   \n",
       "4         0.079651                8            0.922729            0.931674   \n",
       "5         0.079648                7            0.922720            0.931680   \n",
       "6         0.071797                4            0.906931            0.916927   \n",
       "7         0.071819                3            0.906927            0.916943   \n",
       "8         0.070268                2            0.899408            0.909891   \n",
       "9         0.070311                1            0.899404            0.909909   \n",
       "10        0.071354                6            0.877254            0.889145   \n",
       "11        0.071466                5            0.877235            0.889165   \n",
       "12        0.070856               10            0.864642            0.877050   \n",
       "13        0.070998                9            0.864610            0.877068   \n",
       "14        0.044000               14            0.804778            0.815634   \n",
       "15        0.044185               13            0.804718            0.815628   \n",
       "\n",
       "    split2_train_score  split3_train_score  split4_train_score  \\\n",
       "0             0.945853            0.938883            0.933089   \n",
       "1             0.945866            0.938902            0.933146   \n",
       "2             0.944076            0.937618            0.932917   \n",
       "3             0.944089            0.937636            0.932974   \n",
       "4             0.928383            0.925246            0.929364   \n",
       "5             0.928386            0.925256            0.929416   \n",
       "6             0.912648            0.909260            0.920303   \n",
       "7             0.912645            0.909265            0.920346   \n",
       "8             0.906001            0.901843            0.915029   \n",
       "9             0.905997            0.901847            0.915072   \n",
       "10            0.886338            0.880332            0.899356   \n",
       "11            0.886336            0.880324            0.899417   \n",
       "12            0.875013            0.867960            0.890625   \n",
       "13            0.875008            0.867943            0.890698   \n",
       "14            0.816339            0.806780            0.837687   \n",
       "15            0.816316            0.806772            0.837795   \n",
       "\n",
       "    mean_train_score  std_train_score  \n",
       "0           0.939732         0.005240  \n",
       "1           0.939749         0.005229  \n",
       "2           0.938303         0.004459  \n",
       "3           0.938320         0.004450  \n",
       "4           0.927479         0.003147  \n",
       "5           0.927492         0.003156  \n",
       "6           0.913214         0.004888  \n",
       "7           0.913225         0.004903  \n",
       "8           0.906434         0.005594  \n",
       "9           0.906446         0.005610  \n",
       "10          0.886485         0.007692  \n",
       "11          0.886495         0.007720  \n",
       "12          0.875058         0.009002  \n",
       "13          0.875065         0.009038  \n",
       "14          0.816244         0.011672  \n",
       "15          0.816246         0.011725  \n",
       "\n",
       "[16 rows x 22 columns]"
      ]
     },
     "execution_count": 43,
     "metadata": {},
     "output_type": "execute_result"
    }
   ],
   "source": [
    "# представляем результаты решетчатого поиска в виде DataFrame \n",
    "pd.DataFrame(gs.cv_results_)"
   ]
  },
  {
   "cell_type": "code",
   "execution_count": null,
   "id": "2af5781c",
   "metadata": {},
   "outputs": [],
   "source": []
  }
 ],
 "metadata": {
  "kernelspec": {
   "display_name": "Python 3 (ipykernel)",
   "language": "python",
   "name": "python3"
  },
  "language_info": {
   "codemirror_mode": {
    "name": "ipython",
    "version": 3
   },
   "file_extension": ".py",
   "mimetype": "text/x-python",
   "name": "python",
   "nbconvert_exporter": "python",
   "pygments_lexer": "ipython3",
   "version": "3.12.3"
  }
 },
 "nbformat": 4,
 "nbformat_minor": 5
}
