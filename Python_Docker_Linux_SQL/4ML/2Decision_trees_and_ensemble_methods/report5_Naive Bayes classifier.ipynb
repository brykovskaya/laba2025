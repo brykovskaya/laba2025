{
 "cells": [
  {
   "cell_type": "markdown",
   "id": "19c46369",
   "metadata": {},
   "source": [
    "# 🤖 Деревья решений и ансамблевые методы 🤖\n",
    "\n",
    "## 👨🏻‍💻 Практика 5 -  Наивный Байесовский классификатор\n",
    "\n"
   ]
  },
  {
   "cell_type": "code",
   "execution_count": 4,
   "id": "5441000a",
   "metadata": {},
   "outputs": [],
   "source": [
    "# убираем warnings\n",
    "def warn(*args, **kwargs):\n",
    "    pass\n",
    "import warnings\n",
    "warnings.warn = warn"
   ]
  },
  {
   "cell_type": "code",
   "execution_count": 1,
   "id": "52d884bb",
   "metadata": {},
   "outputs": [],
   "source": [
    "import pandas as pd\n",
    "from sklearn.model_selection import train_test_split\n",
    "from sklearn.feature_extraction.text import TfidfVectorizer\n",
    "from sklearn.naive_bayes import MultinomialNB\n",
    "from sklearn.metrics import accuracy_score, classification_report"
   ]
  },
  {
   "cell_type": "code",
   "execution_count": 5,
   "id": "73deeb6c",
   "metadata": {},
   "outputs": [
    {
     "name": "stdout",
     "output_type": "stream",
     "text": [
      "Accuracy: 0.5000\n",
      "\n",
      "Classification Report:\n",
      "              precision    recall  f1-score   support\n",
      "\n",
      "    negative       0.50      1.00      0.67         1\n",
      "    positive       0.00      0.00      0.00         1\n",
      "\n",
      "    accuracy                           0.50         2\n",
      "   macro avg       0.25      0.50      0.33         2\n",
      "weighted avg       0.25      0.50      0.33         2\n",
      "\n"
     ]
    }
   ],
   "source": [
    "# Пример данных (отзывы о фильмах)\n",
    "\n",
    "data = {\n",
    "    'text': [\n",
    "        \"This movie was amazing! I loved it.\",\n",
    "        \"A complete waste of time. So boring.\",\n",
    "        \"Excellent acting and a gripping plot.\",\n",
    "        \"I fell asleep halfway through.\",\n",
    "        \"Highly recommended! A must-see.\",\n",
    "        \"This is the worst movie I have ever seen.\"\n",
    "    ],\n",
    "    'sentiment': [\n",
    "        'positive',\n",
    "        'negative',\n",
    "        'positive',\n",
    "        'negative',\n",
    "        'positive',\n",
    "        'negative'\n",
    "    ]\n",
    "}\n",
    "\n",
    "df = pd.DataFrame(data)\n",
    "\n",
    "# 1. Разделение на обучающую и тестовую выборки\n",
    "X_train, X_test, y_train, y_test = train_test_split(\n",
    "    df['text'], df['sentiment'], test_size=0.2, random_state=42\n",
    ")\n",
    "\n",
    "# 2. Векторизация текста (TF-IDF)\n",
    "vectorizer = TfidfVectorizer()\n",
    "X_train_vec = vectorizer.fit_transform(X_train)\n",
    "X_test_vec = vectorizer.transform(X_test)\n",
    "\n",
    "# 3. Создание и обучение модели Наивного Байесовского классификатора\n",
    "nb_classifier = MultinomialNB()\n",
    "nb_classifier.fit(X_train_vec, y_train)\n",
    "\n",
    "# 4. Предсказание на тестовой выборке\n",
    "y_pred = nb_classifier.predict(X_test_vec)\n",
    "\n",
    "# 5. Оценка качества модели\n",
    "print(f\"Accuracy: {accuracy_score(y_test, y_pred):.4f}\")\n",
    "print(\"\\nClassification Report:\")\n",
    "print(classification_report(y_test, y_pred))"
   ]
  },
  {
   "cell_type": "markdown",
   "id": "34b5500e",
   "metadata": {},
   "source": [
    "Пояснение:\n",
    "\n",
    "Данные: Создаем DataFrame с примерами отзывов о фильмах и их сентиментом (положительный/отрицательный).\n",
    "Разделение данных: Делим данные на обучающую и тестовую выборки.\n",
    "Векторизация:\n",
    "    - Используем TfidfVectorizer для преобразования текстовых отзывов в числовые векторы TF-IDF.\n",
    "    - Обучаем vectorizer на тренировочных данных и применяем его к тестовым.\n",
    "\n",
    "Модель:\n",
    "    - Создаем объект MultinomialNB (Наивный Байесовский классификатор для множественных классов).\n",
    "    - Обучаем модель на векторах признаков тренировочных данных и соответствующих метках классов.\n",
    "\n",
    "Предсказание: Получаем предсказания модели на тестовых данных.\n",
    "    \n",
    "Оценка: Выводим метрики качества модели:\n",
    "    - accuracy_score - доля правильных ответов.\n",
    "    - classification_report - подробный отчет о precision, recall, f1-score для каждого класса.\n",
    "\n",
    "Результат:\n",
    "\n",
    "Код выведет значения метрик, демонстрируя работу Наивного Байесовского классификатора для задачи анализа тональности текста. "
   ]
  },
  {
   "cell_type": "code",
   "execution_count": null,
   "id": "f0abab81",
   "metadata": {},
   "outputs": [],
   "source": []
  }
 ],
 "metadata": {
  "kernelspec": {
   "display_name": "Python 3 (ipykernel)",
   "language": "python",
   "name": "python3"
  },
  "language_info": {
   "codemirror_mode": {
    "name": "ipython",
    "version": 3
   },
   "file_extension": ".py",
   "mimetype": "text/x-python",
   "name": "python",
   "nbconvert_exporter": "python",
   "pygments_lexer": "ipython3",
   "version": "3.12.3"
  }
 },
 "nbformat": 4,
 "nbformat_minor": 5
}
