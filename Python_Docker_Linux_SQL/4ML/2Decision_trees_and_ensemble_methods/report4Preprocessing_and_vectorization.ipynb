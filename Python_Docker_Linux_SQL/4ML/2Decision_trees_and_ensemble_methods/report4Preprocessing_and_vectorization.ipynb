{
 "cells": [
  {
   "cell_type": "markdown",
   "id": "2d280ea1",
   "metadata": {},
   "source": [
    "# 🤖 Деревья решений и ансамблевые методы 🤖\n",
    "\n",
    "## 👨🏻‍💻 Практика 4 - предобработки и векторизации \n",
    "\n"
   ]
  },
  {
   "cell_type": "code",
   "execution_count": 15,
   "id": "cb96ada4",
   "metadata": {},
   "outputs": [],
   "source": [
    "# убираем warnings\n",
    "def warn(*args, **kwargs):\n",
    "    pass\n",
    "import warnings\n",
    "warnings.warn = warn"
   ]
  },
  {
   "cell_type": "code",
   "execution_count": 16,
   "id": "5b355015",
   "metadata": {},
   "outputs": [
    {
     "name": "stdout",
     "output_type": "stream",
     "text": [
      "showing info https://raw.githubusercontent.com/nltk/nltk_data/gh-pages/index.xml\n"
     ]
    },
    {
     "data": {
      "text/plain": [
       "True"
      ]
     },
     "execution_count": 16,
     "metadata": {},
     "output_type": "execute_result"
    }
   ],
   "source": [
    "import nltk\n",
    "nltk.download()"
   ]
  },
  {
   "cell_type": "code",
   "execution_count": 17,
   "id": "a742270a",
   "metadata": {},
   "outputs": [
    {
     "name": "stderr",
     "output_type": "stream",
     "text": [
      "[nltk_data] Downloading package punkt_tab to\n",
      "[nltk_data]     C:\\Users\\79181\\AppData\\Roaming\\nltk_data...\n",
      "[nltk_data]   Package punkt_tab is already up-to-date!\n"
     ]
    },
    {
     "data": {
      "text/plain": [
       "True"
      ]
     },
     "execution_count": 17,
     "metadata": {},
     "output_type": "execute_result"
    }
   ],
   "source": [
    "import nltk\n",
    "nltk.download('punkt_tab')"
   ]
  },
  {
   "cell_type": "code",
   "execution_count": 18,
   "id": "9271c439",
   "metadata": {},
   "outputs": [
    {
     "name": "stderr",
     "output_type": "stream",
     "text": [
      "[nltk_data] Downloading package stopwords to\n",
      "[nltk_data]     C:\\Users\\79181\\AppData\\Roaming\\nltk_data...\n",
      "[nltk_data]   Package stopwords is already up-to-date!\n"
     ]
    },
    {
     "data": {
      "text/plain": [
       "True"
      ]
     },
     "execution_count": 18,
     "metadata": {},
     "output_type": "execute_result"
    }
   ],
   "source": [
    "import nltk\n",
    "nltk.download('stopwords')"
   ]
  },
  {
   "cell_type": "code",
   "execution_count": 19,
   "id": "6cface37",
   "metadata": {},
   "outputs": [],
   "source": [
    "from nltk.tokenize import word_tokenize\n",
    "from nltk.stem import PorterStemmer\n",
    "from nltk.corpus import stopwords\n",
    "from sklearn.feature_extraction.text import TfidfVectorizer"
   ]
  },
  {
   "cell_type": "code",
   "execution_count": 20,
   "id": "a9942051",
   "metadata": {},
   "outputs": [
    {
     "name": "stdout",
     "output_type": "stream",
     "text": [
      "Токенизированные слова: ['this', 'is', 'an', 'example', 'of', 'text', 'preprocessing', 'for', 'machine', 'learning', '.']\n",
      "После стемминга: ['thi', 'is', 'an', 'exampl', 'of', 'text', 'preprocess', 'for', 'machin', 'learn', '.']\n",
      "После удаления стоп-слов: ['thi', 'exampl', 'text', 'preprocess', 'machin', 'learn', '.']\n",
      "\n",
      "TF-IDF матрица:\n",
      "[[0.40824829 0.40824829 0.40824829 0.40824829 0.40824829 0.40824829]]\n",
      "\n",
      "Особенности (слова) в матрице TF-IDF:\n",
      "['exampl' 'learn' 'machin' 'preprocess' 'text' 'thi']\n"
     ]
    }
   ],
   "source": [
    "# Исходный текст\n",
    "text = \"This is an example of text preprocessing for machine learning.\"\n",
    "\n",
    "# Токенизация\n",
    "tokens = word_tokenize(text.lower())\n",
    "print(\"Токенизированные слова:\", tokens)\n",
    "\n",
    "# Стемминг\n",
    "stemmer = PorterStemmer()\n",
    "stemmed_tokens = [stemmer.stem(token) for token in tokens]\n",
    "print(\"После стемминга:\", stemmed_tokens)\n",
    "\n",
    "# Удаление стоп-слов\n",
    "stop_words = set(stopwords.words('english'))\n",
    "filtered_tokens = [token for token in stemmed_tokens if token not in stop_words]\n",
    "print(\"После удаления стоп-слов:\", filtered_tokens)\n",
    "\n",
    "# Векторизация (TF-IDF)\n",
    "vectorizer = TfidfVectorizer()\n",
    "vector = vectorizer.fit_transform([\" \".join(filtered_tokens)])\n",
    "\n",
    "# Печать результата векторизации (матрица TF-IDF)\n",
    "print(\"\\nTF-IDF матрица:\")\n",
    "print(vector.toarray())\n",
    "print(\"\\nОсобенности (слова) в матрице TF-IDF:\")\n",
    "print(vectorizer.get_feature_names_out())"
   ]
  },
  {
   "cell_type": "markdown",
   "id": "6e4dfa68",
   "metadata": {},
   "source": [
    "Этот код демонстрирует базовые шаги предобработки и векторизации текста."
   ]
  }
 ],
 "metadata": {
  "kernelspec": {
   "display_name": "Python 3 (ipykernel)",
   "language": "python",
   "name": "python3"
  },
  "language_info": {
   "codemirror_mode": {
    "name": "ipython",
    "version": 3
   },
   "file_extension": ".py",
   "mimetype": "text/x-python",
   "name": "python",
   "nbconvert_exporter": "python",
   "pygments_lexer": "ipython3",
   "version": "3.12.3"
  }
 },
 "nbformat": 4,
 "nbformat_minor": 5
}
