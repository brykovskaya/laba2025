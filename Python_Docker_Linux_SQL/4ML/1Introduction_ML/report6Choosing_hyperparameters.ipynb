{
 "cells": [
  {
   "cell_type": "markdown",
   "id": "668fbb4a",
   "metadata": {},
   "source": [
    "## 👨🏻‍💻 Практика - Выбор гиперпараметров \n",
    "Оптимизация гиперпараметров модели с помощью перекрестной проверки\n",
    "\n",
    "✔️**Решение:**\n",
    "Использован датасет [sales.csv](./files/sales.csv)\n",
    "### ✔ Импорт библиотек: \n",
    "Импортируем все необходимые библиотеки"
   ]
  },
  {
   "cell_type": "code",
   "execution_count": 1,
   "id": "827030b6",
   "metadata": {},
   "outputs": [],
   "source": [
    "# Шаг 1: Импорт необходимых библиотек\n",
    "from sklearn.datasets import load_iris\n",
    "from sklearn.model_selection import train_test_split, GridSearchCV\n",
    "from sklearn.svm import SVC\n",
    "from sklearn.metrics import accuracy_score"
   ]
  },
  {
   "cell_type": "code",
   "execution_count": 2,
   "id": "9b4a8729",
   "metadata": {},
   "outputs": [],
   "source": [
    "# Шаг 2: Загрузка и подготовка данных\n",
    "# В этом примере мы будем использовать набор данных Iris из scikit-learn.\n",
    "# Загрузка данных\n",
    "iris = load_iris()\n",
    "X = iris.data\n",
    "y = iris.target\n",
    "\n",
    "# Разделение данных на обучающий и тестовый наборы\n",
    "X_train, X_test, y_train, y_test = (\n",
    "    train_test_split(X, y, test_size=0.2, random_state=1))"
   ]
  },
  {
   "cell_type": "code",
   "execution_count": 3,
   "id": "582ba1b1",
   "metadata": {},
   "outputs": [],
   "source": [
    "# Шаг 3: Создание модели и определение сетки гиперпараметров\n",
    "# Создадим модель SVM (Support Vector Machine) \n",
    "# и определим сетку гиперпараметров, которые мы хотим оптимизировать.\n",
    "# Создание модели SVM\n",
    "model = SVC()\n",
    "# Определение сетки гиперпараметров\n",
    "param_grid = {'C': [0.1, 1, 10],\n",
    "              'gamma': [0.01, 0.1, 1],\n",
    "              'kernel': ['linear', 'rbf']}"
   ]
  },
  {
   "cell_type": "code",
   "execution_count": 4,
   "id": "d0b8ca32",
   "metadata": {},
   "outputs": [
    {
     "name": "stdout",
     "output_type": "stream",
     "text": [
      "Лучшие гиперпараметры: {'C': 1, 'gamma': 0.01, 'kernel': 'linear'}\n"
     ]
    }
   ],
   "source": [
    "# Шаг 4: Оптимизация гиперпараметров с помощью GridSearchCV\n",
    "# Используем GridSearchCV для поиска наилучшей комбинации гиперпараметров \n",
    "# из заданной сетки с использованием перекрестной проверки.\n",
    "# Создание объекта GridSearchCV\n",
    "grid_search = GridSearchCV(estimator=model,\n",
    "                           param_grid=param_grid,\n",
    "                           cv=5,\n",
    "                           scoring='accuracy')\n",
    "\n",
    "# Подгонка модели на обучающих данных\n",
    "grid_search.fit(X_train, y_train)\n",
    "# Вывод лучших гиперпараметров\n",
    "print(\"Лучшие гиперпараметры:\", grid_search.best_params_)"
   ]
  },
  {
   "cell_type": "code",
   "execution_count": 5,
   "id": "adda8521",
   "metadata": {},
   "outputs": [
    {
     "name": "stdout",
     "output_type": "stream",
     "text": [
      "Точность на тестовом наборе: 1.0\n"
     ]
    }
   ],
   "source": [
    "# Шаг 5: Оценка модели с лучшими гиперпараметрами\n",
    "# Получим лучшую модель из GridSearchCV и оценим \n",
    "# ее производительность на тестовом наборе данных.\n",
    "# Получение лучшей модели\n",
    "best_model = grid_search.best_estimator_\n",
    "# Предсказание на тестовом наборе данных\n",
    "y_pred = best_model.predict(X_test)\n",
    "\n",
    "# Оценка точности модели\n",
    "accuracy = accuracy_score(y_test, y_pred)\n",
    "print(\"Точность на тестовом наборе:\", accuracy)"
   ]
  }
 ],
 "metadata": {
  "kernelspec": {
   "display_name": "Python 3 (ipykernel)",
   "language": "python",
   "name": "python3"
  },
  "language_info": {
   "codemirror_mode": {
    "name": "ipython",
    "version": 3
   },
   "file_extension": ".py",
   "mimetype": "text/x-python",
   "name": "python",
   "nbconvert_exporter": "python",
   "pygments_lexer": "ipython3",
   "version": "3.12.3"
  }
 },
 "nbformat": 4,
 "nbformat_minor": 5
}
