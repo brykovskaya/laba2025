{
 "cells": [
  {
   "cell_type": "markdown",
   "id": "9e4185ac",
   "metadata": {},
   "source": [
    "## 👨🏻‍💻 Практика - Масштабирование признаков\n",
    "## 👨🏻‍💻 Практика - Заполнение пропущенных значений\n",
    "![](../images/01_01.png)\n",
    "\n",
    "✔️**Решение:**\n",
    "Использован датасет Titanic \n",
    "### ✔ Импорт библиотек: \n",
    "Импортируем все необходимые библиотеки"
   ]
  },
  {
   "cell_type": "code",
   "execution_count": 1,
   "id": "16a4916e",
   "metadata": {},
   "outputs": [],
   "source": [
    "import pandas as pd\n",
    "# графики\n",
    "import matplotlib.pyplot as plt\n",
    "import seaborn as sns\n",
    "# для разделения данных\n",
    "from sklearn.model_selection import train_test_split\n",
    "# для создания модели\n",
    "from sklearn.linear_model import LinearRegression, LogisticRegression\n",
    "# для оценки качества\n",
    "from sklearn.metrics import mean_squared_error, accuracy_score\n",
    "# для стандартизации набора данных(вычитание ср.знач.и деления на станд.откл)\n",
    "# программирование категориальных переменных как двоичных векторов.\n",
    "from sklearn.preprocessing import StandardScaler, OneHotEncoder, MinMaxScaler\n",
    "# Восстановление (импутация) данных с помощью Python\n",
    "from sklearn.impute import SimpleImputer\n",
    "# преобразования к определённым столбцам внутри набора данных\n",
    "from sklearn.compose import ColumnTransformer \n",
    "# для создания конвейера шагов предв.обработки данных и моделирования.\n",
    "from sklearn.pipeline import Pipeline"
   ]
  },
  {
   "cell_type": "markdown",
   "id": "1f1b41a3",
   "metadata": {},
   "source": [
    "### ✔1. Загрузка и подготовка данных: \n",
    "Загружаем данные - запишем в датафрейм датасет Titanic из библиотеки сиборна."
   ]
  },
  {
   "cell_type": "code",
   "execution_count": 10,
   "id": "33d07154",
   "metadata": {},
   "outputs": [
    {
     "data": {
      "text/html": [
       "<div>\n",
       "<style scoped>\n",
       "    .dataframe tbody tr th:only-of-type {\n",
       "        vertical-align: middle;\n",
       "    }\n",
       "\n",
       "    .dataframe tbody tr th {\n",
       "        vertical-align: top;\n",
       "    }\n",
       "\n",
       "    .dataframe thead th {\n",
       "        text-align: right;\n",
       "    }\n",
       "</style>\n",
       "<table border=\"1\" class=\"dataframe\">\n",
       "  <thead>\n",
       "    <tr style=\"text-align: right;\">\n",
       "      <th></th>\n",
       "      <th>survived</th>\n",
       "      <th>pclass</th>\n",
       "      <th>sex</th>\n",
       "      <th>age</th>\n",
       "      <th>sibsp</th>\n",
       "      <th>parch</th>\n",
       "      <th>fare</th>\n",
       "      <th>embarked</th>\n",
       "      <th>class</th>\n",
       "      <th>who</th>\n",
       "      <th>adult_male</th>\n",
       "      <th>deck</th>\n",
       "      <th>embark_town</th>\n",
       "      <th>alive</th>\n",
       "      <th>alone</th>\n",
       "    </tr>\n",
       "  </thead>\n",
       "  <tbody>\n",
       "    <tr>\n",
       "      <th>0</th>\n",
       "      <td>0</td>\n",
       "      <td>3</td>\n",
       "      <td>male</td>\n",
       "      <td>22.0</td>\n",
       "      <td>1</td>\n",
       "      <td>0</td>\n",
       "      <td>7.2500</td>\n",
       "      <td>S</td>\n",
       "      <td>Third</td>\n",
       "      <td>man</td>\n",
       "      <td>True</td>\n",
       "      <td>NaN</td>\n",
       "      <td>Southampton</td>\n",
       "      <td>no</td>\n",
       "      <td>False</td>\n",
       "    </tr>\n",
       "    <tr>\n",
       "      <th>1</th>\n",
       "      <td>1</td>\n",
       "      <td>1</td>\n",
       "      <td>female</td>\n",
       "      <td>38.0</td>\n",
       "      <td>1</td>\n",
       "      <td>0</td>\n",
       "      <td>71.2833</td>\n",
       "      <td>C</td>\n",
       "      <td>First</td>\n",
       "      <td>woman</td>\n",
       "      <td>False</td>\n",
       "      <td>C</td>\n",
       "      <td>Cherbourg</td>\n",
       "      <td>yes</td>\n",
       "      <td>False</td>\n",
       "    </tr>\n",
       "    <tr>\n",
       "      <th>2</th>\n",
       "      <td>1</td>\n",
       "      <td>3</td>\n",
       "      <td>female</td>\n",
       "      <td>26.0</td>\n",
       "      <td>0</td>\n",
       "      <td>0</td>\n",
       "      <td>7.9250</td>\n",
       "      <td>S</td>\n",
       "      <td>Third</td>\n",
       "      <td>woman</td>\n",
       "      <td>False</td>\n",
       "      <td>NaN</td>\n",
       "      <td>Southampton</td>\n",
       "      <td>yes</td>\n",
       "      <td>True</td>\n",
       "    </tr>\n",
       "    <tr>\n",
       "      <th>3</th>\n",
       "      <td>1</td>\n",
       "      <td>1</td>\n",
       "      <td>female</td>\n",
       "      <td>35.0</td>\n",
       "      <td>1</td>\n",
       "      <td>0</td>\n",
       "      <td>53.1000</td>\n",
       "      <td>S</td>\n",
       "      <td>First</td>\n",
       "      <td>woman</td>\n",
       "      <td>False</td>\n",
       "      <td>C</td>\n",
       "      <td>Southampton</td>\n",
       "      <td>yes</td>\n",
       "      <td>False</td>\n",
       "    </tr>\n",
       "    <tr>\n",
       "      <th>4</th>\n",
       "      <td>0</td>\n",
       "      <td>3</td>\n",
       "      <td>male</td>\n",
       "      <td>35.0</td>\n",
       "      <td>0</td>\n",
       "      <td>0</td>\n",
       "      <td>8.0500</td>\n",
       "      <td>S</td>\n",
       "      <td>Third</td>\n",
       "      <td>man</td>\n",
       "      <td>True</td>\n",
       "      <td>NaN</td>\n",
       "      <td>Southampton</td>\n",
       "      <td>no</td>\n",
       "      <td>True</td>\n",
       "    </tr>\n",
       "  </tbody>\n",
       "</table>\n",
       "</div>"
      ],
      "text/plain": [
       "   survived  pclass     sex   age  sibsp  parch     fare embarked  class  \\\n",
       "0         0       3    male  22.0      1      0   7.2500        S  Third   \n",
       "1         1       1  female  38.0      1      0  71.2833        C  First   \n",
       "2         1       3  female  26.0      0      0   7.9250        S  Third   \n",
       "3         1       1  female  35.0      1      0  53.1000        S  First   \n",
       "4         0       3    male  35.0      0      0   8.0500        S  Third   \n",
       "\n",
       "     who  adult_male deck  embark_town alive  alone  \n",
       "0    man        True  NaN  Southampton    no  False  \n",
       "1  woman       False    C    Cherbourg   yes  False  \n",
       "2  woman       False  NaN  Southampton   yes   True  \n",
       "3  woman       False    C  Southampton   yes  False  \n",
       "4    man        True  NaN  Southampton    no   True  "
      ]
     },
     "execution_count": 10,
     "metadata": {},
     "output_type": "execute_result"
    }
   ],
   "source": [
    "data = sns.load_dataset(\"titanic\")\n",
    "data.head()"
   ]
  },
  {
   "cell_type": "code",
   "execution_count": 11,
   "id": "9fe3e938",
   "metadata": {},
   "outputs": [
    {
     "name": "stdout",
     "output_type": "stream",
     "text": [
      "<class 'pandas.core.frame.DataFrame'>\n",
      "RangeIndex: 891 entries, 0 to 890\n",
      "Data columns (total 15 columns):\n",
      " #   Column       Non-Null Count  Dtype   \n",
      "---  ------       --------------  -----   \n",
      " 0   survived     891 non-null    int64   \n",
      " 1   pclass       891 non-null    int64   \n",
      " 2   sex          891 non-null    object  \n",
      " 3   age          714 non-null    float64 \n",
      " 4   sibsp        891 non-null    int64   \n",
      " 5   parch        891 non-null    int64   \n",
      " 6   fare         891 non-null    float64 \n",
      " 7   embarked     889 non-null    object  \n",
      " 8   class        891 non-null    category\n",
      " 9   who          891 non-null    object  \n",
      " 10  adult_male   891 non-null    bool    \n",
      " 11  deck         203 non-null    category\n",
      " 12  embark_town  889 non-null    object  \n",
      " 13  alive        891 non-null    object  \n",
      " 14  alone        891 non-null    bool    \n",
      "dtypes: bool(2), category(2), float64(2), int64(4), object(5)\n",
      "memory usage: 80.7+ KB\n"
     ]
    }
   ],
   "source": [
    "data.info()"
   ]
  },
  {
   "cell_type": "markdown",
   "id": "386e1c93",
   "metadata": {},
   "source": [
    "### ✔ 2. Разделение на признаки и целевую переменную: \n",
    "Указываем, какие столбцы в данных являются признаками (X) и какой столбец - целевой переменной (y).  \n",
    "Предположим, что 'survived' - выживший (0 - не выжил, 1 - выжил), а остальные столбцы - признаки - отберем только несколько столбов из датасета"
   ]
  },
  {
   "cell_type": "code",
   "execution_count": 12,
   "id": "02c5de84",
   "metadata": {},
   "outputs": [],
   "source": [
    "# Характеристики и целевая переменная\n",
    "X = data[['pclass', 'sex', 'age', 'sibsp', 'parch', 'fare']]\n",
    "y = data['survived']"
   ]
  },
  {
   "cell_type": "code",
   "execution_count": 13,
   "id": "de7980b1",
   "metadata": {},
   "outputs": [],
   "source": [
    "# Удаляем строки с отсутствующими \"Survived\" значениями\n",
    "data = data.dropna(subset=['survived'])\n",
    "\n",
    "# кодируем столбец  'Sex'\n",
    "X.loc[:, 'sex'] = X['sex'].map({'female': 0, 'male': 1})\n",
    "\n",
    "# Заполняем недостающие значения \"Возраста\" медианой\n",
    "median_value = X['age'].median()\n",
    "X['age'] = X['age'].fillna(median_value) "
   ]
  },
  {
   "cell_type": "markdown",
   "id": "514bc187",
   "metadata": {},
   "source": [
    "### ✔ 3. Разделение на обучающую и тестовую выборки: \n",
    "Разделяем данные на обучающую и тестовую выборки в соотношении 80/20. \n",
    "\n",
    "random_state используется для воспроизводимости результатов."
   ]
  },
  {
   "cell_type": "code",
   "execution_count": 14,
   "id": "c6ecaa2b",
   "metadata": {},
   "outputs": [],
   "source": [
    "X_train, X_test, y_train, y_test = (\n",
    "    train_test_split(X, y, \n",
    "                     test_size=0.2, \n",
    "                     random_state=1))"
   ]
  },
  {
   "cell_type": "markdown",
   "id": "55ed964d",
   "metadata": {},
   "source": [
    "### ✔4. Создание конвейера предобработки данных\n",
    "Используем MinMaxScaler() для масштабирования числовых признаков в диапазон 0, 1."
   ]
  },
  {
   "cell_type": "markdown",
   "id": "61100a25",
   "metadata": {},
   "source": [
    "#### ✔ 4.1  Числовые признаки\n",
    "Запишем в переменные списки с названиями столбцов с числовыми и категориальными данными из датасета"
   ]
  },
  {
   "cell_type": "code",
   "execution_count": 15,
   "id": "a668a1ff",
   "metadata": {},
   "outputs": [],
   "source": [
    "# Числовые признаки\n",
    "numeric_features = ['age','fare']\n",
    "# Используем MinMaxScaler() для масштабирования числовых признаков в диапазон 0, 1.\n",
    "numeric_transformer = Pipeline(steps =[\n",
    "    ('imputer',SimpleImputer(strategy='mean')),\n",
    "    ('scaler',MinMaxScaler())     \n",
    "])"
   ]
  },
  {
   "cell_type": "markdown",
   "id": "bfdb25a5",
   "metadata": {},
   "source": [
    "#### ✔ 4.2  Категориальные признаки "
   ]
  },
  {
   "cell_type": "code",
   "execution_count": 16,
   "id": "a43d94fc",
   "metadata": {},
   "outputs": [],
   "source": [
    "# Категориальные признаки \n",
    "categorical_features = ['pclass','sex']\n",
    "# Категориальные признаки (заполнение пропусков, one-hot encoding)\n",
    "categorical_transformer = Pipeline(steps=[\n",
    "    ('imputer', SimpleImputer(strategy='most_frequent')),\n",
    "    ('onehot', OneHotEncoder(handle_unknown='ignore'))\n",
    "])"
   ]
  },
  {
   "cell_type": "markdown",
   "id": "81184517",
   "metadata": {},
   "source": [
    "#### ✔ 4.3 Объединение всех преобразований"
   ]
  },
  {
   "cell_type": "code",
   "execution_count": 17,
   "id": "45cbdcb2",
   "metadata": {},
   "outputs": [],
   "source": [
    "# Объединение всех преобразований\n",
    "preprocessor = ColumnTransformer(\n",
    "    transformers=[\n",
    "        ('num', numeric_transformer, numeric_features),\n",
    "        ('cat', categorical_transformer, categorical_features)\n",
    "    ])"
   ]
  },
  {
   "cell_type": "markdown",
   "id": "2740fe77",
   "metadata": {},
   "source": [
    "###  ✔ 5.Создание конвейера модели (логистическая регрессия)\n"
   ]
  },
  {
   "cell_type": "code",
   "execution_count": 18,
   "id": "67bab48f",
   "metadata": {},
   "outputs": [],
   "source": [
    "# логистическая регрессия\n",
    "model_pipeline_logreg = Pipeline(steps=[\n",
    "    ('preprocessor', preprocessor),\n",
    "    ('model', LogisticRegression())\n",
    "])"
   ]
  },
  {
   "cell_type": "markdown",
   "id": "34c18f59",
   "metadata": {},
   "source": [
    "### ✔ 6 Обучение и оценка моделей для логистической регрессий\n",
    "#### ✔ 6.1 Логистическая регрессия - обучение и оценка на необработанных данных\n"
   ]
  },
  {
   "cell_type": "code",
   "execution_count": 19,
   "id": "e210cb7d",
   "metadata": {},
   "outputs": [
    {
     "name": "stdout",
     "output_type": "stream",
     "text": [
      "Accuracy (Логистическая регрессия без обработки): 0.7989\n"
     ]
    }
   ],
   "source": [
    "# Логистическая регрессия - обучение и оценка на необработанных данных\n",
    "\n",
    "model_logreg_no_preprocessing = LogisticRegression()\n",
    "model_logreg_no_preprocessing.fit(X_train, y_train)\n",
    "\n",
    "y_pred_logreg_no_preprocessing = (\n",
    "    model_logreg_no_preprocessing.predict(X_test))\n",
    "\n",
    "accuracy_logreg_no_preprocessing = (\n",
    "    accuracy_score(y_test, y_pred_logreg_no_preprocessing))\n",
    "\n",
    "print(f\"Accuracy (Логистическая регрессия без обработки\\\n",
    "): {accuracy_logreg_no_preprocessing:.4f}\")"
   ]
  },
  {
   "cell_type": "markdown",
   "id": "5cfb5c46",
   "metadata": {},
   "source": [
    "#### ✔ 6.2 Логистическая регрессия - обучение и оценка на обработанных данных"
   ]
  },
  {
   "cell_type": "code",
   "execution_count": 22,
   "id": "4c6be2d6",
   "metadata": {},
   "outputs": [
    {
     "name": "stdout",
     "output_type": "stream",
     "text": [
      "Accuracy (Логистическая регрессия с обработкой): 0.7877\n"
     ]
    }
   ],
   "source": [
    "# Логистическая регрессия - обучение и оценка на обработанных данных\n",
    "\n",
    "model_logreg = model_pipeline_logreg.fit(X_train, y_train)\n",
    "y_pred_logreg = model_logreg.predict(X_test)\n",
    "accuracy_logreg = accuracy_score(y_test, y_pred_logreg)\n",
    "print(f\"Accuracy (Логистическая регрессия с обработкой\\\n",
    "): {accuracy_logreg:.4f}\")"
   ]
  },
  {
   "cell_type": "markdown",
   "id": "ad8b91ef",
   "metadata": {},
   "source": [
    "### 7 ✔ Сравнение результатов"
   ]
  },
  {
   "cell_type": "markdown",
   "id": "920064e6",
   "metadata": {},
   "source": [
    "#### ✔ Сравнение метрик модели  логистической регрессий\n",
    "Сравниваем метрики для моделей с масштабированием и без него, чтобы оценить влияние масштабирования признаков.\n",
    "    "
   ]
  },
  {
   "cell_type": "code",
   "execution_count": 24,
   "id": "411c8b3f",
   "metadata": {},
   "outputs": [
    {
     "name": "stdout",
     "output_type": "stream",
     "text": [
      "Модель без масштабирования лучше: Accuracy 0.7989 > 0.7877\n"
     ]
    }
   ],
   "source": [
    "if accuracy_logreg_no_preprocessing > accuracy_logreg:\n",
    "    print(f\"Модель без масштабирования лучше: \\\n",
    "Accuracy {accuracy_logreg_no_preprocessing:.4f} > {accuracy_logreg:.4f}\")\n",
    "elif accuracy_logreg_no_preprocessing < accuracy_logreg:\n",
    "    print(f\"Модель с масштабированием лучше: \\\n",
    "Accuracy {accuracy_logreg:.4f} > {accuracy_logreg_no_preprocessing:.4f}\")\n",
    "else:\n",
    "    print(f\"Обе модели имеют одинаковую точность\\\n",
    "Accuracy: {accuracy_logreg_no_preprocessing:.4f} = {accuracy_logreg_no_preprocessing:.4f}\")"
   ]
  }
 ],
 "metadata": {
  "kernelspec": {
   "display_name": "Python 3 (ipykernel)",
   "language": "python",
   "name": "python3"
  },
  "language_info": {
   "codemirror_mode": {
    "name": "ipython",
    "version": 3
   },
   "file_extension": ".py",
   "mimetype": "text/x-python",
   "name": "python",
   "nbconvert_exporter": "python",
   "pygments_lexer": "ipython3",
   "version": "3.12.3"
  }
 },
 "nbformat": 4,
 "nbformat_minor": 5
}
