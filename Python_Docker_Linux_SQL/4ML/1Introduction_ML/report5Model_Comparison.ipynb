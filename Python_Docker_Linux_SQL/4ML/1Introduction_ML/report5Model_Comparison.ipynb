{
 "cells": [
  {
   "cell_type": "markdown",
   "id": "9e4185ac",
   "metadata": {},
   "source": [
    "## 👨🏻‍💻 Практика - Сравнение моделей \n",
    "Использование метрик качества для сравнения производительности различных моделей машинного обучения.\n",
    "\n",
    "Выбор солвера: Экспериментируйте с разными солверами для логистической регрессии, чтобы найти наиболее подходящий для ваших данных.\n",
    "\n",
    "Визуализация результатов: Визуализируйте результаты сравнения моделей (например, с помощью боксплотов для кросс-валидации или ROC-кривых для классификации), чтобы сделать вывод более наглядным.\n",
    "\n",
    "✔️**Решение:**\n",
    "Использован датасет [sales.csv](./files/sales.csv)\n",
    "### ✔ Импорт библиотек: \n",
    "Импортируем все необходимые библиотеки"
   ]
  },
  {
   "cell_type": "code",
   "execution_count": 1,
   "id": "0e6fa63f",
   "metadata": {},
   "outputs": [],
   "source": [
    "import pandas as pd\n",
    "from sklearn.model_selection import train_test_split, GridSearchCV, cross_val_score\n",
    "from sklearn.linear_model import LinearRegression, LogisticRegression\n",
    "from sklearn.metrics import mean_squared_error, accuracy_score, make_scorer"
   ]
  },
  {
   "cell_type": "code",
   "execution_count": 2,
   "id": "a232863c",
   "metadata": {},
   "outputs": [
    {
     "data": {
      "text/html": [
       "<div>\n",
       "<style scoped>\n",
       "    .dataframe tbody tr th:only-of-type {\n",
       "        vertical-align: middle;\n",
       "    }\n",
       "\n",
       "    .dataframe tbody tr th {\n",
       "        vertical-align: top;\n",
       "    }\n",
       "\n",
       "    .dataframe thead th {\n",
       "        text-align: right;\n",
       "    }\n",
       "</style>\n",
       "<table border=\"1\" class=\"dataframe\">\n",
       "  <thead>\n",
       "    <tr style=\"text-align: right;\">\n",
       "      <th></th>\n",
       "      <th>sales</th>\n",
       "      <th>ad_spend</th>\n",
       "      <th>stores</th>\n",
       "    </tr>\n",
       "  </thead>\n",
       "  <tbody>\n",
       "    <tr>\n",
       "      <th>0</th>\n",
       "      <td>349.998247</td>\n",
       "      <td>43.708611</td>\n",
       "      <td>36</td>\n",
       "    </tr>\n",
       "    <tr>\n",
       "      <th>1</th>\n",
       "      <td>485.616900</td>\n",
       "      <td>95.564288</td>\n",
       "      <td>43</td>\n",
       "    </tr>\n",
       "    <tr>\n",
       "      <th>2</th>\n",
       "      <td>432.109601</td>\n",
       "      <td>75.879455</td>\n",
       "      <td>36</td>\n",
       "    </tr>\n",
       "    <tr>\n",
       "      <th>3</th>\n",
       "      <td>246.479411</td>\n",
       "      <td>63.879264</td>\n",
       "      <td>8</td>\n",
       "    </tr>\n",
       "    <tr>\n",
       "      <th>4</th>\n",
       "      <td>272.338906</td>\n",
       "      <td>24.041678</td>\n",
       "      <td>34</td>\n",
       "    </tr>\n",
       "  </tbody>\n",
       "</table>\n",
       "</div>"
      ],
      "text/plain": [
       "        sales   ad_spend  stores\n",
       "0  349.998247  43.708611      36\n",
       "1  485.616900  95.564288      43\n",
       "2  432.109601  75.879455      36\n",
       "3  246.479411  63.879264       8\n",
       "4  272.338906  24.041678      34"
      ]
     },
     "execution_count": 2,
     "metadata": {},
     "output_type": "execute_result"
    }
   ],
   "source": [
    "# 1. Загрузка и подготовка данных (замените 'data.csv' на имя вашего файла)\n",
    "data = pd.read_csv(r'C:\\Users\\79181\\n.brykovskaya\\module_2\\4ML\\1Introduction_ML\\files\\sales.csv')\n",
    "data.head()"
   ]
  },
  {
   "cell_type": "code",
   "execution_count": 3,
   "id": "39abadd3",
   "metadata": {},
   "outputs": [],
   "source": [
    "# 2. Разделение на признаки и целевую переменную\n",
    "# Предположим, что 'stores' - целевая переменная\n",
    "X = data.drop('stores', axis=1)\n",
    "y = data['stores']"
   ]
  },
  {
   "cell_type": "code",
   "execution_count": 4,
   "id": "48f0ad62",
   "metadata": {},
   "outputs": [],
   "source": [
    "# 3. Разделение на обучающую и тестовую выборки\n",
    "X_train, X_test, y_train, y_test = (\n",
    "    train_test_split(X, y, test_size=0.2, random_state=42)\n",
    ")"
   ]
  },
  {
   "cell_type": "code",
   "execution_count": 5,
   "id": "0ada01ab",
   "metadata": {},
   "outputs": [],
   "source": [
    "# 4. Определение моделей и гиперпараметров для перебора\n",
    "models = [\n",
    "    {\n",
    "        'name': 'Linear Regression',\n",
    "        'model': LinearRegression(),\n",
    "        'params': {\n",
    "           'fit_intercept': [True, False]\n",
    "        }\n",
    "    },\n",
    "    {\n",
    "        'name': 'Logistic Regression',\n",
    "        'model': LogisticRegression(),\n",
    "        'params': {\n",
    "            'penalty': ['l1', 'l2'],\n",
    "            'C': [0.1, 1, 10],\n",
    "            'solver': ['liblinear', 'saga']  # Добавлено несколько вариантов солверов\n",
    "        }\n",
    "    }\n",
    "]"
   ]
  },
  {
   "cell_type": "code",
   "execution_count": 6,
   "id": "72eef192",
   "metadata": {},
   "outputs": [
    {
     "name": "stdout",
     "output_type": "stream",
     "text": [
      "Оценка модели: Linear Regression\n",
      "Лучшие параметры: {'fit_intercept': True}\n",
      "Лучший результат (кросс-валидация): -14.916362197545851\n",
      "------------------------------\n",
      "Оценка модели: Logistic Regression\n",
      "Лучшие параметры: {'C': 10, 'penalty': 'l1', 'solver': 'liblinear'}\n",
      "Лучший результат (кросс-валидация): 0.125\n",
      "------------------------------\n"
     ]
    },
    {
     "name": "stderr",
     "output_type": "stream",
     "text": [
      "C:\\Users\\79181\\anaconda3\\Lib\\site-packages\\sklearn\\model_selection\\_split.py:805: UserWarning: The least populated class in y has only 1 members, which is less than n_splits=5.\n",
      "  warnings.warn(\n",
      "C:\\Users\\79181\\anaconda3\\Lib\\site-packages\\sklearn\\svm\\_base.py:1249: ConvergenceWarning: Liblinear failed to converge, increase the number of iterations.\n",
      "  warnings.warn(\n"
     ]
    }
   ],
   "source": [
    "# 5. Перекрестная проверка и оценка моделей\n",
    "results = []\n",
    "for model_config in models:\n",
    "    print(f\"Оценка модели: {model_config['name']}\")\n",
    "    # Определение метрики качества\n",
    "    if model_config['name'] == 'Linear Regression':\n",
    "        scoring = 'neg_mean_squared_error' # Используем встроенный негативный MSE\n",
    "    else:\n",
    "        scoring = 'accuracy'\n",
    "\n",
    "    # GridSearchCV для перебора гиперпараметров и кросс-валидации\n",
    "    grid_search = GridSearchCV(\n",
    "        estimator=model_config['model'],\n",
    "        param_grid=model_config['params'],\n",
    "        scoring=scoring,\n",
    "        cv=5,  # 5-fold cross-validation\n",
    "        n_jobs=-1  # Использовать все доступные ядра процессора\n",
    "    )\n",
    "    grid_search.fit(X_train, y_train)\n",
    "\n",
    "    # Сохранение результатов\n",
    "    results.append({\n",
    "        'model': model_config['name'],\n",
    "        'best_params': grid_search.best_params_,\n",
    "        'best_score': grid_search.best_score_,\n",
    "        'best_estimator': grid_search.best_estimator_\n",
    "    })\n",
    "\n",
    "    # Вывод результатов\n",
    "    print(f\"Лучшие параметры: {grid_search.best_params_}\")\n",
    "    print(f\"Лучший результат (кросс-валидация): {grid_search.best_score_}\")\n",
    "    print(\"-\" * 30)"
   ]
  },
  {
   "cell_type": "code",
   "execution_count": 7,
   "id": "60435353",
   "metadata": {},
   "outputs": [
    {
     "name": "stdout",
     "output_type": "stream",
     "text": [
      "Лучшая модель:\n",
      "Модель: Logistic Regression\n",
      "Параметры: {'C': 10, 'penalty': 'l1', 'solver': 'liblinear'}\n",
      "Результат: 0.125\n"
     ]
    }
   ],
   "source": [
    "# 6. Выбор лучшей модели (сравнение результатов)\n",
    "best_model = max(results, key=lambda x: x['best_score'])\n",
    "\n",
    "print(\"Лучшая модель:\")\n",
    "print(f\"Модель: {best_model['model']}\")\n",
    "print(f\"Параметры: {best_model['best_params']}\")\n",
    "print(f\"Результат: {best_model['best_score']}\")"
   ]
  },
  {
   "cell_type": "code",
   "execution_count": 8,
   "id": "d9ead2bd",
   "metadata": {},
   "outputs": [
    {
     "name": "stdout",
     "output_type": "stream",
     "text": [
      "Accuracy (тестовая выборка): 0.15\n"
     ]
    }
   ],
   "source": [
    "# Оценка на тестовой выборке\n",
    "best_estimator = best_model['best_estimator']\n",
    "y_pred = best_estimator.predict(X_test)\n",
    "\n",
    "if best_model['model'] == 'Linear Regression':\n",
    "    mse = mean_squared_error(y_test, y_pred)\n",
    "    print(f\"MSE (тестовая выборка): {mse}\")\n",
    "else:\n",
    "    accuracy = accuracy_score(y_test, y_pred)\n",
    "    print(f\"Accuracy (тестовая выборка): {accuracy}\")"
   ]
  }
 ],
 "metadata": {
  "kernelspec": {
   "display_name": "Python 3 (ipykernel)",
   "language": "python",
   "name": "python3"
  },
  "language_info": {
   "codemirror_mode": {
    "name": "ipython",
    "version": 3
   },
   "file_extension": ".py",
   "mimetype": "text/x-python",
   "name": "python",
   "nbconvert_exporter": "python",
   "pygments_lexer": "ipython3",
   "version": "3.12.3"
  }
 },
 "nbformat": 4,
 "nbformat_minor": 5
}
